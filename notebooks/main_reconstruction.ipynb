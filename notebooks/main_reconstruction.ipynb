{
 "cells": [
  {
   "cell_type": "code",
   "execution_count": null,
   "metadata": {},
   "outputs": [],
   "source": [
    "import os\n",
    "import sys\n",
    "import numpy as np\n",
    "import matplotlib.pyplot as plt\n",
    "import cv2\n",
    "import yaml\n",
    "import open3d as o3d\n",
    "from tqdm.notebook import tqdm\n",
    "import random\n",
    "\n",
    "random.seed(42)\n",
    "np.random.seed(42)\n",
    "cv2.setRNGSeed(42)\n",
    "\n",
    "# Add the project directory to the Python path\n",
    "sys.path.append('..')\n",
    "\n",
    "# Import project modules\n",
    "from src.preprocessing.image_loader import load_image_sequence, resize_images\n",
    "from src.preprocessing.image_preprocessing import enhance_contrast\n",
    "from src.feature_extraction.sift_extractor import extract_features_from_image_set\n",
    "from src.feature_extraction.orb_extractor import extract_distributed_orb_features, extract_orb_features\n",
    "from src.feature_extraction.feature_matcher import match_image_pairs, geometric_verification\n",
    "from src.sfm.camera_calibration import estimate_camera_matrix\n",
    "from src.sfm.pose_estimation import estimate_poses_incremental, force_loop_closure\n",
    "from src.sfm.triangulation import triangulate_all_points, merge_triangulated_points\n",
    "from src.sfm.bundle_adjustment import run_global_ba\n",
    "from src.dense_reconstruction.mvs import process_mvs\n",
    "from src.dense_reconstruction.point_cloud import process_dense_reconstruction, create_surface_mesh, save_mesh\n",
    "from src.surface_reconstruction.mesh_generation import process_point_cloud_to_mesh, clean_mesh\n",
    "from src.surface_reconstruction.texture_mapping import create_textured_mesh_from_point_cloud\n",
    "\n",
    "\n",
    "from src.visualization.plot_matches import plot_matches, plot_feature_matching_analysis\n",
    "from src.visualization.point_cloud_visualizer import plot_interactive_point_cloud, create_point_cloud_animation\n",
    "from src.visualization.camera_visualizer import plot_interactive_camera_poses\n",
    "from src.visualization.mesh_visualizer import visualize_mesh_o3d, plot_interactive_mesh\n",
    "\n",
    "# Set up matplotlib for inline display\n",
    "%matplotlib inline\n",
    "# For newer matplotlib versions (3.6+)\n",
    "plt.style.use('default')"
   ]
  },
  {
   "cell_type": "code",
   "execution_count": null,
   "metadata": {},
   "outputs": [],
   "source": [
    "# Define configuration\n",
    "config = {\n",
    "    \"preprocessing\": {\n",
    "        \"resize_max_dimension\": 1000,\n",
    "        \"enhance_contrast\": True\n",
    "    },\n",
    "    \"features\": {\n",
    "        \"method\": \"sift\",\n",
    "        \"max_features\": 50000,\n",
    "        \"use_multiscale\": True,\n",
    "        \"use_dense\": True,\n",
    "        \"dense_step\": 5,\n",
    "        \"contrast_threshold\": 0.01,\n",
    "        \"edge_threshold\": 8\n",
    "    },\n",
    "    \"matching\": {\n",
    "        \"ratio_threshold\": 0.7,\n",
    "        \"geometric_verification\": True,\n",
    "        \"min_matches\": 10,\n",
    "        \"verification_method\": \"fundamental\",\n",
    "        \"ransac_threshold\": 2.0,\n",
    "        \"cross_check\": True,\n",
    "        \"max_epipolar_error\": 1.0,\n",
    "        \"confidence\": 0.999\n",
    "    },\n",
    "    \"calibration\": {\n",
    "        \"focal_length_factor\": 1.3,\n",
    "        \"principal_point\": \"center\",\n",
    "        \"refine_intrinsics\": True\n",
    "    },\n",
    "    \"sfm\": {\n",
    "        \"incremental\": True,\n",
    "        \"refine_poses\": True,\n",
    "        \"min_triangulation_angle_deg\": 2.0,\n",
    "        \"reprojection_error_threshold\": 2.0,\n",
    "        \"bundle_adjustment_max_iterations\": 100,\n",
    "        \"max_reprojection_error\": 3.0,\n",
    "        \"merge_threshold\": 0.001\n",
    "    },\n",
    "    \"mvs\": {\n",
    "        \"min_disparity\": 0,\n",
    "        \"num_disparities\": 128,\n",
    "        \"block_size\": 7,\n",
    "        \"filter_depths\": True,\n",
    "        \"consistency_threshold\": 0.01,\n",
    "        \"num_source_views\": 5\n",
    "    },\n",
    "    \"point_cloud\": {\n",
    "        \"voxel_size\": 0.02,\n",
    "        \"nb_neighbors\": 30,\n",
    "        \"std_ratio\": 1.5,\n",
    "        \"confidence_threshold\": 0.8\n",
    "    },\n",
    "    \"surface\": {\n",
    "        \"method\": \"poisson\",\n",
    "        \"depth\": 10,\n",
    "        \"cleanup\": True,\n",
    "        \"trim\": 7.0\n",
    "    },\n",
    "    \"visualization\": {\n",
    "        \"point_size\": 2,\n",
    "        \"camera_size\": 6,\n",
    "        \"point_color_method\": \"rgb\"\n",
    "    }\n",
    "}\n",
    "\n",
    "# Create output directory for results\n",
    "output_dir = \"../data/results/\"\n",
    "os.makedirs(output_dir, exist_ok=True)\n",
    "\n",
    "print(\"Configuration loaded with 50,000 maximum features and strict quality filtering.\")"
   ]
  },
  {
   "cell_type": "code",
   "execution_count": null,
   "metadata": {},
   "outputs": [],
   "source": [
    "# Define paths to both datasets\n",
    "dataset_path_black = '../data/dinosaur_cropped_black/'  # Black background\n",
    "dataset_path_original = '../data/dinosaur_cropped/'       # Original background\n",
    "\n",
    "# Load black background images for feature extraction and matching\n",
    "print(\"Loading black background images for feature extraction...\")\n",
    "black_images = load_image_sequence(dataset_path_black, pattern=\"viff.*.png\")\n",
    "print(f\"Loaded {len(black_images)} black background images.\")\n",
    "\n",
    "# Also load original background images for depth estimation\n",
    "print(\"Loading original background images for depth estimation...\")\n",
    "original_images = load_image_sequence(dataset_path_original, pattern=\"viff.*.png\")\n",
    "print(f\"Loaded {len(original_images)} original background images.\")\n",
    "\n",
    "# Make sure image lists are the same length and in the same order\n",
    "if len(black_images) != len(original_images):\n",
    "    print(\"Warning: Different number of images in the two datasets\")\n",
    "    # Keep only matching filenames\n",
    "    black_filenames = [filename for _, filename in black_images]\n",
    "    original_filenames = [filename for _, filename in original_images]\n",
    "    common_filenames = set(black_filenames).intersection(set(original_filenames))\n",
    "    \n",
    "    black_images = [(img, filename) for img, filename in black_images if filename in common_filenames]\n",
    "    original_images = [(img, filename) for img, filename in original_images if filename in common_filenames]\n",
    "    \n",
    "    print(f\"Using {len(black_images)} images that exist in both datasets\")\n",
    "\n",
    "# Resize black background images\n",
    "max_dim = config['preprocessing']['resize_max_dimension']\n",
    "black_images = resize_images(black_images, max_dimension=max_dim)\n",
    "original_images = resize_images(original_images, max_dimension=max_dim)\n",
    "print(f\"Resized images to maximum dimension of {max_dim} pixels.\")\n",
    "\n",
    "# Enhance contrast if specified\n",
    "if config['preprocessing']['enhance_contrast']:\n",
    "    black_images = enhance_contrast(black_images)\n",
    "    original_images = enhance_contrast(original_images)\n",
    "    print(\"Enhanced image contrast.\")\n",
    "\n",
    "# Display a comparison between black and original images\n",
    "n_images = min(3, len(black_images))\n",
    "fig, axes = plt.subplots(2, n_images, figsize=(15, 8))\n",
    "\n",
    "for i in range(n_images):\n",
    "    img_black, filename_black = black_images[i]\n",
    "    axes[0, i].imshow(img_black)\n",
    "    axes[0, i].set_title(f\"Black BG: {filename_black}\")\n",
    "    axes[0, i].axis('off')\n",
    "    \n",
    "    img_orig, filename_orig = original_images[i]\n",
    "    axes[1, i].imshow(img_orig)\n",
    "    axes[1, i].set_title(f\"Original BG: {filename_orig}\")\n",
    "    axes[1, i].axis('off')\n",
    "\n",
    "plt.tight_layout()\n",
    "plt.show()"
   ]
  },
  {
   "cell_type": "code",
   "execution_count": 4,
   "metadata": {},
   "outputs": [],
   "source": [
    "def filter_matches_on_black_background(matches_dict, images):\n",
    "    \"\"\"\n",
    "    Filter out matches where either keypoint is on a black background.\n",
    "    \n",
    "    Args:\n",
    "        matches_dict: Dictionary of matches from match_image_pairs\n",
    "        images: List of (image, filename) tuples\n",
    "        \n",
    "    Returns:\n",
    "        Filtered matches dictionary\n",
    "    \"\"\"\n",
    "    # Create a mapping from filename to image for quick lookup\n",
    "    image_dict = {filename: img for img, filename in images}\n",
    "    \n",
    "    # Create masks for each image (non-black regions)\n",
    "    mask_dict = {}\n",
    "    for filename, img in image_dict.items():\n",
    "        if len(img.shape) == 3:\n",
    "            gray = cv2.cvtColor(img, cv2.COLOR_RGB2GRAY)\n",
    "        else:\n",
    "            gray = img\n",
    "        # Create binary mask - pixels with value > 15 are considered part of the dinosaur\n",
    "        _, mask = cv2.threshold(gray, 15, 255, cv2.THRESH_BINARY)\n",
    "        mask_dict[filename] = mask\n",
    "    \n",
    "    filtered_matches_dict = {}\n",
    "    \n",
    "    # For each image pair in the matches dictionary\n",
    "    for (img1_name, img2_name), (kp1, kp2, matches) in matches_dict.items():\n",
    "        mask1 = mask_dict[img1_name]\n",
    "        mask2 = mask_dict[img2_name]\n",
    "        \n",
    "        # Filter matches - keep only those where both points are on non-black areas\n",
    "        filtered_matches = []\n",
    "        for m in matches:\n",
    "            # Get keypoint coordinates (need to round to integers for mask indexing)\n",
    "            x1, y1 = int(round(kp1[m.queryIdx].pt[0])), int(round(kp1[m.queryIdx].pt[1]))\n",
    "            x2, y2 = int(round(kp2[m.trainIdx].pt[0])), int(round(kp2[m.trainIdx].pt[1]))\n",
    "            \n",
    "            # Check if coordinates are within image bounds\n",
    "            h1, w1 = mask1.shape\n",
    "            h2, w2 = mask2.shape\n",
    "            \n",
    "            if (0 <= x1 < w1 and 0 <= y1 < h1 and 0 <= x2 < w2 and 0 <= y2 < h2):\n",
    "                # Check if both points are on the dinosaur (non-black regions)\n",
    "                if mask1[y1, x1] > 0 and mask2[y2, x2] > 0:\n",
    "                    filtered_matches.append(m)\n",
    "        \n",
    "        # If we have enough matches after filtering, keep this pair\n",
    "        if len(filtered_matches) >= 8:  # Use 8 as minimum for fundamental matrix estimation\n",
    "            filtered_matches_dict[(img1_name, img2_name)] = (kp1, kp2, filtered_matches)\n",
    "            print(f\"Filtered {img1_name}-{img2_name}: {len(matches)} → {len(filtered_matches)} matches\")\n",
    "    \n",
    "    print(f\"Filtered matches: {len(matches_dict)} pairs → {len(filtered_matches_dict)} pairs\")\n",
    "    return filtered_matches_dict"
   ]
  },
  {
   "cell_type": "code",
   "execution_count": null,
   "metadata": {},
   "outputs": [],
   "source": [
    "# Extract features from black background images with enhanced strategies\n",
    "print(\"\\nExtracting comprehensive features from black background images...\")\n",
    "feature_method = config['features']['method']\n",
    "max_features = config['features']['max_features']  # Triple the feature count\n",
    "\n",
    "# Set SIFT extraction parameters if using SIFT\n",
    "if feature_method.lower() == 'sift':\n",
    "    print(f\"Using enhanced SIFT extraction with target of {max_features} features per image\")\n",
    "    \n",
    "    # Extract features using enhanced extraction methods\n",
    "    features_dict = extract_features_from_image_set(black_images, method=feature_method, n_features=max_features, contrast_threshold=config['features']['contrast_threshold'])\n",
    "else:\n",
    "    # For other methods, use standard extraction\n",
    "    features_dict = extract_features_from_image_set(black_images, method=feature_method, n_features=max_features, contrast_threshold=config['features']['contrast_threshold'])\n",
    "\n",
    "# Print feature counts\n",
    "total_features = 0\n",
    "for filename, (keypoints, descriptors) in features_dict.items():\n",
    "    print(f\"{filename}: {len(keypoints)} keypoints\")\n",
    "    total_features += len(keypoints)\n",
    "\n",
    "print(f\"Total features extracted: {total_features} (avg {total_features/len(features_dict):.0f} per image)\")\n",
    "\n",
    "# Visualize keypoints on a sample image\n",
    "sample_img, sample_filename = black_images[0]\n",
    "sample_keypoints, _ = features_dict[sample_filename]\n",
    "\n",
    "# Plot keypoints\n",
    "fig, ax = plt.subplots(figsize=(10, 8))\n",
    "ax.imshow(cv2.drawKeypoints(sample_img, sample_keypoints, None, \n",
    "                          color=(0, 255, 0), flags=cv2.DRAW_MATCHES_FLAGS_DRAW_RICH_KEYPOINTS))\n",
    "ax.set_title(f\"{feature_method.upper()} Features: {sample_filename} ({len(sample_keypoints)} keypoints)\")\n",
    "ax.axis('off')\n",
    "plt.tight_layout()\n",
    "plt.show()\n",
    "\n",
    "# Create image pairs for matching with a comprehensive circular strategy\n",
    "print(\"\\nCreating optimized view graph for circular object reconstruction...\")\n",
    "filenames = sorted([filename for _, filename in black_images], \n",
    "                  key=lambda x: int(''.join(filter(str.isdigit, x))))\n",
    "\n",
    "# Number of images\n",
    "n = len(filenames)\n",
    "print(f\"Creating view graph for {n} images\")\n",
    "\n",
    "# Create image pairs for matching with a comprehensive circular strategy\n",
    "image_pairs = []\n",
    "\n",
    "# 1. Keep sequential pairs as your foundation\n",
    "for i in range(n-1):\n",
    "    image_pairs.append((filenames[i], filenames[i+1]))\n",
    "image_pairs.append((filenames[-1], filenames[0]))  # Close the loop\n",
    "# Remove duplicates while preserving order\n",
    "seen = set()\n",
    "image_pairs = [x for x in image_pairs if not (x in seen or seen.add(x))]\n",
    "\n",
    "print(f\"Created {len(image_pairs)} image pairs for matching\")\n",
    "\n",
    "# Match features\n",
    "matches_dict = match_image_pairs(\n",
    "    features_dict, \n",
    "    image_pairs, \n",
    "    ratio_threshold=config['matching']['ratio_threshold'],\n",
    "    geometric_verify=config['matching']['geometric_verification'],\n",
    "    min_matches=config['matching']['min_matches']\n",
    ")\n",
    "\n",
    "matches_dict = filter_matches_on_black_background(matches_dict, black_images)\n",
    "\n",
    "\n",
    "print(f\"Successfully matched {len(matches_dict)} image pairs.\")\n",
    "\n",
    "# Display matches for a sample pair\n",
    "if len(matches_dict) > 0:\n",
    "    # Choose a sample pair\n",
    "    sample_pair = list(matches_dict.keys())[0]\n",
    "    img1_name, img2_name = sample_pair\n",
    "    kp1, kp2, matches = matches_dict[sample_pair]\n",
    "    \n",
    "    # Get the images\n",
    "    img1 = next(img for img, filename in black_images if filename == img1_name)\n",
    "    img2 = next(img for img, filename in black_images if filename == img2_name)\n",
    "    \n",
    "    # Plot matches\n",
    "    plot_matches(img1, kp1, img2, kp2, matches[:100],  # Only plot first 100 matches for clarity\n",
    "                title=f\"Matches between {img1_name} and {img2_name}: {len(matches)} matches\")\n",
    "\n",
    "    # Show matching statistics across all pairs\n",
    "    plot_feature_matching_analysis(matches_dict, figsize=(12, 6))"
   ]
  },
  {
   "cell_type": "code",
   "execution_count": 12,
   "metadata": {},
   "outputs": [
    {
     "name": "stdout",
     "output_type": "stream",
     "text": [
      "Estimated camera matrix:\n",
      "[[903.5   0.  347.5]\n",
      " [  0.  903.5 286.5]\n",
      " [  0.    0.    1. ]]\n",
      "\n",
      "============================================================\n",
      "Processing ratio_threshold=0.75, min_matches=10\n",
      "============================================================\n",
      "Filtered viff.000.png-viff.001.png: 2176 → 2112 matches\n",
      "Filtered viff.001.png-viff.002.png: 2052 → 2002 matches\n",
      "Filtered viff.002.png-viff.003.png: 2140 → 2104 matches\n",
      "Filtered viff.003.png-viff.004.png: 2354 → 2325 matches\n",
      "Filtered viff.004.png-viff.005.png: 1900 → 1872 matches\n",
      "Filtered viff.005.png-viff.006.png: 1816 → 1797 matches\n",
      "Filtered viff.006.png-viff.007.png: 1657 → 1634 matches\n",
      "Filtered viff.007.png-viff.008.png: 1565 → 1554 matches\n",
      "Filtered viff.008.png-viff.009.png: 1615 → 1591 matches\n",
      "Filtered viff.009.png-viff.010.png: 1578 → 1564 matches\n",
      "Filtered viff.010.png-viff.011.png: 1756 → 1737 matches\n",
      "Filtered viff.011.png-viff.012.png: 1676 → 1654 matches\n",
      "Filtered viff.012.png-viff.013.png: 1626 → 1608 matches\n",
      "Filtered viff.013.png-viff.014.png: 1418 → 1408 matches\n",
      "Filtered viff.014.png-viff.015.png: 1341 → 1329 matches\n",
      "Filtered viff.015.png-viff.016.png: 1389 → 1369 matches\n",
      "Filtered viff.016.png-viff.017.png: 1427 → 1413 matches\n",
      "Filtered viff.017.png-viff.018.png: 1471 → 1449 matches\n",
      "Filtered viff.018.png-viff.019.png: 1937 → 1911 matches\n",
      "Filtered viff.019.png-viff.020.png: 2028 → 1981 matches\n",
      "Filtered viff.020.png-viff.021.png: 2218 → 2158 matches\n",
      "Filtered viff.021.png-viff.022.png: 2428 → 2377 matches\n",
      "Filtered viff.022.png-viff.023.png: 2578 → 2544 matches\n",
      "Filtered viff.023.png-viff.024.png: 2132 → 2103 matches\n",
      "Filtered viff.024.png-viff.025.png: 2351 → 2320 matches\n",
      "Filtered viff.025.png-viff.026.png: 2093 → 2069 matches\n",
      "Filtered viff.026.png-viff.027.png: 1787 → 1763 matches\n",
      "Filtered viff.027.png-viff.028.png: 1361 → 1326 matches\n",
      "Filtered viff.028.png-viff.029.png: 1138 → 1118 matches\n",
      "Filtered viff.029.png-viff.030.png: 1082 → 1067 matches\n",
      "Filtered viff.030.png-viff.031.png: 1004 → 991 matches\n",
      "Filtered viff.031.png-viff.032.png: 1026 → 1018 matches\n",
      "Filtered viff.032.png-viff.033.png: 1341 → 1334 matches\n",
      "Filtered viff.033.png-viff.034.png: 1602 → 1588 matches\n",
      "Filtered viff.034.png-viff.035.png: 1588 → 1576 matches\n",
      "Filtered viff.035.png-viff.000.png: 2076 → 2048 matches\n",
      "Filtered matches: 36 pairs → 36 pairs\n",
      "Initializing with pair: viff.000.png and viff.001.png (2112 matches)\n",
      "Triangulated 2112 initial points\n",
      "Attempting to add image: viff.002.png\n",
      "Found 210 2D-3D correspondences for viff.002.png\n",
      "PnP successful with 78 inliers. Mean reprojection error: 0.38 pixels\n",
      "Added pose for viff.002.png using 78 / 210 points\n",
      "  Triangulated 913 new points with viff.001.png and viff.002.png\n",
      "Attempting to add image: viff.003.png\n",
      "Found 197 2D-3D correspondences for viff.003.png\n",
      "PnP successful with 62 inliers. Mean reprojection error: 0.37 pixels\n",
      "Added pose for viff.003.png using 62 / 197 points\n",
      "  Triangulated 987 new points with viff.002.png and viff.003.png\n",
      "Attempting to add image: viff.004.png\n",
      "Found 214 2D-3D correspondences for viff.004.png\n",
      "PnP successful with 54 inliers. Mean reprojection error: 0.38 pixels\n",
      "Added pose for viff.004.png using 54 / 214 points\n",
      "  Triangulated 1075 new points with viff.003.png and viff.004.png\n",
      "Attempting to add image: viff.005.png\n",
      "Found 195 2D-3D correspondences for viff.005.png\n",
      "PnP successful with 45 inliers. Mean reprojection error: 0.35 pixels\n",
      "Added pose for viff.005.png using 45 / 195 points\n",
      "  Triangulated 871 new points with viff.004.png and viff.005.png\n",
      "Attempting to add image: viff.006.png\n",
      "Found 132 2D-3D correspondences for viff.006.png\n",
      "PnP successful with 28 inliers. Mean reprojection error: 0.41 pixels\n",
      "Added pose for viff.006.png using 28 / 132 points\n",
      "  Triangulated 899 new points with viff.005.png and viff.006.png\n",
      "Attempting to add image: viff.007.png\n",
      "Found 164 2D-3D correspondences for viff.007.png\n",
      "PnP successful with 48 inliers. Mean reprojection error: 0.37 pixels\n",
      "Added pose for viff.007.png using 48 / 164 points\n",
      "  Triangulated 689 new points with viff.006.png and viff.007.png\n",
      "Attempting to add image: viff.008.png\n",
      "Found 126 2D-3D correspondences for viff.008.png\n",
      "PnP successful with 40 inliers. Mean reprojection error: 0.37 pixels\n",
      "Added pose for viff.008.png using 40 / 126 points\n",
      "  Triangulated 692 new points with viff.007.png and viff.008.png\n",
      "Attempting to add image: viff.009.png\n",
      "Found 157 2D-3D correspondences for viff.009.png\n",
      "PnP successful with 52 inliers. Mean reprojection error: 0.38 pixels\n",
      "Added pose for viff.009.png using 52 / 157 points\n",
      "  Triangulated 732 new points with viff.008.png and viff.009.png\n",
      "Attempting to add image: viff.010.png\n",
      "Found 137 2D-3D correspondences for viff.010.png\n",
      "PnP successful with 47 inliers. Mean reprojection error: 0.38 pixels\n",
      "Added pose for viff.010.png using 47 / 137 points\n",
      "  Triangulated 769 new points with viff.009.png and viff.010.png\n",
      "Attempting to add image: viff.011.png\n",
      "Found 193 2D-3D correspondences for viff.011.png\n",
      "PnP successful with 58 inliers. Mean reprojection error: 0.42 pixels\n",
      "Added pose for viff.011.png using 58 / 193 points\n",
      "  Triangulated 842 new points with viff.010.png and viff.011.png\n",
      "Attempting to add image: viff.012.png\n",
      "Found 193 2D-3D correspondences for viff.012.png\n",
      "PnP successful with 63 inliers. Mean reprojection error: 0.38 pixels\n",
      "Added pose for viff.012.png using 63 / 193 points\n",
      "  Triangulated 815 new points with viff.011.png and viff.012.png\n",
      "Attempting to add image: viff.013.png\n",
      "Found 168 2D-3D correspondences for viff.013.png\n",
      "PnP successful with 58 inliers. Mean reprojection error: 0.42 pixels\n",
      "Added pose for viff.013.png using 58 / 168 points\n",
      "  Triangulated 797 new points with viff.012.png and viff.013.png\n",
      "Attempting to add image: viff.014.png\n",
      "Found 191 2D-3D correspondences for viff.014.png\n",
      "PnP successful with 68 inliers. Mean reprojection error: 0.39 pixels\n",
      "Added pose for viff.014.png using 68 / 191 points\n",
      "  Triangulated 656 new points with viff.013.png and viff.014.png\n",
      "Attempting to add image: viff.015.png\n",
      "Found 136 2D-3D correspondences for viff.015.png\n",
      "PnP successful with 54 inliers. Mean reprojection error: 0.41 pixels\n",
      "Added pose for viff.015.png using 54 / 136 points\n",
      "  Triangulated 644 new points with viff.014.png and viff.015.png\n",
      "Attempting to add image: viff.016.png\n",
      "Found 121 2D-3D correspondences for viff.016.png\n",
      "PnP successful with 51 inliers. Mean reprojection error: 0.35 pixels\n",
      "Added pose for viff.016.png using 51 / 121 points\n",
      "  Triangulated 598 new points with viff.015.png and viff.016.png\n",
      "Attempting to add image: viff.017.png\n",
      "Found 105 2D-3D correspondences for viff.017.png\n",
      "PnP successful with 42 inliers. Mean reprojection error: 0.33 pixels\n",
      "Added pose for viff.017.png using 42 / 105 points\n",
      "  Triangulated 673 new points with viff.016.png and viff.017.png\n",
      "Attempting to add image: viff.018.png\n",
      "Found 111 2D-3D correspondences for viff.018.png\n",
      "PnP successful with 29 inliers. Mean reprojection error: 0.37 pixels\n",
      "Added pose for viff.018.png using 29 / 111 points\n",
      "  Triangulated 720 new points with viff.017.png and viff.018.png\n",
      "Attempting to add image: viff.019.png\n",
      "Found 129 2D-3D correspondences for viff.019.png\n",
      "PnP successful with 29 inliers. Mean reprojection error: 0.39 pixels\n",
      "Added pose for viff.019.png using 29 / 129 points\n",
      "  Triangulated 864 new points with viff.018.png and viff.019.png\n",
      "Attempting to add image: viff.020.png\n",
      "Found 173 2D-3D correspondences for viff.020.png\n",
      "PnP successful with 41 inliers. Mean reprojection error: 0.43 pixels\n",
      "Added pose for viff.020.png using 41 / 173 points\n",
      "  Triangulated 791 new points with viff.019.png and viff.020.png\n",
      "Attempting to add image: viff.021.png\n",
      "Found 160 2D-3D correspondences for viff.021.png\n",
      "PnP successful with 44 inliers. Mean reprojection error: 0.38 pixels\n",
      "Added pose for viff.021.png using 44 / 160 points\n",
      "  Triangulated 852 new points with viff.020.png and viff.021.png\n",
      "Attempting to add image: viff.022.png\n",
      "Found 159 2D-3D correspondences for viff.022.png\n",
      "PnP successful with 36 inliers. Mean reprojection error: 0.41 pixels\n",
      "Added pose for viff.022.png using 36 / 159 points\n",
      "  Triangulated 921 new points with viff.021.png and viff.022.png\n",
      "Attempting to add image: viff.023.png\n",
      "Found 176 2D-3D correspondences for viff.023.png\n",
      "PnP successful with 34 inliers. Mean reprojection error: 0.37 pixels\n",
      "Added pose for viff.023.png using 34 / 176 points\n",
      "  Triangulated 964 new points with viff.022.png and viff.023.png\n",
      "Attempting to add image: viff.024.png\n",
      "Found 164 2D-3D correspondences for viff.024.png\n",
      "PnP successful with 42 inliers. Mean reprojection error: 0.34 pixels\n",
      "Added pose for viff.024.png using 42 / 164 points\n",
      "  Triangulated 709 new points with viff.023.png and viff.024.png\n",
      "Attempting to add image: viff.025.png\n",
      "Found 152 2D-3D correspondences for viff.025.png\n",
      "PnP successful with 39 inliers. Mean reprojection error: 0.41 pixels\n",
      "Added pose for viff.025.png using 39 / 152 points\n",
      "  Triangulated 881 new points with viff.024.png and viff.025.png\n",
      "Attempting to add image: viff.026.png\n",
      "Found 156 2D-3D correspondences for viff.026.png\n",
      "PnP successful with 32 inliers. Mean reprojection error: 0.37 pixels\n",
      "Added pose for viff.026.png using 32 / 156 points\n",
      "  Triangulated 657 new points with viff.025.png and viff.026.png\n",
      "Attempting to add image: viff.027.png\n",
      "Found 122 2D-3D correspondences for viff.027.png\n",
      "PnP successful with 33 inliers. Mean reprojection error: 0.39 pixels\n",
      "Added pose for viff.027.png using 33 / 122 points\n",
      "  Triangulated 408 new points with viff.026.png and viff.027.png\n",
      "Attempting to add image: viff.028.png\n",
      "Found 65 2D-3D correspondences for viff.028.png\n",
      "PnP successful with 25 inliers. Mean reprojection error: 0.34 pixels\n",
      "Added pose for viff.028.png using 25 / 65 points\n",
      "  Triangulated 314 new points with viff.027.png and viff.028.png\n",
      "Attempting to add image: viff.029.png\n",
      "Found 56 2D-3D correspondences for viff.029.png\n",
      "PnP successful with 29 inliers. Mean reprojection error: 0.39 pixels\n",
      "Added pose for viff.029.png using 29 / 56 points\n",
      "  Triangulated 328 new points with viff.028.png and viff.029.png\n",
      "Attempting to add image: viff.030.png\n",
      "Found 48 2D-3D correspondences for viff.030.png\n",
      "PnP successful with 18 inliers. Mean reprojection error: 0.34 pixels\n",
      "Added pose for viff.030.png using 18 / 48 points\n",
      "  Triangulated 307 new points with viff.029.png and viff.030.png\n",
      "Attempting to add image: viff.031.png\n",
      "Found 31 2D-3D correspondences for viff.031.png\n",
      "PnP successful with 14 inliers. Mean reprojection error: 0.33 pixels\n",
      "Added pose for viff.031.png using 14 / 31 points\n",
      "  Triangulated 163 new points with viff.030.png and viff.031.png\n",
      "Attempting to add image: viff.032.png\n",
      "Found 18 2D-3D correspondences for viff.032.png\n",
      "PnP successful with 9 inliers. Mean reprojection error: 0.33 pixels\n",
      "Added pose for viff.032.png using 9 / 18 points\n",
      "  Triangulated 163 new points with viff.031.png and viff.032.png\n",
      "Attempting to add image: viff.033.png\n",
      "Found 22 2D-3D correspondences for viff.033.png\n",
      "PnP successful with 12 inliers. Mean reprojection error: 0.38 pixels\n",
      "Added pose for viff.033.png using 12 / 22 points\n",
      "  Triangulated 313 new points with viff.032.png and viff.033.png\n",
      "Attempting to add image: viff.034.png\n",
      "Found 66 2D-3D correspondences for viff.034.png\n",
      "PnP successful with 35 inliers. Mean reprojection error: 0.35 pixels\n",
      "Added pose for viff.034.png using 35 / 66 points\n",
      "  Triangulated 419 new points with viff.033.png and viff.034.png\n",
      "Attempting to add image: viff.035.png\n",
      "Found 517 2D-3D correspondences for viff.035.png\n",
      "PnP successful with 227 inliers. Mean reprojection error: 0.38 pixels\n",
      "Added pose for viff.035.png using 227 / 517 points\n",
      "  Triangulated 331 new points with viff.034.png and viff.035.png\n",
      "  Triangulated 824 new points with viff.035.png and viff.000.png\n",
      "Estimated poses for 36/36 cameras\n",
      "Total triangulated points: 25693\n",
      "Estimated poses for 36 cameras.\n",
      "Displaying interactive 3D plot...\n"
     ]
    },
    {
     "data": {
      "application/vnd.plotly.v1+json": {
       "config": {
        "plotlyServerURL": "https://plot.ly"
       },
       "data": [
        {
         "marker": {
          "color": "red",
          "size": 8,
          "symbol": "square"
         },
         "mode": "markers+text",
         "name": "Camera Positions",
         "text": [
          "viff.000.png",
          "viff.001.png",
          "viff.002.png",
          "viff.003.png",
          "viff.004.png",
          "viff.005.png",
          "viff.006.png",
          "viff.007.png",
          "viff.008.png",
          "viff.009.png",
          "viff.010.png",
          "viff.011.png",
          "viff.012.png",
          "viff.013.png",
          "viff.014.png",
          "viff.015.png",
          "viff.016.png",
          "viff.017.png",
          "viff.018.png",
          "viff.019.png",
          "viff.020.png",
          "viff.021.png",
          "viff.022.png",
          "viff.023.png",
          "viff.024.png",
          "viff.025.png",
          "viff.026.png",
          "viff.027.png",
          "viff.028.png",
          "viff.029.png",
          "viff.030.png",
          "viff.031.png",
          "viff.032.png",
          "viff.033.png",
          "viff.034.png",
          "viff.035.png"
         ],
         "textposition": "top center",
         "type": "scatter3d",
         "x": {
          "bdata": "AAAAAAAAAAAiNu7cM/bpv1TOMcht2Pm/zJ2SFc/HAcCIgnqhWgcHwH/m1XeNjAvAXxeg5IlXD8AkR67EZlsRwKgLdOJ89hLANLAsEyG8FMDWIl5/67MVwMADO/xxqxbAtmT7rXBEF8DhS29oEXgXwHw8mLfmJhfAto8ffMpTFsDKWBUgKisVwCtt71LTWBPAbxmYrI9eEMAYuHNM2ScMwGE9qAp6vQjA81MciDgzB8CTl4CCeRkFwJE93NILsAPAS1oSZHSeAsALb/qp43oBwNUXezLXXADACyHWSIK+/78/fWgs2///v3rzGzqJggDAzG9fKSnAAcB+m3ZkYK4CwA5bBuGylAHAKwMbTgFgAsDFtJ62oT4HwJarYMJ6rOs/",
          "dtype": "f8"
         },
         "y": {
          "bdata": "AAAAAAAAAADImY/gMT3Iv/TZnoC6j9O/jM9JULE/8b+/t2DE8GYBwP7HvQcjGgTA2CHRTPpTBMCnPVJMFacDwHEuRWVNEQLAqRivvEHKAcDKDgmmSskCwH9zyjrxmQTA+YiQqu6LBsDAyNBeJUoJwGB96JCYZAzA6726MWUaEMDVAogJUhESwISCFlcu7xPAITa/sYTyE8Cqnw2xBEoUwOD9ALTdVxTAaIVBe2JHFcCP/IisJJcVwFYagPNZ+RXAFvC9fTrbFcBrm7MjjOEVwGC9Jsxc5hXA6JBOLDbFFcCWdzQ95EAVwEiEZmiMVxTAV3/dOgaGE8DQo4Sdw0YTwKQjYPy4ORPA29TTQEwSEsCuE1DXa0IRwHZxjj6HobW/",
          "dtype": "f8"
         },
         "z": {
          "bdata": "AAAAAAAAAAB4qidaCrPhvzkFOkHVHfm/hgJYdZjsBsConnbppP8SwOGNQyka+BXAJWzW7bhfF8CE8W2JolwYwMMJtyektxnABnDT1TEqG8AuS4d4zNcawH8WRrGzbRvACzLuta7OG8Bs18UlzEEcwBntob/E5BzApXOhupivHMDUpqVc+TkdwGh791WCMx3A1603ZGeEG8A6VjVSr4YbwIdZ+Wt3LBrAxV6PMU5ZHcCVpwTV11YewM/1E6LqSyDAhrSyxgOfIcAGPo5PG6kiwLbNwpsZ0CLAG5Kf2d1FI8BGfPHY/tojwKToYYkyjyTAKV5Sm0UCJsB4uwAuVsEowGfqzCIiEinA/lLM5gNhK8DuWwcZF7EwwP47II5AKbi/",
          "dtype": "f8"
         }
        },
        {
         "line": {
          "color": "blue",
          "width": 2
         },
         "mode": "lines",
         "name": "Camera Trajectory",
         "type": "scatter3d",
         "x": {
          "bdata": "AAAAAAAAAAAiNu7cM/bpv1TOMcht2Pm/zJ2SFc/HAcCIgnqhWgcHwH/m1XeNjAvAXxeg5IlXD8AkR67EZlsRwKgLdOJ89hLANLAsEyG8FMDWIl5/67MVwMADO/xxqxbAtmT7rXBEF8DhS29oEXgXwHw8mLfmJhfAto8ffMpTFsDKWBUgKisVwCtt71LTWBPAbxmYrI9eEMAYuHNM2ScMwGE9qAp6vQjA81MciDgzB8CTl4CCeRkFwJE93NILsAPAS1oSZHSeAsALb/qp43oBwNUXezLXXADACyHWSIK+/78/fWgs2///v3rzGzqJggDAzG9fKSnAAcB+m3ZkYK4CwA5bBuGylAHAKwMbTgFgAsDFtJ62oT4HwJarYMJ6rOs/",
          "dtype": "f8"
         },
         "y": {
          "bdata": "AAAAAAAAAADImY/gMT3Iv/TZnoC6j9O/jM9JULE/8b+/t2DE8GYBwP7HvQcjGgTA2CHRTPpTBMCnPVJMFacDwHEuRWVNEQLAqRivvEHKAcDKDgmmSskCwH9zyjrxmQTA+YiQqu6LBsDAyNBeJUoJwGB96JCYZAzA6726MWUaEMDVAogJUhESwISCFlcu7xPAITa/sYTyE8Cqnw2xBEoUwOD9ALTdVxTAaIVBe2JHFcCP/IisJJcVwFYagPNZ+RXAFvC9fTrbFcBrm7MjjOEVwGC9Jsxc5hXA6JBOLDbFFcCWdzQ95EAVwEiEZmiMVxTAV3/dOgaGE8DQo4Sdw0YTwKQjYPy4ORPA29TTQEwSEsCuE1DXa0IRwHZxjj6HobW/",
          "dtype": "f8"
         },
         "z": {
          "bdata": "AAAAAAAAAAB4qidaCrPhvzkFOkHVHfm/hgJYdZjsBsConnbppP8SwOGNQyka+BXAJWzW7bhfF8CE8W2JolwYwMMJtyektxnABnDT1TEqG8AuS4d4zNcawH8WRrGzbRvACzLuta7OG8Bs18UlzEEcwBntob/E5BzApXOhupivHMDUpqVc+TkdwGh791WCMx3A1603ZGeEG8A6VjVSr4YbwIdZ+Wt3LBrAxV6PMU5ZHcCVpwTV11YewM/1E6LqSyDAhrSyxgOfIcAGPo5PG6kiwLbNwpsZ0CLAG5Kf2d1FI8BGfPHY/tojwKToYYkyjyTAKV5Sm0UCJsB4uwAuVsEowGfqzCIiEinA/lLM5gNhK8DuWwcZF7EwwP47II5AKbi/",
          "dtype": "f8"
         }
        }
       ],
       "layout": {
        "margin": {
         "b": 0,
         "l": 0,
         "r": 0,
         "t": 30
        },
        "scene": {
         "aspectmode": "cube",
         "xaxis": {
          "range": [
           -10.847103985045369,
           5.844654708932613
          ]
         },
         "yaxis": {
          "range": [
           -11.092632946486681,
           5.599125747491301
          ]
         },
         "zaxis": {
          "range": [
           -16.69175869397798,
           0
          ]
         }
        },
        "template": {
         "data": {
          "bar": [
           {
            "error_x": {
             "color": "#2a3f5f"
            },
            "error_y": {
             "color": "#2a3f5f"
            },
            "marker": {
             "line": {
              "color": "#E5ECF6",
              "width": 0.5
             },
             "pattern": {
              "fillmode": "overlay",
              "size": 10,
              "solidity": 0.2
             }
            },
            "type": "bar"
           }
          ],
          "barpolar": [
           {
            "marker": {
             "line": {
              "color": "#E5ECF6",
              "width": 0.5
             },
             "pattern": {
              "fillmode": "overlay",
              "size": 10,
              "solidity": 0.2
             }
            },
            "type": "barpolar"
           }
          ],
          "carpet": [
           {
            "aaxis": {
             "endlinecolor": "#2a3f5f",
             "gridcolor": "white",
             "linecolor": "white",
             "minorgridcolor": "white",
             "startlinecolor": "#2a3f5f"
            },
            "baxis": {
             "endlinecolor": "#2a3f5f",
             "gridcolor": "white",
             "linecolor": "white",
             "minorgridcolor": "white",
             "startlinecolor": "#2a3f5f"
            },
            "type": "carpet"
           }
          ],
          "choropleth": [
           {
            "colorbar": {
             "outlinewidth": 0,
             "ticks": ""
            },
            "type": "choropleth"
           }
          ],
          "contour": [
           {
            "colorbar": {
             "outlinewidth": 0,
             "ticks": ""
            },
            "colorscale": [
             [
              0,
              "#0d0887"
             ],
             [
              0.1111111111111111,
              "#46039f"
             ],
             [
              0.2222222222222222,
              "#7201a8"
             ],
             [
              0.3333333333333333,
              "#9c179e"
             ],
             [
              0.4444444444444444,
              "#bd3786"
             ],
             [
              0.5555555555555556,
              "#d8576b"
             ],
             [
              0.6666666666666666,
              "#ed7953"
             ],
             [
              0.7777777777777778,
              "#fb9f3a"
             ],
             [
              0.8888888888888888,
              "#fdca26"
             ],
             [
              1,
              "#f0f921"
             ]
            ],
            "type": "contour"
           }
          ],
          "contourcarpet": [
           {
            "colorbar": {
             "outlinewidth": 0,
             "ticks": ""
            },
            "type": "contourcarpet"
           }
          ],
          "heatmap": [
           {
            "colorbar": {
             "outlinewidth": 0,
             "ticks": ""
            },
            "colorscale": [
             [
              0,
              "#0d0887"
             ],
             [
              0.1111111111111111,
              "#46039f"
             ],
             [
              0.2222222222222222,
              "#7201a8"
             ],
             [
              0.3333333333333333,
              "#9c179e"
             ],
             [
              0.4444444444444444,
              "#bd3786"
             ],
             [
              0.5555555555555556,
              "#d8576b"
             ],
             [
              0.6666666666666666,
              "#ed7953"
             ],
             [
              0.7777777777777778,
              "#fb9f3a"
             ],
             [
              0.8888888888888888,
              "#fdca26"
             ],
             [
              1,
              "#f0f921"
             ]
            ],
            "type": "heatmap"
           }
          ],
          "histogram": [
           {
            "marker": {
             "pattern": {
              "fillmode": "overlay",
              "size": 10,
              "solidity": 0.2
             }
            },
            "type": "histogram"
           }
          ],
          "histogram2d": [
           {
            "colorbar": {
             "outlinewidth": 0,
             "ticks": ""
            },
            "colorscale": [
             [
              0,
              "#0d0887"
             ],
             [
              0.1111111111111111,
              "#46039f"
             ],
             [
              0.2222222222222222,
              "#7201a8"
             ],
             [
              0.3333333333333333,
              "#9c179e"
             ],
             [
              0.4444444444444444,
              "#bd3786"
             ],
             [
              0.5555555555555556,
              "#d8576b"
             ],
             [
              0.6666666666666666,
              "#ed7953"
             ],
             [
              0.7777777777777778,
              "#fb9f3a"
             ],
             [
              0.8888888888888888,
              "#fdca26"
             ],
             [
              1,
              "#f0f921"
             ]
            ],
            "type": "histogram2d"
           }
          ],
          "histogram2dcontour": [
           {
            "colorbar": {
             "outlinewidth": 0,
             "ticks": ""
            },
            "colorscale": [
             [
              0,
              "#0d0887"
             ],
             [
              0.1111111111111111,
              "#46039f"
             ],
             [
              0.2222222222222222,
              "#7201a8"
             ],
             [
              0.3333333333333333,
              "#9c179e"
             ],
             [
              0.4444444444444444,
              "#bd3786"
             ],
             [
              0.5555555555555556,
              "#d8576b"
             ],
             [
              0.6666666666666666,
              "#ed7953"
             ],
             [
              0.7777777777777778,
              "#fb9f3a"
             ],
             [
              0.8888888888888888,
              "#fdca26"
             ],
             [
              1,
              "#f0f921"
             ]
            ],
            "type": "histogram2dcontour"
           }
          ],
          "mesh3d": [
           {
            "colorbar": {
             "outlinewidth": 0,
             "ticks": ""
            },
            "type": "mesh3d"
           }
          ],
          "parcoords": [
           {
            "line": {
             "colorbar": {
              "outlinewidth": 0,
              "ticks": ""
             }
            },
            "type": "parcoords"
           }
          ],
          "pie": [
           {
            "automargin": true,
            "type": "pie"
           }
          ],
          "scatter": [
           {
            "fillpattern": {
             "fillmode": "overlay",
             "size": 10,
             "solidity": 0.2
            },
            "type": "scatter"
           }
          ],
          "scatter3d": [
           {
            "line": {
             "colorbar": {
              "outlinewidth": 0,
              "ticks": ""
             }
            },
            "marker": {
             "colorbar": {
              "outlinewidth": 0,
              "ticks": ""
             }
            },
            "type": "scatter3d"
           }
          ],
          "scattercarpet": [
           {
            "marker": {
             "colorbar": {
              "outlinewidth": 0,
              "ticks": ""
             }
            },
            "type": "scattercarpet"
           }
          ],
          "scattergeo": [
           {
            "marker": {
             "colorbar": {
              "outlinewidth": 0,
              "ticks": ""
             }
            },
            "type": "scattergeo"
           }
          ],
          "scattergl": [
           {
            "marker": {
             "colorbar": {
              "outlinewidth": 0,
              "ticks": ""
             }
            },
            "type": "scattergl"
           }
          ],
          "scattermap": [
           {
            "marker": {
             "colorbar": {
              "outlinewidth": 0,
              "ticks": ""
             }
            },
            "type": "scattermap"
           }
          ],
          "scattermapbox": [
           {
            "marker": {
             "colorbar": {
              "outlinewidth": 0,
              "ticks": ""
             }
            },
            "type": "scattermapbox"
           }
          ],
          "scatterpolar": [
           {
            "marker": {
             "colorbar": {
              "outlinewidth": 0,
              "ticks": ""
             }
            },
            "type": "scatterpolar"
           }
          ],
          "scatterpolargl": [
           {
            "marker": {
             "colorbar": {
              "outlinewidth": 0,
              "ticks": ""
             }
            },
            "type": "scatterpolargl"
           }
          ],
          "scatterternary": [
           {
            "marker": {
             "colorbar": {
              "outlinewidth": 0,
              "ticks": ""
             }
            },
            "type": "scatterternary"
           }
          ],
          "surface": [
           {
            "colorbar": {
             "outlinewidth": 0,
             "ticks": ""
            },
            "colorscale": [
             [
              0,
              "#0d0887"
             ],
             [
              0.1111111111111111,
              "#46039f"
             ],
             [
              0.2222222222222222,
              "#7201a8"
             ],
             [
              0.3333333333333333,
              "#9c179e"
             ],
             [
              0.4444444444444444,
              "#bd3786"
             ],
             [
              0.5555555555555556,
              "#d8576b"
             ],
             [
              0.6666666666666666,
              "#ed7953"
             ],
             [
              0.7777777777777778,
              "#fb9f3a"
             ],
             [
              0.8888888888888888,
              "#fdca26"
             ],
             [
              1,
              "#f0f921"
             ]
            ],
            "type": "surface"
           }
          ],
          "table": [
           {
            "cells": {
             "fill": {
              "color": "#EBF0F8"
             },
             "line": {
              "color": "white"
             }
            },
            "header": {
             "fill": {
              "color": "#C8D4E3"
             },
             "line": {
              "color": "white"
             }
            },
            "type": "table"
           }
          ]
         },
         "layout": {
          "annotationdefaults": {
           "arrowcolor": "#2a3f5f",
           "arrowhead": 0,
           "arrowwidth": 1
          },
          "autotypenumbers": "strict",
          "coloraxis": {
           "colorbar": {
            "outlinewidth": 0,
            "ticks": ""
           }
          },
          "colorscale": {
           "diverging": [
            [
             0,
             "#8e0152"
            ],
            [
             0.1,
             "#c51b7d"
            ],
            [
             0.2,
             "#de77ae"
            ],
            [
             0.3,
             "#f1b6da"
            ],
            [
             0.4,
             "#fde0ef"
            ],
            [
             0.5,
             "#f7f7f7"
            ],
            [
             0.6,
             "#e6f5d0"
            ],
            [
             0.7,
             "#b8e186"
            ],
            [
             0.8,
             "#7fbc41"
            ],
            [
             0.9,
             "#4d9221"
            ],
            [
             1,
             "#276419"
            ]
           ],
           "sequential": [
            [
             0,
             "#0d0887"
            ],
            [
             0.1111111111111111,
             "#46039f"
            ],
            [
             0.2222222222222222,
             "#7201a8"
            ],
            [
             0.3333333333333333,
             "#9c179e"
            ],
            [
             0.4444444444444444,
             "#bd3786"
            ],
            [
             0.5555555555555556,
             "#d8576b"
            ],
            [
             0.6666666666666666,
             "#ed7953"
            ],
            [
             0.7777777777777778,
             "#fb9f3a"
            ],
            [
             0.8888888888888888,
             "#fdca26"
            ],
            [
             1,
             "#f0f921"
            ]
           ],
           "sequentialminus": [
            [
             0,
             "#0d0887"
            ],
            [
             0.1111111111111111,
             "#46039f"
            ],
            [
             0.2222222222222222,
             "#7201a8"
            ],
            [
             0.3333333333333333,
             "#9c179e"
            ],
            [
             0.4444444444444444,
             "#bd3786"
            ],
            [
             0.5555555555555556,
             "#d8576b"
            ],
            [
             0.6666666666666666,
             "#ed7953"
            ],
            [
             0.7777777777777778,
             "#fb9f3a"
            ],
            [
             0.8888888888888888,
             "#fdca26"
            ],
            [
             1,
             "#f0f921"
            ]
           ]
          },
          "colorway": [
           "#636efa",
           "#EF553B",
           "#00cc96",
           "#ab63fa",
           "#FFA15A",
           "#19d3f3",
           "#FF6692",
           "#B6E880",
           "#FF97FF",
           "#FECB52"
          ],
          "font": {
           "color": "#2a3f5f"
          },
          "geo": {
           "bgcolor": "white",
           "lakecolor": "white",
           "landcolor": "#E5ECF6",
           "showlakes": true,
           "showland": true,
           "subunitcolor": "white"
          },
          "hoverlabel": {
           "align": "left"
          },
          "hovermode": "closest",
          "mapbox": {
           "style": "light"
          },
          "paper_bgcolor": "white",
          "plot_bgcolor": "#E5ECF6",
          "polar": {
           "angularaxis": {
            "gridcolor": "white",
            "linecolor": "white",
            "ticks": ""
           },
           "bgcolor": "#E5ECF6",
           "radialaxis": {
            "gridcolor": "white",
            "linecolor": "white",
            "ticks": ""
           }
          },
          "scene": {
           "xaxis": {
            "backgroundcolor": "#E5ECF6",
            "gridcolor": "white",
            "gridwidth": 2,
            "linecolor": "white",
            "showbackground": true,
            "ticks": "",
            "zerolinecolor": "white"
           },
           "yaxis": {
            "backgroundcolor": "#E5ECF6",
            "gridcolor": "white",
            "gridwidth": 2,
            "linecolor": "white",
            "showbackground": true,
            "ticks": "",
            "zerolinecolor": "white"
           },
           "zaxis": {
            "backgroundcolor": "#E5ECF6",
            "gridcolor": "white",
            "gridwidth": 2,
            "linecolor": "white",
            "showbackground": true,
            "ticks": "",
            "zerolinecolor": "white"
           }
          },
          "shapedefaults": {
           "line": {
            "color": "#2a3f5f"
           }
          },
          "ternary": {
           "aaxis": {
            "gridcolor": "white",
            "linecolor": "white",
            "ticks": ""
           },
           "baxis": {
            "gridcolor": "white",
            "linecolor": "white",
            "ticks": ""
           },
           "bgcolor": "#E5ECF6",
           "caxis": {
            "gridcolor": "white",
            "linecolor": "white",
            "ticks": ""
           }
          },
          "title": {
           "x": 0.05
          },
          "xaxis": {
           "automargin": true,
           "gridcolor": "white",
           "linecolor": "white",
           "ticks": "",
           "title": {
            "standoff": 15
           },
           "zerolinecolor": "white",
           "zerolinewidth": 2
          },
          "yaxis": {
           "automargin": true,
           "gridcolor": "white",
           "linecolor": "white",
           "ticks": "",
           "title": {
            "standoff": 15
           },
           "zerolinecolor": "white",
           "zerolinewidth": 2
          }
         }
        },
        "title": {
         "text": "Interactive Camera Poses"
        }
       }
      }
     },
     "metadata": {},
     "output_type": "display_data"
    },
    {
     "name": "stdout",
     "output_type": "stream",
     "text": [
      "\n",
      "============================================================\n",
      "Processing ratio_threshold=0.75, min_matches=12\n",
      "============================================================\n",
      "Filtered viff.000.png-viff.001.png: 2177 → 2112 matches\n",
      "Filtered viff.001.png-viff.002.png: 2231 → 2181 matches\n",
      "Filtered viff.002.png-viff.003.png: 2361 → 2317 matches\n",
      "Filtered viff.003.png-viff.004.png: 2279 → 2246 matches\n",
      "Filtered viff.004.png-viff.005.png: 2187 → 2155 matches\n",
      "Filtered viff.005.png-viff.006.png: 1822 → 1802 matches\n",
      "Filtered viff.006.png-viff.007.png: 1624 → 1605 matches\n",
      "Filtered viff.007.png-viff.008.png: 1531 → 1518 matches\n",
      "Filtered viff.008.png-viff.009.png: 1605 → 1583 matches\n",
      "Filtered viff.009.png-viff.010.png: 1418 → 1411 matches\n",
      "Filtered viff.010.png-viff.011.png: 1683 → 1664 matches\n",
      "Filtered viff.011.png-viff.012.png: 1674 → 1652 matches\n",
      "Filtered viff.012.png-viff.013.png: 1646 → 1628 matches\n",
      "Filtered viff.013.png-viff.014.png: 1482 → 1471 matches\n",
      "Filtered viff.014.png-viff.015.png: 1366 → 1353 matches\n",
      "Filtered viff.015.png-viff.016.png: 1267 → 1251 matches\n",
      "Filtered viff.016.png-viff.017.png: 1444 → 1425 matches\n",
      "Filtered viff.017.png-viff.018.png: 1536 → 1517 matches\n",
      "Filtered viff.018.png-viff.019.png: 1909 → 1882 matches\n",
      "Filtered viff.019.png-viff.020.png: 1960 → 1921 matches\n",
      "Filtered viff.020.png-viff.021.png: 2124 → 2062 matches\n",
      "Filtered viff.021.png-viff.022.png: 2331 → 2280 matches\n",
      "Filtered viff.022.png-viff.023.png: 2519 → 2482 matches\n",
      "Filtered viff.023.png-viff.024.png: 2356 → 2320 matches\n",
      "Filtered viff.024.png-viff.025.png: 2146 → 2117 matches\n",
      "Filtered viff.025.png-viff.026.png: 1981 → 1963 matches\n",
      "Filtered viff.026.png-viff.027.png: 1780 → 1759 matches\n",
      "Filtered viff.027.png-viff.028.png: 1387 → 1352 matches\n",
      "Filtered viff.028.png-viff.029.png: 1071 → 1055 matches\n",
      "Filtered viff.029.png-viff.030.png: 1100 → 1079 matches\n",
      "Filtered viff.030.png-viff.031.png: 965 → 960 matches\n",
      "Filtered viff.031.png-viff.032.png: 1021 → 1011 matches\n",
      "Filtered viff.032.png-viff.033.png: 1281 → 1272 matches\n",
      "Filtered viff.033.png-viff.034.png: 1694 → 1680 matches\n",
      "Filtered viff.034.png-viff.035.png: 1768 → 1757 matches\n",
      "Filtered viff.035.png-viff.000.png: 2066 → 2038 matches\n",
      "Filtered matches: 36 pairs → 36 pairs\n",
      "Initializing with pair: viff.000.png and viff.001.png (2112 matches)\n",
      "Triangulated 2112 initial points\n",
      "Attempting to add image: viff.002.png\n",
      "Found 246 2D-3D correspondences for viff.002.png\n",
      "PnP successful with 112 inliers. Mean reprojection error: 0.38 pixels\n",
      "Added pose for viff.002.png using 112 / 246 points\n",
      "  Triangulated 1022 new points with viff.001.png and viff.002.png\n",
      "Attempting to add image: viff.003.png\n",
      "Found 232 2D-3D correspondences for viff.003.png\n",
      "PnP successful with 96 inliers. Mean reprojection error: 0.32 pixels\n",
      "Added pose for viff.003.png using 96 / 232 points\n",
      "  Triangulated 1093 new points with viff.002.png and viff.003.png\n",
      "Attempting to add image: viff.004.png\n",
      "Found 226 2D-3D correspondences for viff.004.png\n",
      "PnP successful with 63 inliers. Mean reprojection error: 0.40 pixels\n",
      "Added pose for viff.004.png using 63 / 226 points\n",
      "  Triangulated 1045 new points with viff.003.png and viff.004.png\n",
      "Attempting to add image: viff.005.png\n",
      "Found 218 2D-3D correspondences for viff.005.png\n",
      "PnP successful with 53 inliers. Mean reprojection error: 0.35 pixels\n",
      "Added pose for viff.005.png using 53 / 218 points\n",
      "  Triangulated 1024 new points with viff.004.png and viff.005.png\n",
      "Attempting to add image: viff.006.png\n",
      "Found 174 2D-3D correspondences for viff.006.png\n",
      "PnP successful with 45 inliers. Mean reprojection error: 0.37 pixels\n",
      "Added pose for viff.006.png using 45 / 174 points\n",
      "  Triangulated 894 new points with viff.005.png and viff.006.png\n",
      "Attempting to add image: viff.007.png\n",
      "Found 148 2D-3D correspondences for viff.007.png\n",
      "PnP successful with 30 inliers. Mean reprojection error: 0.38 pixels\n",
      "Added pose for viff.007.png using 30 / 148 points\n",
      "  Triangulated 789 new points with viff.006.png and viff.007.png\n",
      "Attempting to add image: viff.008.png\n",
      "Found 127 2D-3D correspondences for viff.008.png\n",
      "PnP successful with 41 inliers. Mean reprojection error: 0.35 pixels\n",
      "Added pose for viff.008.png using 41 / 127 points\n",
      "  Triangulated 778 new points with viff.007.png and viff.008.png\n",
      "Attempting to add image: viff.009.png\n",
      "Found 159 2D-3D correspondences for viff.009.png\n",
      "PnP successful with 77 inliers. Mean reprojection error: 0.43 pixels\n",
      "Added pose for viff.009.png using 77 / 159 points\n",
      "  Triangulated 780 new points with viff.008.png and viff.009.png\n",
      "Attempting to add image: viff.010.png\n",
      "Found 130 2D-3D correspondences for viff.010.png\n",
      "PnP successful with 96 inliers. Mean reprojection error: 0.36 pixels\n",
      "Added pose for viff.010.png using 96 / 130 points\n",
      "  Triangulated 738 new points with viff.009.png and viff.010.png\n",
      "Attempting to add image: viff.011.png\n",
      "Found 173 2D-3D correspondences for viff.011.png\n",
      "PnP successful with 125 inliers. Mean reprojection error: 0.36 pixels\n",
      "Added pose for viff.011.png using 125 / 173 points\n",
      "  Triangulated 828 new points with viff.010.png and viff.011.png\n",
      "Attempting to add image: viff.012.png\n",
      "Found 191 2D-3D correspondences for viff.012.png\n",
      "PnP successful with 108 inliers. Mean reprojection error: 0.36 pixels\n",
      "Added pose for viff.012.png using 108 / 191 points\n",
      "  Triangulated 794 new points with viff.011.png and viff.012.png\n",
      "Attempting to add image: viff.013.png\n",
      "Found 175 2D-3D correspondences for viff.013.png\n",
      "PnP successful with 79 inliers. Mean reprojection error: 0.40 pixels\n",
      "Added pose for viff.013.png using 79 / 175 points\n",
      "  Triangulated 827 new points with viff.012.png and viff.013.png\n",
      "Attempting to add image: viff.014.png\n",
      "Found 197 2D-3D correspondences for viff.014.png\n",
      "PnP successful with 105 inliers. Mean reprojection error: 0.40 pixels\n",
      "Added pose for viff.014.png using 105 / 197 points\n",
      "  Triangulated 697 new points with viff.013.png and viff.014.png\n",
      "Attempting to add image: viff.015.png\n",
      "Found 133 2D-3D correspondences for viff.015.png\n",
      "PnP successful with 70 inliers. Mean reprojection error: 0.38 pixels\n",
      "Added pose for viff.015.png using 70 / 133 points\n",
      "  Triangulated 687 new points with viff.014.png and viff.015.png\n",
      "Attempting to add image: viff.016.png\n",
      "Found 124 2D-3D correspondences for viff.016.png\n",
      "PnP successful with 73 inliers. Mean reprojection error: 0.39 pixels\n",
      "Added pose for viff.016.png using 73 / 124 points\n",
      "  Triangulated 638 new points with viff.015.png and viff.016.png\n",
      "Attempting to add image: viff.017.png\n",
      "Found 109 2D-3D correspondences for viff.017.png\n",
      "PnP successful with 61 inliers. Mean reprojection error: 0.37 pixels\n",
      "Added pose for viff.017.png using 61 / 109 points\n",
      "  Triangulated 717 new points with viff.016.png and viff.017.png\n",
      "Attempting to add image: viff.018.png\n",
      "Found 119 2D-3D correspondences for viff.018.png\n",
      "PnP successful with 73 inliers. Mean reprojection error: 0.36 pixels\n",
      "Added pose for viff.018.png using 73 / 119 points\n",
      "  Triangulated 785 new points with viff.017.png and viff.018.png\n",
      "Attempting to add image: viff.019.png\n",
      "Found 149 2D-3D correspondences for viff.019.png\n",
      "PnP successful with 81 inliers. Mean reprojection error: 0.39 pixels\n",
      "Added pose for viff.019.png using 81 / 149 points\n",
      "  Triangulated 899 new points with viff.018.png and viff.019.png\n",
      "Attempting to add image: viff.020.png\n",
      "Found 190 2D-3D correspondences for viff.020.png\n",
      "PnP successful with 83 inliers. Mean reprojection error: 0.38 pixels\n",
      "Added pose for viff.020.png using 83 / 190 points\n",
      "  Triangulated 939 new points with viff.019.png and viff.020.png\n",
      "Attempting to add image: viff.021.png\n",
      "Found 204 2D-3D correspondences for viff.021.png\n",
      "PnP successful with 94 inliers. Mean reprojection error: 0.41 pixels\n",
      "Added pose for viff.021.png using 94 / 204 points\n",
      "  Triangulated 992 new points with viff.020.png and viff.021.png\n",
      "Attempting to add image: viff.022.png\n",
      "Found 194 2D-3D correspondences for viff.022.png\n",
      "PnP successful with 70 inliers. Mean reprojection error: 0.40 pixels\n",
      "Added pose for viff.022.png using 70 / 194 points\n",
      "  Triangulated 1058 new points with viff.021.png and viff.022.png\n",
      "Attempting to add image: viff.023.png\n",
      "Found 220 2D-3D correspondences for viff.023.png\n",
      "PnP successful with 85 inliers. Mean reprojection error: 0.42 pixels\n",
      "Added pose for viff.023.png using 85 / 220 points\n",
      "  Triangulated 1119 new points with viff.022.png and viff.023.png\n",
      "Attempting to add image: viff.024.png\n",
      "Found 210 2D-3D correspondences for viff.024.png\n",
      "PnP successful with 96 inliers. Mean reprojection error: 0.40 pixels\n",
      "Added pose for viff.024.png using 96 / 210 points\n",
      "  Triangulated 1015 new points with viff.023.png and viff.024.png\n",
      "Attempting to add image: viff.025.png\n",
      "Found 203 2D-3D correspondences for viff.025.png\n",
      "PnP successful with 99 inliers. Mean reprojection error: 0.38 pixels\n",
      "Added pose for viff.025.png using 99 / 203 points\n",
      "  Triangulated 917 new points with viff.024.png and viff.025.png\n",
      "Attempting to add image: viff.026.png\n",
      "Found 153 2D-3D correspondences for viff.026.png\n",
      "PnP successful with 78 inliers. Mean reprojection error: 0.38 pixels\n",
      "Added pose for viff.026.png using 78 / 153 points\n",
      "  Triangulated 835 new points with viff.025.png and viff.026.png\n",
      "Attempting to add image: viff.027.png\n",
      "Found 153 2D-3D correspondences for viff.027.png\n",
      "PnP successful with 93 inliers. Mean reprojection error: 0.35 pixels\n",
      "Added pose for viff.027.png using 93 / 153 points\n",
      "  Triangulated 749 new points with viff.026.png and viff.027.png\n",
      "Attempting to add image: viff.028.png\n",
      "Found 137 2D-3D correspondences for viff.028.png\n",
      "PnP successful with 85 inliers. Mean reprojection error: 0.37 pixels\n",
      "Added pose for viff.028.png using 85 / 137 points\n",
      "  Triangulated 604 new points with viff.027.png and viff.028.png\n",
      "Attempting to add image: viff.029.png\n",
      "Found 88 2D-3D correspondences for viff.029.png\n",
      "PnP successful with 59 inliers. Mean reprojection error: 0.36 pixels\n",
      "Added pose for viff.029.png using 59 / 88 points\n",
      "  Triangulated 508 new points with viff.028.png and viff.029.png\n",
      "Attempting to add image: viff.030.png\n",
      "Found 65 2D-3D correspondences for viff.030.png\n",
      "PnP successful with 44 inliers. Mean reprojection error: 0.33 pixels\n",
      "Added pose for viff.030.png using 44 / 65 points\n",
      "  Triangulated 532 new points with viff.029.png and viff.030.png\n",
      "Attempting to add image: viff.031.png\n",
      "Found 71 2D-3D correspondences for viff.031.png\n",
      "PnP successful with 49 inliers. Mean reprojection error: 0.37 pixels\n",
      "Added pose for viff.031.png using 49 / 71 points\n",
      "  Triangulated 446 new points with viff.030.png and viff.031.png\n",
      "Attempting to add image: viff.032.png\n",
      "Found 61 2D-3D correspondences for viff.032.png\n",
      "PnP successful with 46 inliers. Mean reprojection error: 0.35 pixels\n",
      "Added pose for viff.032.png using 46 / 61 points\n",
      "  Triangulated 499 new points with viff.031.png and viff.032.png\n",
      "Attempting to add image: viff.033.png\n",
      "Found 74 2D-3D correspondences for viff.033.png\n",
      "PnP successful with 49 inliers. Mean reprojection error: 0.34 pixels\n",
      "Added pose for viff.033.png using 49 / 74 points\n",
      "  Triangulated 626 new points with viff.032.png and viff.033.png\n",
      "Attempting to add image: viff.034.png\n",
      "Found 130 2D-3D correspondences for viff.034.png\n",
      "PnP successful with 80 inliers. Mean reprojection error: 0.36 pixels\n",
      "Added pose for viff.034.png using 80 / 130 points\n",
      "  Triangulated 789 new points with viff.033.png and viff.034.png\n",
      "Attempting to add image: viff.035.png\n",
      "Found 530 2D-3D correspondences for viff.035.png\n",
      "PnP successful with 229 inliers. Mean reprojection error: 0.35 pixels\n",
      "Added pose for viff.035.png using 229 / 530 points\n",
      "  Triangulated 829 new points with viff.034.png and viff.035.png\n",
      "  Triangulated 777 new points with viff.035.png and viff.000.png\n",
      "Estimated poses for 36/36 cameras\n",
      "Total triangulated points: 30381\n",
      "Estimated poses for 36 cameras.\n",
      "Displaying interactive 3D plot...\n"
     ]
    },
    {
     "data": {
      "application/vnd.plotly.v1+json": {
       "config": {
        "plotlyServerURL": "https://plot.ly"
       },
       "data": [
        {
         "marker": {
          "color": "red",
          "size": 8,
          "symbol": "square"
         },
         "mode": "markers+text",
         "name": "Camera Positions",
         "text": [
          "viff.000.png",
          "viff.001.png",
          "viff.002.png",
          "viff.003.png",
          "viff.004.png",
          "viff.005.png",
          "viff.006.png",
          "viff.007.png",
          "viff.008.png",
          "viff.009.png",
          "viff.010.png",
          "viff.011.png",
          "viff.012.png",
          "viff.013.png",
          "viff.014.png",
          "viff.015.png",
          "viff.016.png",
          "viff.017.png",
          "viff.018.png",
          "viff.019.png",
          "viff.020.png",
          "viff.021.png",
          "viff.022.png",
          "viff.023.png",
          "viff.024.png",
          "viff.025.png",
          "viff.026.png",
          "viff.027.png",
          "viff.028.png",
          "viff.029.png",
          "viff.030.png",
          "viff.031.png",
          "viff.032.png",
          "viff.033.png",
          "viff.034.png",
          "viff.035.png"
         ],
         "textposition": "top center",
         "type": "scatter3d",
         "x": {
          "bdata": "AAAAAAAAAADfXr7/QvDvP5ccGVWYGgJA5A7sF0l2CkB+L+XifpQTQJUJYnNifBxAjMlKaxNRI0At62+3WNkpQG0ZbSPf2itAXi2VJepBLkBoRGOIrhMwQOly1my+bDFAQRiYMpYYM0DVqT+3hzo1QHkzBSiz8TZAIK1yEqL2NkBAyyKj4GQ1QF1lMmlnDzNAMxxlR5+GL0Ckaj1P0dYnQOZs8mcVxB5AQfrLZoWCCkCzaB3yqYPtv6WFUK3FtBHA8G7QPKyJH8Cf24IPJFsmwBljwiB5+izA7nFCGu1dMcAP1BWOp80zwD0eNQ+QqTXAbyTFRaIbN8A4IHDhS+Q3wBM1SK3A9TfAtZjVcf+JN8A2IBM3t5M2wARz3xmL+u+/",
          "dtype": "f8"
         },
         "y": {
          "bdata": "AAAAAAAAAACXlbp+kvupvzkuzqHKyrK/dKJWfHMyo79AFj0s/17JP72UJ11AiuM/DHR+ea89AEDDzKPkNdEFQHg4/M9/7uY/4FjY3olk8r9u4srHUPgDwNx1qrzz7A3AkM5qvhvzEsAPVgUhqgEYwLtXeku4jiDAyf6N1LGkJ8CnGK+hINwuwOM/H9KFpjLAYN7Cxx+ENcDy8n4j6sc3wApCx6bqZjnAlam7klpQOsD4eIvYGms6wG32j7U7BzrAoBwlbNFNOcCnzw96Bko4wMEl4o2PpzbAYOD8/r/MNMDVv4TSBoUywHc24Kyxoy/AkNWHOU7dKcADSwHLAQMkwBJUfMLUARzAvw01Xfc5EMBSbJ8Ep034v6898lThwb0/",
          "dtype": "f8"
         },
         "z": {
          "bdata": "AAAAAAAAAAC+WzliyjKivy/kvxImbqq/O2nw4KUo0L8JWImTlYLmv5Cbum6pZPO/5CrLAv7r+r/l/pE9zHH1v8fsLjyX+bC/ra/gX5Ye9D9vGuS0hfkCQO3l5h6xcgxAiPZN8AmuE0CKIxNVKm8cQDzwvHhVxCRArsqSsMLEK0DTjtT8WdswQAErLHVAfDNAWGR4+gdXNUAn7hcwArY2QGFKFP6chzdAn9SSvYTyN0Dzcd3NFrQ3QLW0PfXjBTdAeNfwjlVtNkA6Cl7Nb441QDXNQSCPVTRAp8IfpEnsMkBDOcqaSiExQNZbicHQQi5AiFdhkaH9KUAQ3wPuLh0lQPOkKPLWNyBADnmiuSUtF0C44yyPHJoOQIK+wJehJMC/",
          "dtype": "f8"
         }
        },
        {
         "line": {
          "color": "blue",
          "width": 2
         },
         "mode": "lines",
         "name": "Camera Trajectory",
         "type": "scatter3d",
         "x": {
          "bdata": "AAAAAAAAAADfXr7/QvDvP5ccGVWYGgJA5A7sF0l2CkB+L+XifpQTQJUJYnNifBxAjMlKaxNRI0At62+3WNkpQG0ZbSPf2itAXi2VJepBLkBoRGOIrhMwQOly1my+bDFAQRiYMpYYM0DVqT+3hzo1QHkzBSiz8TZAIK1yEqL2NkBAyyKj4GQ1QF1lMmlnDzNAMxxlR5+GL0Ckaj1P0dYnQOZs8mcVxB5AQfrLZoWCCkCzaB3yqYPtv6WFUK3FtBHA8G7QPKyJH8Cf24IPJFsmwBljwiB5+izA7nFCGu1dMcAP1BWOp80zwD0eNQ+QqTXAbyTFRaIbN8A4IHDhS+Q3wBM1SK3A9TfAtZjVcf+JN8A2IBM3t5M2wARz3xmL+u+/",
          "dtype": "f8"
         },
         "y": {
          "bdata": "AAAAAAAAAACXlbp+kvupvzkuzqHKyrK/dKJWfHMyo79AFj0s/17JP72UJ11AiuM/DHR+ea89AEDDzKPkNdEFQHg4/M9/7uY/4FjY3olk8r9u4srHUPgDwNx1qrzz7A3AkM5qvhvzEsAPVgUhqgEYwLtXeku4jiDAyf6N1LGkJ8CnGK+hINwuwOM/H9KFpjLAYN7Cxx+ENcDy8n4j6sc3wApCx6bqZjnAlam7klpQOsD4eIvYGms6wG32j7U7BzrAoBwlbNFNOcCnzw96Bko4wMEl4o2PpzbAYOD8/r/MNMDVv4TSBoUywHc24Kyxoy/AkNWHOU7dKcADSwHLAQMkwBJUfMLUARzAvw01Xfc5EMBSbJ8Ep034v6898lThwb0/",
          "dtype": "f8"
         },
         "z": {
          "bdata": "AAAAAAAAAAC+WzliyjKivy/kvxImbqq/O2nw4KUo0L8JWImTlYLmv5Cbum6pZPO/5CrLAv7r+r/l/pE9zHH1v8fsLjyX+bC/ra/gX5Ye9D9vGuS0hfkCQO3l5h6xcgxAiPZN8AmuE0CKIxNVKm8cQDzwvHhVxCRArsqSsMLEK0DTjtT8WdswQAErLHVAfDNAWGR4+gdXNUAn7hcwArY2QGFKFP6chzdAn9SSvYTyN0Dzcd3NFrQ3QLW0PfXjBTdAeNfwjlVtNkA6Cl7Nb441QDXNQSCPVTRAp8IfpEnsMkBDOcqaSiExQNZbicHQQi5AiFdhkaH9KUAQ3wPuLh0lQPOkKPLWNyBADnmiuSUtF0C44yyPHJoOQIK+wJehJMC/",
          "dtype": "f8"
         }
        }
       ],
       "layout": {
        "margin": {
         "b": 0,
         "l": 0,
         "r": 0,
         "t": 30
        },
        "scene": {
         "aspectmode": "cube",
         "xaxis": {
          "range": [
           -23.959971265915627,
           22.96341052341188
          ]
         },
         "yaxis": {
          "range": [
           -35.30730330034638,
           11.616078488981124
          ]
         },
         "zaxis": {
          "range": [
           -12.329329560132583,
           34.59405222919492
          ]
         }
        },
        "template": {
         "data": {
          "bar": [
           {
            "error_x": {
             "color": "#2a3f5f"
            },
            "error_y": {
             "color": "#2a3f5f"
            },
            "marker": {
             "line": {
              "color": "#E5ECF6",
              "width": 0.5
             },
             "pattern": {
              "fillmode": "overlay",
              "size": 10,
              "solidity": 0.2
             }
            },
            "type": "bar"
           }
          ],
          "barpolar": [
           {
            "marker": {
             "line": {
              "color": "#E5ECF6",
              "width": 0.5
             },
             "pattern": {
              "fillmode": "overlay",
              "size": 10,
              "solidity": 0.2
             }
            },
            "type": "barpolar"
           }
          ],
          "carpet": [
           {
            "aaxis": {
             "endlinecolor": "#2a3f5f",
             "gridcolor": "white",
             "linecolor": "white",
             "minorgridcolor": "white",
             "startlinecolor": "#2a3f5f"
            },
            "baxis": {
             "endlinecolor": "#2a3f5f",
             "gridcolor": "white",
             "linecolor": "white",
             "minorgridcolor": "white",
             "startlinecolor": "#2a3f5f"
            },
            "type": "carpet"
           }
          ],
          "choropleth": [
           {
            "colorbar": {
             "outlinewidth": 0,
             "ticks": ""
            },
            "type": "choropleth"
           }
          ],
          "contour": [
           {
            "colorbar": {
             "outlinewidth": 0,
             "ticks": ""
            },
            "colorscale": [
             [
              0,
              "#0d0887"
             ],
             [
              0.1111111111111111,
              "#46039f"
             ],
             [
              0.2222222222222222,
              "#7201a8"
             ],
             [
              0.3333333333333333,
              "#9c179e"
             ],
             [
              0.4444444444444444,
              "#bd3786"
             ],
             [
              0.5555555555555556,
              "#d8576b"
             ],
             [
              0.6666666666666666,
              "#ed7953"
             ],
             [
              0.7777777777777778,
              "#fb9f3a"
             ],
             [
              0.8888888888888888,
              "#fdca26"
             ],
             [
              1,
              "#f0f921"
             ]
            ],
            "type": "contour"
           }
          ],
          "contourcarpet": [
           {
            "colorbar": {
             "outlinewidth": 0,
             "ticks": ""
            },
            "type": "contourcarpet"
           }
          ],
          "heatmap": [
           {
            "colorbar": {
             "outlinewidth": 0,
             "ticks": ""
            },
            "colorscale": [
             [
              0,
              "#0d0887"
             ],
             [
              0.1111111111111111,
              "#46039f"
             ],
             [
              0.2222222222222222,
              "#7201a8"
             ],
             [
              0.3333333333333333,
              "#9c179e"
             ],
             [
              0.4444444444444444,
              "#bd3786"
             ],
             [
              0.5555555555555556,
              "#d8576b"
             ],
             [
              0.6666666666666666,
              "#ed7953"
             ],
             [
              0.7777777777777778,
              "#fb9f3a"
             ],
             [
              0.8888888888888888,
              "#fdca26"
             ],
             [
              1,
              "#f0f921"
             ]
            ],
            "type": "heatmap"
           }
          ],
          "histogram": [
           {
            "marker": {
             "pattern": {
              "fillmode": "overlay",
              "size": 10,
              "solidity": 0.2
             }
            },
            "type": "histogram"
           }
          ],
          "histogram2d": [
           {
            "colorbar": {
             "outlinewidth": 0,
             "ticks": ""
            },
            "colorscale": [
             [
              0,
              "#0d0887"
             ],
             [
              0.1111111111111111,
              "#46039f"
             ],
             [
              0.2222222222222222,
              "#7201a8"
             ],
             [
              0.3333333333333333,
              "#9c179e"
             ],
             [
              0.4444444444444444,
              "#bd3786"
             ],
             [
              0.5555555555555556,
              "#d8576b"
             ],
             [
              0.6666666666666666,
              "#ed7953"
             ],
             [
              0.7777777777777778,
              "#fb9f3a"
             ],
             [
              0.8888888888888888,
              "#fdca26"
             ],
             [
              1,
              "#f0f921"
             ]
            ],
            "type": "histogram2d"
           }
          ],
          "histogram2dcontour": [
           {
            "colorbar": {
             "outlinewidth": 0,
             "ticks": ""
            },
            "colorscale": [
             [
              0,
              "#0d0887"
             ],
             [
              0.1111111111111111,
              "#46039f"
             ],
             [
              0.2222222222222222,
              "#7201a8"
             ],
             [
              0.3333333333333333,
              "#9c179e"
             ],
             [
              0.4444444444444444,
              "#bd3786"
             ],
             [
              0.5555555555555556,
              "#d8576b"
             ],
             [
              0.6666666666666666,
              "#ed7953"
             ],
             [
              0.7777777777777778,
              "#fb9f3a"
             ],
             [
              0.8888888888888888,
              "#fdca26"
             ],
             [
              1,
              "#f0f921"
             ]
            ],
            "type": "histogram2dcontour"
           }
          ],
          "mesh3d": [
           {
            "colorbar": {
             "outlinewidth": 0,
             "ticks": ""
            },
            "type": "mesh3d"
           }
          ],
          "parcoords": [
           {
            "line": {
             "colorbar": {
              "outlinewidth": 0,
              "ticks": ""
             }
            },
            "type": "parcoords"
           }
          ],
          "pie": [
           {
            "automargin": true,
            "type": "pie"
           }
          ],
          "scatter": [
           {
            "fillpattern": {
             "fillmode": "overlay",
             "size": 10,
             "solidity": 0.2
            },
            "type": "scatter"
           }
          ],
          "scatter3d": [
           {
            "line": {
             "colorbar": {
              "outlinewidth": 0,
              "ticks": ""
             }
            },
            "marker": {
             "colorbar": {
              "outlinewidth": 0,
              "ticks": ""
             }
            },
            "type": "scatter3d"
           }
          ],
          "scattercarpet": [
           {
            "marker": {
             "colorbar": {
              "outlinewidth": 0,
              "ticks": ""
             }
            },
            "type": "scattercarpet"
           }
          ],
          "scattergeo": [
           {
            "marker": {
             "colorbar": {
              "outlinewidth": 0,
              "ticks": ""
             }
            },
            "type": "scattergeo"
           }
          ],
          "scattergl": [
           {
            "marker": {
             "colorbar": {
              "outlinewidth": 0,
              "ticks": ""
             }
            },
            "type": "scattergl"
           }
          ],
          "scattermap": [
           {
            "marker": {
             "colorbar": {
              "outlinewidth": 0,
              "ticks": ""
             }
            },
            "type": "scattermap"
           }
          ],
          "scattermapbox": [
           {
            "marker": {
             "colorbar": {
              "outlinewidth": 0,
              "ticks": ""
             }
            },
            "type": "scattermapbox"
           }
          ],
          "scatterpolar": [
           {
            "marker": {
             "colorbar": {
              "outlinewidth": 0,
              "ticks": ""
             }
            },
            "type": "scatterpolar"
           }
          ],
          "scatterpolargl": [
           {
            "marker": {
             "colorbar": {
              "outlinewidth": 0,
              "ticks": ""
             }
            },
            "type": "scatterpolargl"
           }
          ],
          "scatterternary": [
           {
            "marker": {
             "colorbar": {
              "outlinewidth": 0,
              "ticks": ""
             }
            },
            "type": "scatterternary"
           }
          ],
          "surface": [
           {
            "colorbar": {
             "outlinewidth": 0,
             "ticks": ""
            },
            "colorscale": [
             [
              0,
              "#0d0887"
             ],
             [
              0.1111111111111111,
              "#46039f"
             ],
             [
              0.2222222222222222,
              "#7201a8"
             ],
             [
              0.3333333333333333,
              "#9c179e"
             ],
             [
              0.4444444444444444,
              "#bd3786"
             ],
             [
              0.5555555555555556,
              "#d8576b"
             ],
             [
              0.6666666666666666,
              "#ed7953"
             ],
             [
              0.7777777777777778,
              "#fb9f3a"
             ],
             [
              0.8888888888888888,
              "#fdca26"
             ],
             [
              1,
              "#f0f921"
             ]
            ],
            "type": "surface"
           }
          ],
          "table": [
           {
            "cells": {
             "fill": {
              "color": "#EBF0F8"
             },
             "line": {
              "color": "white"
             }
            },
            "header": {
             "fill": {
              "color": "#C8D4E3"
             },
             "line": {
              "color": "white"
             }
            },
            "type": "table"
           }
          ]
         },
         "layout": {
          "annotationdefaults": {
           "arrowcolor": "#2a3f5f",
           "arrowhead": 0,
           "arrowwidth": 1
          },
          "autotypenumbers": "strict",
          "coloraxis": {
           "colorbar": {
            "outlinewidth": 0,
            "ticks": ""
           }
          },
          "colorscale": {
           "diverging": [
            [
             0,
             "#8e0152"
            ],
            [
             0.1,
             "#c51b7d"
            ],
            [
             0.2,
             "#de77ae"
            ],
            [
             0.3,
             "#f1b6da"
            ],
            [
             0.4,
             "#fde0ef"
            ],
            [
             0.5,
             "#f7f7f7"
            ],
            [
             0.6,
             "#e6f5d0"
            ],
            [
             0.7,
             "#b8e186"
            ],
            [
             0.8,
             "#7fbc41"
            ],
            [
             0.9,
             "#4d9221"
            ],
            [
             1,
             "#276419"
            ]
           ],
           "sequential": [
            [
             0,
             "#0d0887"
            ],
            [
             0.1111111111111111,
             "#46039f"
            ],
            [
             0.2222222222222222,
             "#7201a8"
            ],
            [
             0.3333333333333333,
             "#9c179e"
            ],
            [
             0.4444444444444444,
             "#bd3786"
            ],
            [
             0.5555555555555556,
             "#d8576b"
            ],
            [
             0.6666666666666666,
             "#ed7953"
            ],
            [
             0.7777777777777778,
             "#fb9f3a"
            ],
            [
             0.8888888888888888,
             "#fdca26"
            ],
            [
             1,
             "#f0f921"
            ]
           ],
           "sequentialminus": [
            [
             0,
             "#0d0887"
            ],
            [
             0.1111111111111111,
             "#46039f"
            ],
            [
             0.2222222222222222,
             "#7201a8"
            ],
            [
             0.3333333333333333,
             "#9c179e"
            ],
            [
             0.4444444444444444,
             "#bd3786"
            ],
            [
             0.5555555555555556,
             "#d8576b"
            ],
            [
             0.6666666666666666,
             "#ed7953"
            ],
            [
             0.7777777777777778,
             "#fb9f3a"
            ],
            [
             0.8888888888888888,
             "#fdca26"
            ],
            [
             1,
             "#f0f921"
            ]
           ]
          },
          "colorway": [
           "#636efa",
           "#EF553B",
           "#00cc96",
           "#ab63fa",
           "#FFA15A",
           "#19d3f3",
           "#FF6692",
           "#B6E880",
           "#FF97FF",
           "#FECB52"
          ],
          "font": {
           "color": "#2a3f5f"
          },
          "geo": {
           "bgcolor": "white",
           "lakecolor": "white",
           "landcolor": "#E5ECF6",
           "showlakes": true,
           "showland": true,
           "subunitcolor": "white"
          },
          "hoverlabel": {
           "align": "left"
          },
          "hovermode": "closest",
          "mapbox": {
           "style": "light"
          },
          "paper_bgcolor": "white",
          "plot_bgcolor": "#E5ECF6",
          "polar": {
           "angularaxis": {
            "gridcolor": "white",
            "linecolor": "white",
            "ticks": ""
           },
           "bgcolor": "#E5ECF6",
           "radialaxis": {
            "gridcolor": "white",
            "linecolor": "white",
            "ticks": ""
           }
          },
          "scene": {
           "xaxis": {
            "backgroundcolor": "#E5ECF6",
            "gridcolor": "white",
            "gridwidth": 2,
            "linecolor": "white",
            "showbackground": true,
            "ticks": "",
            "zerolinecolor": "white"
           },
           "yaxis": {
            "backgroundcolor": "#E5ECF6",
            "gridcolor": "white",
            "gridwidth": 2,
            "linecolor": "white",
            "showbackground": true,
            "ticks": "",
            "zerolinecolor": "white"
           },
           "zaxis": {
            "backgroundcolor": "#E5ECF6",
            "gridcolor": "white",
            "gridwidth": 2,
            "linecolor": "white",
            "showbackground": true,
            "ticks": "",
            "zerolinecolor": "white"
           }
          },
          "shapedefaults": {
           "line": {
            "color": "#2a3f5f"
           }
          },
          "ternary": {
           "aaxis": {
            "gridcolor": "white",
            "linecolor": "white",
            "ticks": ""
           },
           "baxis": {
            "gridcolor": "white",
            "linecolor": "white",
            "ticks": ""
           },
           "bgcolor": "#E5ECF6",
           "caxis": {
            "gridcolor": "white",
            "linecolor": "white",
            "ticks": ""
           }
          },
          "title": {
           "x": 0.05
          },
          "xaxis": {
           "automargin": true,
           "gridcolor": "white",
           "linecolor": "white",
           "ticks": "",
           "title": {
            "standoff": 15
           },
           "zerolinecolor": "white",
           "zerolinewidth": 2
          },
          "yaxis": {
           "automargin": true,
           "gridcolor": "white",
           "linecolor": "white",
           "ticks": "",
           "title": {
            "standoff": 15
           },
           "zerolinecolor": "white",
           "zerolinewidth": 2
          }
         }
        },
        "title": {
         "text": "Interactive Camera Poses"
        }
       }
      }
     },
     "metadata": {},
     "output_type": "display_data"
    },
    {
     "name": "stdout",
     "output_type": "stream",
     "text": [
      "\n",
      "============================================================\n",
      "Processing ratio_threshold=0.75, min_matches=14\n",
      "============================================================\n",
      "Filtered viff.000.png-viff.001.png: 2208 → 2144 matches\n",
      "Filtered viff.001.png-viff.002.png: 2064 → 2025 matches\n",
      "Filtered viff.002.png-viff.003.png: 2333 → 2286 matches\n",
      "Filtered viff.003.png-viff.004.png: 2348 → 2312 matches\n",
      "Filtered viff.004.png-viff.005.png: 2168 → 2135 matches\n",
      "Filtered viff.005.png-viff.006.png: 1868 → 1849 matches\n",
      "Filtered viff.006.png-viff.007.png: 1649 → 1627 matches\n",
      "Filtered viff.007.png-viff.008.png: 1604 → 1592 matches\n",
      "Filtered viff.008.png-viff.009.png: 1558 → 1538 matches\n",
      "Filtered viff.009.png-viff.010.png: 1585 → 1573 matches\n",
      "Filtered viff.010.png-viff.011.png: 1704 → 1685 matches\n",
      "Filtered viff.011.png-viff.012.png: 1683 → 1661 matches\n",
      "Filtered viff.012.png-viff.013.png: 1628 → 1611 matches\n",
      "Filtered viff.013.png-viff.014.png: 1529 → 1516 matches\n",
      "Filtered viff.014.png-viff.015.png: 1216 → 1205 matches\n",
      "Filtered viff.015.png-viff.016.png: 1267 → 1246 matches\n",
      "Filtered viff.016.png-viff.017.png: 1491 → 1472 matches\n",
      "Filtered viff.017.png-viff.018.png: 1593 → 1573 matches\n",
      "Filtered viff.018.png-viff.019.png: 1855 → 1830 matches\n",
      "Filtered viff.019.png-viff.020.png: 1937 → 1894 matches\n",
      "Filtered viff.020.png-viff.021.png: 2136 → 2079 matches\n",
      "Filtered viff.021.png-viff.022.png: 2304 → 2256 matches\n",
      "Filtered viff.022.png-viff.023.png: 2545 → 2512 matches\n",
      "Filtered viff.023.png-viff.024.png: 2308 → 2275 matches\n",
      "Filtered viff.024.png-viff.025.png: 2321 → 2293 matches\n",
      "Filtered viff.025.png-viff.026.png: 2107 → 2078 matches\n",
      "Filtered viff.026.png-viff.027.png: 1798 → 1774 matches\n",
      "Filtered viff.027.png-viff.028.png: 1402 → 1369 matches\n",
      "Filtered viff.028.png-viff.029.png: 1163 → 1148 matches\n",
      "Filtered viff.029.png-viff.030.png: 1175 → 1157 matches\n",
      "Filtered viff.030.png-viff.031.png: 908 → 896 matches\n",
      "Filtered viff.031.png-viff.032.png: 1040 → 1032 matches\n",
      "Filtered viff.032.png-viff.033.png: 1291 → 1280 matches\n",
      "Filtered viff.033.png-viff.034.png: 1501 → 1491 matches\n",
      "Filtered viff.034.png-viff.035.png: 1863 → 1850 matches\n",
      "Filtered viff.035.png-viff.000.png: 2094 → 2064 matches\n",
      "Filtered matches: 36 pairs → 36 pairs\n",
      "Initializing with pair: viff.000.png and viff.001.png (2144 matches)\n",
      "Triangulated 1550 initial points\n",
      "Attempting to add image: viff.002.png\n",
      "Found 135 2D-3D correspondences for viff.002.png\n",
      "PnP successful with 56 inliers. Mean reprojection error: 0.39 pixels\n",
      "Added pose for viff.002.png using 56 / 135 points\n",
      "  Triangulated 619 new points with viff.001.png and viff.002.png\n",
      "Attempting to add image: viff.003.png\n",
      "Found 113 2D-3D correspondences for viff.003.png\n",
      "PnP successful with 53 inliers. Mean reprojection error: 0.37 pixels\n",
      "Added pose for viff.003.png using 53 / 113 points\n",
      "  Triangulated 633 new points with viff.002.png and viff.003.png\n",
      "Attempting to add image: viff.004.png\n",
      "Found 120 2D-3D correspondences for viff.004.png\n",
      "PnP successful with 49 inliers. Mean reprojection error: 0.37 pixels\n",
      "Added pose for viff.004.png using 49 / 120 points\n",
      "  Triangulated 548 new points with viff.003.png and viff.004.png\n",
      "Attempting to add image: viff.005.png\n",
      "Found 107 2D-3D correspondences for viff.005.png\n",
      "PnP successful with 59 inliers. Mean reprojection error: 0.42 pixels\n",
      "Added pose for viff.005.png using 59 / 107 points\n",
      "  Triangulated 489 new points with viff.004.png and viff.005.png\n",
      "Attempting to add image: viff.006.png\n",
      "Found 81 2D-3D correspondences for viff.006.png\n",
      "PnP successful with 38 inliers. Mean reprojection error: 0.33 pixels\n",
      "Added pose for viff.006.png using 38 / 81 points\n",
      "  Triangulated 519 new points with viff.005.png and viff.006.png\n",
      "Attempting to add image: viff.007.png\n",
      "Found 104 2D-3D correspondences for viff.007.png\n",
      "PnP successful with 59 inliers. Mean reprojection error: 0.36 pixels\n",
      "Added pose for viff.007.png using 59 / 104 points\n",
      "  Triangulated 467 new points with viff.006.png and viff.007.png\n",
      "Attempting to add image: viff.008.png\n",
      "Found 85 2D-3D correspondences for viff.008.png\n",
      "PnP successful with 44 inliers. Mean reprojection error: 0.34 pixels\n",
      "Added pose for viff.008.png using 44 / 85 points\n",
      "  Triangulated 562 new points with viff.007.png and viff.008.png\n",
      "Attempting to add image: viff.009.png\n",
      "Found 129 2D-3D correspondences for viff.009.png\n",
      "PnP successful with 71 inliers. Mean reprojection error: 0.36 pixels\n",
      "Added pose for viff.009.png using 71 / 129 points\n",
      "  Triangulated 571 new points with viff.008.png and viff.009.png\n",
      "Attempting to add image: viff.010.png\n",
      "Found 100 2D-3D correspondences for viff.010.png\n",
      "PnP successful with 51 inliers. Mean reprojection error: 0.35 pixels\n",
      "Added pose for viff.010.png using 51 / 100 points\n",
      "  Triangulated 632 new points with viff.009.png and viff.010.png\n",
      "Attempting to add image: viff.011.png\n",
      "Found 132 2D-3D correspondences for viff.011.png\n",
      "PnP successful with 59 inliers. Mean reprojection error: 0.37 pixels\n",
      "Added pose for viff.011.png using 59 / 132 points\n",
      "  Triangulated 835 new points with viff.010.png and viff.011.png\n",
      "Attempting to add image: viff.012.png\n",
      "Found 211 2D-3D correspondences for viff.012.png\n",
      "PnP successful with 85 inliers. Mean reprojection error: 0.36 pixels\n",
      "Added pose for viff.012.png using 85 / 211 points\n",
      "  Triangulated 789 new points with viff.011.png and viff.012.png\n",
      "Attempting to add image: viff.013.png\n",
      "Found 181 2D-3D correspondences for viff.013.png\n",
      "PnP successful with 53 inliers. Mean reprojection error: 0.41 pixels\n",
      "Added pose for viff.013.png using 53 / 181 points\n",
      "  Triangulated 755 new points with viff.012.png and viff.013.png\n",
      "Attempting to add image: viff.014.png\n",
      "Found 179 2D-3D correspondences for viff.014.png\n",
      "PnP successful with 49 inliers. Mean reprojection error: 0.36 pixels\n",
      "Added pose for viff.014.png using 49 / 179 points\n",
      "  Triangulated 639 new points with viff.013.png and viff.014.png\n",
      "Attempting to add image: viff.015.png\n",
      "Found 118 2D-3D correspondences for viff.015.png\n",
      "PnP successful with 46 inliers. Mean reprojection error: 0.40 pixels\n",
      "Added pose for viff.015.png using 46 / 118 points\n",
      "  Triangulated 552 new points with viff.014.png and viff.015.png\n",
      "Attempting to add image: viff.016.png\n",
      "Found 104 2D-3D correspondences for viff.016.png\n",
      "PnP successful with 42 inliers. Mean reprojection error: 0.39 pixels\n",
      "Added pose for viff.016.png using 42 / 104 points\n",
      "  Triangulated 575 new points with viff.015.png and viff.016.png\n",
      "Attempting to add image: viff.017.png\n",
      "Found 118 2D-3D correspondences for viff.017.png\n",
      "PnP successful with 43 inliers. Mean reprojection error: 0.38 pixels\n",
      "Added pose for viff.017.png using 43 / 118 points\n",
      "  Triangulated 658 new points with viff.016.png and viff.017.png\n",
      "Attempting to add image: viff.018.png\n",
      "Found 126 2D-3D correspondences for viff.018.png\n",
      "PnP successful with 35 inliers. Mean reprojection error: 0.38 pixels\n",
      "Added pose for viff.018.png using 35 / 126 points\n",
      "  Triangulated 723 new points with viff.017.png and viff.018.png\n",
      "Attempting to add image: viff.019.png\n",
      "Found 126 2D-3D correspondences for viff.019.png\n",
      "PnP successful with 35 inliers. Mean reprojection error: 0.42 pixels\n",
      "Added pose for viff.019.png using 35 / 126 points\n",
      "  Triangulated 805 new points with viff.018.png and viff.019.png\n",
      "Attempting to add image: viff.020.png\n",
      "Found 151 2D-3D correspondences for viff.020.png\n",
      "PnP successful with 33 inliers. Mean reprojection error: 0.41 pixels\n",
      "Added pose for viff.020.png using 33 / 151 points\n",
      "  Triangulated 794 new points with viff.019.png and viff.020.png\n",
      "Attempting to add image: viff.021.png\n",
      "Found 165 2D-3D correspondences for viff.021.png\n",
      "PnP successful with 32 inliers. Mean reprojection error: 0.41 pixels\n",
      "Added pose for viff.021.png using 32 / 165 points\n",
      "  Triangulated 884 new points with viff.020.png and viff.021.png\n",
      "Attempting to add image: viff.022.png\n",
      "Found 158 2D-3D correspondences for viff.022.png\n",
      "PnP successful with 35 inliers. Mean reprojection error: 0.38 pixels\n",
      "Added pose for viff.022.png using 35 / 158 points\n",
      "  Triangulated 888 new points with viff.021.png and viff.022.png\n",
      "Attempting to add image: viff.023.png\n",
      "Found 187 2D-3D correspondences for viff.023.png\n",
      "PnP successful with 31 inliers. Mean reprojection error: 0.39 pixels\n",
      "Added pose for viff.023.png using 31 / 187 points\n",
      "  Triangulated 975 new points with viff.022.png and viff.023.png\n",
      "Attempting to add image: viff.024.png\n",
      "Found 204 2D-3D correspondences for viff.024.png\n",
      "PnP successful with 38 inliers. Mean reprojection error: 0.36 pixels\n",
      "Added pose for viff.024.png using 38 / 204 points\n",
      "  Triangulated 921 new points with viff.023.png and viff.024.png\n",
      "Attempting to add image: viff.025.png\n",
      "Found 176 2D-3D correspondences for viff.025.png\n",
      "PnP successful with 36 inliers. Mean reprojection error: 0.37 pixels\n",
      "Added pose for viff.025.png using 36 / 176 points\n",
      "  Triangulated 953 new points with viff.024.png and viff.025.png\n",
      "Attempting to add image: viff.026.png\n",
      "Found 163 2D-3D correspondences for viff.026.png\n",
      "PnP successful with 40 inliers. Mean reprojection error: 0.35 pixels\n",
      "Added pose for viff.026.png using 40 / 163 points\n",
      "  Triangulated 824 new points with viff.025.png and viff.026.png\n",
      "Attempting to add image: viff.027.png\n",
      "Found 156 2D-3D correspondences for viff.027.png\n",
      "PnP successful with 35 inliers. Mean reprojection error: 0.38 pixels\n",
      "Added pose for viff.027.png using 35 / 156 points\n",
      "  Triangulated 523 new points with viff.026.png and viff.027.png\n",
      "Attempting to add image: viff.028.png\n",
      "Found 90 2D-3D correspondences for viff.028.png\n",
      "PnP successful with 33 inliers. Mean reprojection error: 0.38 pixels\n",
      "Added pose for viff.028.png using 33 / 90 points\n",
      "  Triangulated 344 new points with viff.027.png and viff.028.png\n",
      "Attempting to add image: viff.029.png\n",
      "Found 48 2D-3D correspondences for viff.029.png\n",
      "PnP successful with 29 inliers. Mean reprojection error: 0.40 pixels\n",
      "Added pose for viff.029.png using 29 / 48 points\n",
      "  Triangulated 248 new points with viff.028.png and viff.029.png\n",
      "Attempting to add image: viff.030.png\n",
      "Found 39 2D-3D correspondences for viff.030.png\n",
      "PnP successful with 17 inliers. Mean reprojection error: 0.32 pixels\n",
      "Added pose for viff.030.png using 17 / 39 points\n",
      "  Triangulated 256 new points with viff.029.png and viff.030.png\n",
      "Attempting to add image: viff.031.png\n",
      "Found 32 2D-3D correspondences for viff.031.png\n",
      "PnP successful with 24 inliers. Mean reprojection error: 0.29 pixels\n",
      "Added pose for viff.031.png using 24 / 32 points\n",
      "  Triangulated 197 new points with viff.030.png and viff.031.png\n",
      "Attempting to add image: viff.032.png\n",
      "Found 29 2D-3D correspondences for viff.032.png\n",
      "PnP successful with 24 inliers. Mean reprojection error: 0.32 pixels\n",
      "Added pose for viff.032.png using 24 / 29 points\n",
      "  Triangulated 249 new points with viff.031.png and viff.032.png\n",
      "Attempting to add image: viff.033.png\n",
      "Found 49 2D-3D correspondences for viff.033.png\n",
      "PnP successful with 32 inliers. Mean reprojection error: 0.36 pixels\n",
      "Added pose for viff.033.png using 32 / 49 points\n",
      "  Triangulated 250 new points with viff.032.png and viff.033.png\n",
      "Attempting to add image: viff.034.png\n",
      "Found 53 2D-3D correspondences for viff.034.png\n",
      "PnP successful with 30 inliers. Mean reprojection error: 0.34 pixels\n",
      "Added pose for viff.034.png using 30 / 53 points\n",
      "  Triangulated 401 new points with viff.033.png and viff.034.png\n",
      "Attempting to add image: viff.035.png\n",
      "Found 358 2D-3D correspondences for viff.035.png\n",
      "PnP successful with 149 inliers. Mean reprojection error: 0.34 pixels\n",
      "Added pose for viff.035.png using 149 / 358 points\n",
      "  Triangulated 918 new points with viff.034.png and viff.035.png\n",
      "  Triangulated 586 new points with viff.035.png and viff.000.png\n",
      "Estimated poses for 36/36 cameras\n",
      "Total triangulated points: 23132\n",
      "Estimated poses for 36 cameras.\n",
      "Displaying interactive 3D plot...\n"
     ]
    },
    {
     "data": {
      "application/vnd.plotly.v1+json": {
       "config": {
        "plotlyServerURL": "https://plot.ly"
       },
       "data": [
        {
         "marker": {
          "color": "red",
          "size": 8,
          "symbol": "square"
         },
         "mode": "markers+text",
         "name": "Camera Positions",
         "text": [
          "viff.000.png",
          "viff.001.png",
          "viff.002.png",
          "viff.003.png",
          "viff.004.png",
          "viff.005.png",
          "viff.006.png",
          "viff.007.png",
          "viff.008.png",
          "viff.009.png",
          "viff.010.png",
          "viff.011.png",
          "viff.012.png",
          "viff.013.png",
          "viff.014.png",
          "viff.015.png",
          "viff.016.png",
          "viff.017.png",
          "viff.018.png",
          "viff.019.png",
          "viff.020.png",
          "viff.021.png",
          "viff.022.png",
          "viff.023.png",
          "viff.024.png",
          "viff.025.png",
          "viff.026.png",
          "viff.027.png",
          "viff.028.png",
          "viff.029.png",
          "viff.030.png",
          "viff.031.png",
          "viff.032.png",
          "viff.033.png",
          "viff.034.png",
          "viff.035.png"
         ],
         "textposition": "top center",
         "type": "scatter3d",
         "x": {
          "bdata": "AAAAAAAAAABeOKkjQNTvP4xrxR1RFwBA89/vFB+mCEBCJIuS5N8MQFOQ/xJJcRBA31auuCggE0AimMcdOAEWQEaLBhNEBxlAtCC7is+NHUCZBrRORfEgQJ3mADqOqCNAloEGwFWdJUBMwU67QrImQBEspD6/gSZAvOLp8cuKJUBiXrUMswAkQJ7Rs4pmyCFAVTbv3fMSHkAxeFG+WCkSQDcuWZMN+ghAoZs7UEVG+j/KBXK1t0nmPyOG1tumfc2/hDTL6+li8L/rIzBqfpEAwPgyJEnROAbAYzm+amzpBsD5a8IwzdHzv1CvTQqKkwPA1VKfOrF6CMB6vyLgOG4IwOKG1lGpdwzAvNUmWRu9C8B5sao2fM4NwHhwRVfdfOe/",
          "dtype": "f8"
         },
         "y": {
          "bdata": "AAAAAAAAAAAxd2K+0Mi0v17cGhzg68y//rY0nCMH379Qk7jdWcHkvyopf97FHOi/u2L2lL5O8b8yiQ+Inxj3v7GxUl7z4ADAKCYMse3KAsBLAd7NXRAEwDJvoPbPMgPAA78Zl0ItAsADPrUPz933v5TZPrNTqcY/x4FRtjVjA0CCdfVWmRsTQMu6Xe1RhhxAI4TvVASEI0B21qwabG0lQA0FKixcQCRAgcPt9VS+I0CfKHFGS8ojQBUgbDS37iRA+Op1faM4JkBT+FrgrBwnQAB5tzOv7CdAwB/RBCukKkDVPh6NqnYrQNdvuB48DzBApEBYzMIXMkDhPQe0R9YzQOF2COxX1jVABzrcPNgbN0Cf8rEqXq84QP1ZRIHGark/",
          "dtype": "f8"
         },
         "z": {
          "bdata": "AAAAAAAAAADaP+2/P1CwP5ViXerZv8S/LjInkLTC6r+pd1wK1Tfjv8ml+G8vR/S/DaiI2Yed+L9yv2i0M4r9v/ise5mDkfe/i4x3JLF0BsDMC+of5cAVwMy6ZOvU0iXA/iQoFXWlLMCS8ffFfV0vwP2jTIR8SzHAp3x2ulkiLMBg6HUbI/QlwE6B8LM+ISPA0eQixMy4JMCVtI2viWsgwMWTWE3a2eC/At2TYSeXCEBUVrDPqn4YQGLFY61F9x1Awn2Eh8RJIEANAOfCleMdQNSSfDnWLh9AZc35maZTIEDxp0kG7FAzQI895+hqEy9AtrL0chwuMEB53fljd0oxQCvRyVcXujBAjyFnBRR9MUAcyKPqodswQHxLovgeqs2/",
          "dtype": "f8"
         }
        },
        {
         "line": {
          "color": "blue",
          "width": 2
         },
         "mode": "lines",
         "name": "Camera Trajectory",
         "type": "scatter3d",
         "x": {
          "bdata": "AAAAAAAAAABeOKkjQNTvP4xrxR1RFwBA89/vFB+mCEBCJIuS5N8MQFOQ/xJJcRBA31auuCggE0AimMcdOAEWQEaLBhNEBxlAtCC7is+NHUCZBrRORfEgQJ3mADqOqCNAloEGwFWdJUBMwU67QrImQBEspD6/gSZAvOLp8cuKJUBiXrUMswAkQJ7Rs4pmyCFAVTbv3fMSHkAxeFG+WCkSQDcuWZMN+ghAoZs7UEVG+j/KBXK1t0nmPyOG1tumfc2/hDTL6+li8L/rIzBqfpEAwPgyJEnROAbAYzm+amzpBsD5a8IwzdHzv1CvTQqKkwPA1VKfOrF6CMB6vyLgOG4IwOKG1lGpdwzAvNUmWRu9C8B5sao2fM4NwHhwRVfdfOe/",
          "dtype": "f8"
         },
         "y": {
          "bdata": "AAAAAAAAAAAxd2K+0Mi0v17cGhzg68y//rY0nCMH379Qk7jdWcHkvyopf97FHOi/u2L2lL5O8b8yiQ+Inxj3v7GxUl7z4ADAKCYMse3KAsBLAd7NXRAEwDJvoPbPMgPAA78Zl0ItAsADPrUPz933v5TZPrNTqcY/x4FRtjVjA0CCdfVWmRsTQMu6Xe1RhhxAI4TvVASEI0B21qwabG0lQA0FKixcQCRAgcPt9VS+I0CfKHFGS8ojQBUgbDS37iRA+Op1faM4JkBT+FrgrBwnQAB5tzOv7CdAwB/RBCukKkDVPh6NqnYrQNdvuB48DzBApEBYzMIXMkDhPQe0R9YzQOF2COxX1jVABzrcPNgbN0Cf8rEqXq84QP1ZRIHGark/",
          "dtype": "f8"
         },
         "z": {
          "bdata": "AAAAAAAAAADaP+2/P1CwP5ViXerZv8S/LjInkLTC6r+pd1wK1Tfjv8ml+G8vR/S/DaiI2Yed+L9yv2i0M4r9v/ise5mDkfe/i4x3JLF0BsDMC+of5cAVwMy6ZOvU0iXA/iQoFXWlLMCS8ffFfV0vwP2jTIR8SzHAp3x2ulkiLMBg6HUbI/QlwE6B8LM+ISPA0eQixMy4JMCVtI2viWsgwMWTWE3a2eC/At2TYSeXCEBUVrDPqn4YQGLFY61F9x1Awn2Eh8RJIEANAOfCleMdQNSSfDnWLh9AZc35maZTIEDxp0kG7FAzQI895+hqEy9AtrL0chwuMEB53fljd0oxQCvRyVcXujBAjyFnBRR9MUAcyKPqodswQHxLovgeqs2/",
          "dtype": "f8"
         }
        }
       ],
       "layout": {
        "margin": {
         "b": 0,
         "l": 0,
         "r": 0,
         "t": 30
        },
        "scene": {
         "aspectmode": "cube",
         "xaxis": {
          "range": [
           -14.494313829142568,
           22.116656345354563
          ]
         },
         "yaxis": {
          "range": [
           -7.2169654853757805,
           29.394004689121353
          ]
         },
         "zaxis": {
          "range": [
           -17.294868725501136,
           19.316101448995997
          ]
         }
        },
        "template": {
         "data": {
          "bar": [
           {
            "error_x": {
             "color": "#2a3f5f"
            },
            "error_y": {
             "color": "#2a3f5f"
            },
            "marker": {
             "line": {
              "color": "#E5ECF6",
              "width": 0.5
             },
             "pattern": {
              "fillmode": "overlay",
              "size": 10,
              "solidity": 0.2
             }
            },
            "type": "bar"
           }
          ],
          "barpolar": [
           {
            "marker": {
             "line": {
              "color": "#E5ECF6",
              "width": 0.5
             },
             "pattern": {
              "fillmode": "overlay",
              "size": 10,
              "solidity": 0.2
             }
            },
            "type": "barpolar"
           }
          ],
          "carpet": [
           {
            "aaxis": {
             "endlinecolor": "#2a3f5f",
             "gridcolor": "white",
             "linecolor": "white",
             "minorgridcolor": "white",
             "startlinecolor": "#2a3f5f"
            },
            "baxis": {
             "endlinecolor": "#2a3f5f",
             "gridcolor": "white",
             "linecolor": "white",
             "minorgridcolor": "white",
             "startlinecolor": "#2a3f5f"
            },
            "type": "carpet"
           }
          ],
          "choropleth": [
           {
            "colorbar": {
             "outlinewidth": 0,
             "ticks": ""
            },
            "type": "choropleth"
           }
          ],
          "contour": [
           {
            "colorbar": {
             "outlinewidth": 0,
             "ticks": ""
            },
            "colorscale": [
             [
              0,
              "#0d0887"
             ],
             [
              0.1111111111111111,
              "#46039f"
             ],
             [
              0.2222222222222222,
              "#7201a8"
             ],
             [
              0.3333333333333333,
              "#9c179e"
             ],
             [
              0.4444444444444444,
              "#bd3786"
             ],
             [
              0.5555555555555556,
              "#d8576b"
             ],
             [
              0.6666666666666666,
              "#ed7953"
             ],
             [
              0.7777777777777778,
              "#fb9f3a"
             ],
             [
              0.8888888888888888,
              "#fdca26"
             ],
             [
              1,
              "#f0f921"
             ]
            ],
            "type": "contour"
           }
          ],
          "contourcarpet": [
           {
            "colorbar": {
             "outlinewidth": 0,
             "ticks": ""
            },
            "type": "contourcarpet"
           }
          ],
          "heatmap": [
           {
            "colorbar": {
             "outlinewidth": 0,
             "ticks": ""
            },
            "colorscale": [
             [
              0,
              "#0d0887"
             ],
             [
              0.1111111111111111,
              "#46039f"
             ],
             [
              0.2222222222222222,
              "#7201a8"
             ],
             [
              0.3333333333333333,
              "#9c179e"
             ],
             [
              0.4444444444444444,
              "#bd3786"
             ],
             [
              0.5555555555555556,
              "#d8576b"
             ],
             [
              0.6666666666666666,
              "#ed7953"
             ],
             [
              0.7777777777777778,
              "#fb9f3a"
             ],
             [
              0.8888888888888888,
              "#fdca26"
             ],
             [
              1,
              "#f0f921"
             ]
            ],
            "type": "heatmap"
           }
          ],
          "histogram": [
           {
            "marker": {
             "pattern": {
              "fillmode": "overlay",
              "size": 10,
              "solidity": 0.2
             }
            },
            "type": "histogram"
           }
          ],
          "histogram2d": [
           {
            "colorbar": {
             "outlinewidth": 0,
             "ticks": ""
            },
            "colorscale": [
             [
              0,
              "#0d0887"
             ],
             [
              0.1111111111111111,
              "#46039f"
             ],
             [
              0.2222222222222222,
              "#7201a8"
             ],
             [
              0.3333333333333333,
              "#9c179e"
             ],
             [
              0.4444444444444444,
              "#bd3786"
             ],
             [
              0.5555555555555556,
              "#d8576b"
             ],
             [
              0.6666666666666666,
              "#ed7953"
             ],
             [
              0.7777777777777778,
              "#fb9f3a"
             ],
             [
              0.8888888888888888,
              "#fdca26"
             ],
             [
              1,
              "#f0f921"
             ]
            ],
            "type": "histogram2d"
           }
          ],
          "histogram2dcontour": [
           {
            "colorbar": {
             "outlinewidth": 0,
             "ticks": ""
            },
            "colorscale": [
             [
              0,
              "#0d0887"
             ],
             [
              0.1111111111111111,
              "#46039f"
             ],
             [
              0.2222222222222222,
              "#7201a8"
             ],
             [
              0.3333333333333333,
              "#9c179e"
             ],
             [
              0.4444444444444444,
              "#bd3786"
             ],
             [
              0.5555555555555556,
              "#d8576b"
             ],
             [
              0.6666666666666666,
              "#ed7953"
             ],
             [
              0.7777777777777778,
              "#fb9f3a"
             ],
             [
              0.8888888888888888,
              "#fdca26"
             ],
             [
              1,
              "#f0f921"
             ]
            ],
            "type": "histogram2dcontour"
           }
          ],
          "mesh3d": [
           {
            "colorbar": {
             "outlinewidth": 0,
             "ticks": ""
            },
            "type": "mesh3d"
           }
          ],
          "parcoords": [
           {
            "line": {
             "colorbar": {
              "outlinewidth": 0,
              "ticks": ""
             }
            },
            "type": "parcoords"
           }
          ],
          "pie": [
           {
            "automargin": true,
            "type": "pie"
           }
          ],
          "scatter": [
           {
            "fillpattern": {
             "fillmode": "overlay",
             "size": 10,
             "solidity": 0.2
            },
            "type": "scatter"
           }
          ],
          "scatter3d": [
           {
            "line": {
             "colorbar": {
              "outlinewidth": 0,
              "ticks": ""
             }
            },
            "marker": {
             "colorbar": {
              "outlinewidth": 0,
              "ticks": ""
             }
            },
            "type": "scatter3d"
           }
          ],
          "scattercarpet": [
           {
            "marker": {
             "colorbar": {
              "outlinewidth": 0,
              "ticks": ""
             }
            },
            "type": "scattercarpet"
           }
          ],
          "scattergeo": [
           {
            "marker": {
             "colorbar": {
              "outlinewidth": 0,
              "ticks": ""
             }
            },
            "type": "scattergeo"
           }
          ],
          "scattergl": [
           {
            "marker": {
             "colorbar": {
              "outlinewidth": 0,
              "ticks": ""
             }
            },
            "type": "scattergl"
           }
          ],
          "scattermap": [
           {
            "marker": {
             "colorbar": {
              "outlinewidth": 0,
              "ticks": ""
             }
            },
            "type": "scattermap"
           }
          ],
          "scattermapbox": [
           {
            "marker": {
             "colorbar": {
              "outlinewidth": 0,
              "ticks": ""
             }
            },
            "type": "scattermapbox"
           }
          ],
          "scatterpolar": [
           {
            "marker": {
             "colorbar": {
              "outlinewidth": 0,
              "ticks": ""
             }
            },
            "type": "scatterpolar"
           }
          ],
          "scatterpolargl": [
           {
            "marker": {
             "colorbar": {
              "outlinewidth": 0,
              "ticks": ""
             }
            },
            "type": "scatterpolargl"
           }
          ],
          "scatterternary": [
           {
            "marker": {
             "colorbar": {
              "outlinewidth": 0,
              "ticks": ""
             }
            },
            "type": "scatterternary"
           }
          ],
          "surface": [
           {
            "colorbar": {
             "outlinewidth": 0,
             "ticks": ""
            },
            "colorscale": [
             [
              0,
              "#0d0887"
             ],
             [
              0.1111111111111111,
              "#46039f"
             ],
             [
              0.2222222222222222,
              "#7201a8"
             ],
             [
              0.3333333333333333,
              "#9c179e"
             ],
             [
              0.4444444444444444,
              "#bd3786"
             ],
             [
              0.5555555555555556,
              "#d8576b"
             ],
             [
              0.6666666666666666,
              "#ed7953"
             ],
             [
              0.7777777777777778,
              "#fb9f3a"
             ],
             [
              0.8888888888888888,
              "#fdca26"
             ],
             [
              1,
              "#f0f921"
             ]
            ],
            "type": "surface"
           }
          ],
          "table": [
           {
            "cells": {
             "fill": {
              "color": "#EBF0F8"
             },
             "line": {
              "color": "white"
             }
            },
            "header": {
             "fill": {
              "color": "#C8D4E3"
             },
             "line": {
              "color": "white"
             }
            },
            "type": "table"
           }
          ]
         },
         "layout": {
          "annotationdefaults": {
           "arrowcolor": "#2a3f5f",
           "arrowhead": 0,
           "arrowwidth": 1
          },
          "autotypenumbers": "strict",
          "coloraxis": {
           "colorbar": {
            "outlinewidth": 0,
            "ticks": ""
           }
          },
          "colorscale": {
           "diverging": [
            [
             0,
             "#8e0152"
            ],
            [
             0.1,
             "#c51b7d"
            ],
            [
             0.2,
             "#de77ae"
            ],
            [
             0.3,
             "#f1b6da"
            ],
            [
             0.4,
             "#fde0ef"
            ],
            [
             0.5,
             "#f7f7f7"
            ],
            [
             0.6,
             "#e6f5d0"
            ],
            [
             0.7,
             "#b8e186"
            ],
            [
             0.8,
             "#7fbc41"
            ],
            [
             0.9,
             "#4d9221"
            ],
            [
             1,
             "#276419"
            ]
           ],
           "sequential": [
            [
             0,
             "#0d0887"
            ],
            [
             0.1111111111111111,
             "#46039f"
            ],
            [
             0.2222222222222222,
             "#7201a8"
            ],
            [
             0.3333333333333333,
             "#9c179e"
            ],
            [
             0.4444444444444444,
             "#bd3786"
            ],
            [
             0.5555555555555556,
             "#d8576b"
            ],
            [
             0.6666666666666666,
             "#ed7953"
            ],
            [
             0.7777777777777778,
             "#fb9f3a"
            ],
            [
             0.8888888888888888,
             "#fdca26"
            ],
            [
             1,
             "#f0f921"
            ]
           ],
           "sequentialminus": [
            [
             0,
             "#0d0887"
            ],
            [
             0.1111111111111111,
             "#46039f"
            ],
            [
             0.2222222222222222,
             "#7201a8"
            ],
            [
             0.3333333333333333,
             "#9c179e"
            ],
            [
             0.4444444444444444,
             "#bd3786"
            ],
            [
             0.5555555555555556,
             "#d8576b"
            ],
            [
             0.6666666666666666,
             "#ed7953"
            ],
            [
             0.7777777777777778,
             "#fb9f3a"
            ],
            [
             0.8888888888888888,
             "#fdca26"
            ],
            [
             1,
             "#f0f921"
            ]
           ]
          },
          "colorway": [
           "#636efa",
           "#EF553B",
           "#00cc96",
           "#ab63fa",
           "#FFA15A",
           "#19d3f3",
           "#FF6692",
           "#B6E880",
           "#FF97FF",
           "#FECB52"
          ],
          "font": {
           "color": "#2a3f5f"
          },
          "geo": {
           "bgcolor": "white",
           "lakecolor": "white",
           "landcolor": "#E5ECF6",
           "showlakes": true,
           "showland": true,
           "subunitcolor": "white"
          },
          "hoverlabel": {
           "align": "left"
          },
          "hovermode": "closest",
          "mapbox": {
           "style": "light"
          },
          "paper_bgcolor": "white",
          "plot_bgcolor": "#E5ECF6",
          "polar": {
           "angularaxis": {
            "gridcolor": "white",
            "linecolor": "white",
            "ticks": ""
           },
           "bgcolor": "#E5ECF6",
           "radialaxis": {
            "gridcolor": "white",
            "linecolor": "white",
            "ticks": ""
           }
          },
          "scene": {
           "xaxis": {
            "backgroundcolor": "#E5ECF6",
            "gridcolor": "white",
            "gridwidth": 2,
            "linecolor": "white",
            "showbackground": true,
            "ticks": "",
            "zerolinecolor": "white"
           },
           "yaxis": {
            "backgroundcolor": "#E5ECF6",
            "gridcolor": "white",
            "gridwidth": 2,
            "linecolor": "white",
            "showbackground": true,
            "ticks": "",
            "zerolinecolor": "white"
           },
           "zaxis": {
            "backgroundcolor": "#E5ECF6",
            "gridcolor": "white",
            "gridwidth": 2,
            "linecolor": "white",
            "showbackground": true,
            "ticks": "",
            "zerolinecolor": "white"
           }
          },
          "shapedefaults": {
           "line": {
            "color": "#2a3f5f"
           }
          },
          "ternary": {
           "aaxis": {
            "gridcolor": "white",
            "linecolor": "white",
            "ticks": ""
           },
           "baxis": {
            "gridcolor": "white",
            "linecolor": "white",
            "ticks": ""
           },
           "bgcolor": "#E5ECF6",
           "caxis": {
            "gridcolor": "white",
            "linecolor": "white",
            "ticks": ""
           }
          },
          "title": {
           "x": 0.05
          },
          "xaxis": {
           "automargin": true,
           "gridcolor": "white",
           "linecolor": "white",
           "ticks": "",
           "title": {
            "standoff": 15
           },
           "zerolinecolor": "white",
           "zerolinewidth": 2
          },
          "yaxis": {
           "automargin": true,
           "gridcolor": "white",
           "linecolor": "white",
           "ticks": "",
           "title": {
            "standoff": 15
           },
           "zerolinecolor": "white",
           "zerolinewidth": 2
          }
         }
        },
        "title": {
         "text": "Interactive Camera Poses"
        }
       }
      }
     },
     "metadata": {},
     "output_type": "display_data"
    },
    {
     "name": "stdout",
     "output_type": "stream",
     "text": [
      "\n",
      "============================================================\n",
      "Processing ratio_threshold=0.75, min_matches=16\n",
      "============================================================\n",
      "Filtered viff.000.png-viff.001.png: 2159 → 2095 matches\n",
      "Filtered viff.001.png-viff.002.png: 2221 → 2172 matches\n",
      "Filtered viff.002.png-viff.003.png: 2191 → 2148 matches\n",
      "Filtered viff.003.png-viff.004.png: 2211 → 2180 matches\n",
      "Filtered viff.004.png-viff.005.png: 2174 → 2141 matches\n",
      "Filtered viff.005.png-viff.006.png: 1877 → 1859 matches\n",
      "Filtered viff.006.png-viff.007.png: 1752 → 1729 matches\n",
      "Filtered viff.007.png-viff.008.png: 1578 → 1566 matches\n",
      "Filtered viff.008.png-viff.009.png: 1560 → 1539 matches\n",
      "Filtered viff.009.png-viff.010.png: 1542 → 1527 matches\n",
      "Filtered viff.010.png-viff.011.png: 1623 → 1603 matches\n",
      "Filtered viff.011.png-viff.012.png: 1610 → 1591 matches\n",
      "Filtered viff.012.png-viff.013.png: 1656 → 1639 matches\n",
      "Filtered viff.013.png-viff.014.png: 1407 → 1391 matches\n",
      "Filtered viff.014.png-viff.015.png: 1386 → 1374 matches\n",
      "Filtered viff.015.png-viff.016.png: 1339 → 1317 matches\n",
      "Filtered viff.016.png-viff.017.png: 1464 → 1444 matches\n",
      "Filtered viff.017.png-viff.018.png: 1586 → 1565 matches\n",
      "Filtered viff.018.png-viff.019.png: 1906 → 1879 matches\n",
      "Filtered viff.019.png-viff.020.png: 1724 → 1687 matches\n",
      "Filtered viff.020.png-viff.021.png: 2220 → 2158 matches\n",
      "Filtered viff.021.png-viff.022.png: 2467 → 2417 matches\n",
      "Filtered viff.022.png-viff.023.png: 2447 → 2419 matches\n",
      "Filtered viff.023.png-viff.024.png: 2228 → 2191 matches\n",
      "Filtered viff.024.png-viff.025.png: 2298 → 2271 matches\n",
      "Filtered viff.025.png-viff.026.png: 2090 → 2063 matches\n",
      "Filtered viff.026.png-viff.027.png: 1815 → 1787 matches\n",
      "Filtered viff.027.png-viff.028.png: 1521 → 1488 matches\n",
      "Filtered viff.028.png-viff.029.png: 1006 → 990 matches\n",
      "Filtered viff.029.png-viff.030.png: 1080 → 1066 matches\n",
      "Filtered viff.030.png-viff.031.png: 959 → 952 matches\n",
      "Filtered viff.031.png-viff.032.png: 1011 → 1002 matches\n",
      "Filtered viff.032.png-viff.033.png: 1339 → 1330 matches\n",
      "Filtered viff.033.png-viff.034.png: 1663 → 1649 matches\n",
      "Filtered viff.034.png-viff.035.png: 1797 → 1784 matches\n",
      "Filtered viff.035.png-viff.000.png: 1899 → 1874 matches\n",
      "Filtered matches: 36 pairs → 36 pairs\n",
      "Initializing with pair: viff.000.png and viff.001.png (2095 matches)\n",
      "Triangulated 2095 initial points\n",
      "Attempting to add image: viff.002.png\n",
      "Found 235 2D-3D correspondences for viff.002.png\n",
      "PnP successful with 120 inliers. Mean reprojection error: 0.36 pixels\n",
      "Added pose for viff.002.png using 120 / 235 points\n",
      "  Triangulated 993 new points with viff.001.png and viff.002.png\n",
      "Attempting to add image: viff.003.png\n",
      "Found 191 2D-3D correspondences for viff.003.png\n",
      "PnP successful with 84 inliers. Mean reprojection error: 0.31 pixels\n",
      "Added pose for viff.003.png using 84 / 191 points\n",
      "  Triangulated 1022 new points with viff.002.png and viff.003.png\n",
      "Attempting to add image: viff.004.png\n",
      "Found 192 2D-3D correspondences for viff.004.png\n",
      "PnP successful with 61 inliers. Mean reprojection error: 0.43 pixels\n",
      "Added pose for viff.004.png using 61 / 192 points\n",
      "  Triangulated 1000 new points with viff.003.png and viff.004.png\n",
      "Attempting to add image: viff.005.png\n",
      "Found 210 2D-3D correspondences for viff.005.png\n",
      "PnP successful with 49 inliers. Mean reprojection error: 0.35 pixels\n",
      "Added pose for viff.005.png using 49 / 210 points\n",
      "  Triangulated 1008 new points with viff.004.png and viff.005.png\n",
      "Attempting to add image: viff.006.png\n",
      "Found 181 2D-3D correspondences for viff.006.png\n",
      "PnP successful with 37 inliers. Mean reprojection error: 0.38 pixels\n",
      "Added pose for viff.006.png using 37 / 181 points\n",
      "  Triangulated 897 new points with viff.005.png and viff.006.png\n",
      "Attempting to add image: viff.007.png\n",
      "Found 175 2D-3D correspondences for viff.007.png\n",
      "PnP successful with 33 inliers. Mean reprojection error: 0.34 pixels\n",
      "Added pose for viff.007.png using 33 / 175 points\n",
      "  Triangulated 843 new points with viff.006.png and viff.007.png\n",
      "Attempting to add image: viff.008.png\n",
      "Found 137 2D-3D correspondences for viff.008.png\n",
      "PnP successful with 35 inliers. Mean reprojection error: 0.35 pixels\n",
      "Added pose for viff.008.png using 35 / 137 points\n",
      "  Triangulated 785 new points with viff.007.png and viff.008.png\n",
      "Attempting to add image: viff.009.png\n",
      "Found 149 2D-3D correspondences for viff.009.png\n",
      "PnP successful with 81 inliers. Mean reprojection error: 0.39 pixels\n",
      "Added pose for viff.009.png using 81 / 149 points\n",
      "  Triangulated 743 new points with viff.008.png and viff.009.png\n",
      "Attempting to add image: viff.010.png\n",
      "Found 133 2D-3D correspondences for viff.010.png\n",
      "PnP successful with 99 inliers. Mean reprojection error: 0.32 pixels\n",
      "Added pose for viff.010.png using 99 / 133 points\n",
      "  Triangulated 789 new points with viff.009.png and viff.010.png\n",
      "Attempting to add image: viff.011.png\n",
      "Found 173 2D-3D correspondences for viff.011.png\n",
      "PnP successful with 116 inliers. Mean reprojection error: 0.34 pixels\n",
      "Added pose for viff.011.png using 116 / 173 points\n",
      "  Triangulated 785 new points with viff.010.png and viff.011.png\n",
      "Attempting to add image: viff.012.png\n",
      "Found 182 2D-3D correspondences for viff.012.png\n",
      "PnP successful with 92 inliers. Mean reprojection error: 0.38 pixels\n",
      "Added pose for viff.012.png using 92 / 182 points\n",
      "  Triangulated 791 new points with viff.011.png and viff.012.png\n",
      "Attempting to add image: viff.013.png\n",
      "Found 172 2D-3D correspondences for viff.013.png\n",
      "PnP successful with 73 inliers. Mean reprojection error: 0.40 pixels\n",
      "Added pose for viff.013.png using 73 / 172 points\n",
      "  Triangulated 810 new points with viff.012.png and viff.013.png\n",
      "Attempting to add image: viff.014.png\n",
      "Found 200 2D-3D correspondences for viff.014.png\n",
      "PnP successful with 64 inliers. Mean reprojection error: 0.41 pixels\n",
      "Added pose for viff.014.png using 64 / 200 points\n",
      "  Triangulated 661 new points with viff.013.png and viff.014.png\n",
      "Attempting to add image: viff.015.png\n",
      "Found 136 2D-3D correspondences for viff.015.png\n",
      "PnP successful with 39 inliers. Mean reprojection error: 0.39 pixels\n",
      "Added pose for viff.015.png using 39 / 136 points\n",
      "  Triangulated 707 new points with viff.014.png and viff.015.png\n",
      "Attempting to add image: viff.016.png\n",
      "Found 132 2D-3D correspondences for viff.016.png\n",
      "PnP successful with 31 inliers. Mean reprojection error: 0.33 pixels\n",
      "Added pose for viff.016.png using 31 / 132 points\n",
      "  Triangulated 672 new points with viff.015.png and viff.016.png\n",
      "Attempting to add image: viff.017.png\n",
      "Found 125 2D-3D correspondences for viff.017.png\n",
      "PnP successful with 42 inliers. Mean reprojection error: 0.43 pixels\n",
      "Added pose for viff.017.png using 42 / 125 points\n",
      "  Triangulated 742 new points with viff.016.png and viff.017.png\n",
      "Attempting to add image: viff.018.png\n",
      "Found 134 2D-3D correspondences for viff.018.png\n",
      "PnP successful with 45 inliers. Mean reprojection error: 0.40 pixels\n",
      "Added pose for viff.018.png using 45 / 134 points\n",
      "  Triangulated 803 new points with viff.017.png and viff.018.png\n",
      "Attempting to add image: viff.019.png\n",
      "Found 151 2D-3D correspondences for viff.019.png\n",
      "PnP successful with 67 inliers. Mean reprojection error: 0.38 pixels\n",
      "Added pose for viff.019.png using 67 / 151 points\n",
      "  Triangulated 914 new points with viff.018.png and viff.019.png\n",
      "Attempting to add image: viff.020.png\n",
      "Found 160 2D-3D correspondences for viff.020.png\n",
      "PnP successful with 74 inliers. Mean reprojection error: 0.38 pixels\n",
      "Added pose for viff.020.png using 74 / 160 points\n",
      "  Triangulated 815 new points with viff.019.png and viff.020.png\n",
      "Attempting to add image: viff.021.png\n",
      "Found 171 2D-3D correspondences for viff.021.png\n",
      "PnP successful with 101 inliers. Mean reprojection error: 0.35 pixels\n",
      "Added pose for viff.021.png using 101 / 171 points\n",
      "  Triangulated 1054 new points with viff.020.png and viff.021.png\n",
      "Attempting to add image: viff.022.png\n",
      "Found 214 2D-3D correspondences for viff.022.png\n",
      "PnP successful with 101 inliers. Mean reprojection error: 0.37 pixels\n",
      "Added pose for viff.022.png using 101 / 214 points\n",
      "  Triangulated 1090 new points with viff.021.png and viff.022.png\n",
      "Attempting to add image: viff.023.png\n",
      "Found 219 2D-3D correspondences for viff.023.png\n",
      "PnP successful with 70 inliers. Mean reprojection error: 0.41 pixels\n",
      "Added pose for viff.023.png using 70 / 219 points\n",
      "  Triangulated 1079 new points with viff.022.png and viff.023.png\n",
      "Attempting to add image: viff.024.png\n",
      "Found 211 2D-3D correspondences for viff.024.png\n",
      "PnP successful with 69 inliers. Mean reprojection error: 0.38 pixels\n",
      "Added pose for viff.024.png using 69 / 211 points\n",
      "  Triangulated 966 new points with viff.023.png and viff.024.png\n",
      "Attempting to add image: viff.025.png\n",
      "Found 203 2D-3D correspondences for viff.025.png\n",
      "PnP successful with 48 inliers. Mean reprojection error: 0.35 pixels\n",
      "Added pose for viff.025.png using 48 / 203 points\n",
      "  Triangulated 973 new points with viff.024.png and viff.025.png\n",
      "Attempting to add image: viff.026.png\n",
      "Found 185 2D-3D correspondences for viff.026.png\n",
      "PnP successful with 40 inliers. Mean reprojection error: 0.38 pixels\n",
      "Added pose for viff.026.png using 40 / 185 points\n",
      "  Triangulated 817 new points with viff.025.png and viff.026.png\n",
      "Attempting to add image: viff.027.png\n",
      "Found 145 2D-3D correspondences for viff.027.png\n",
      "PnP successful with 37 inliers. Mean reprojection error: 0.40 pixels\n",
      "Added pose for viff.027.png using 37 / 145 points\n",
      "  Triangulated 593 new points with viff.026.png and viff.027.png\n",
      "Attempting to add image: viff.028.png\n",
      "Found 117 2D-3D correspondences for viff.028.png\n",
      "PnP successful with 36 inliers. Mean reprojection error: 0.40 pixels\n",
      "Added pose for viff.028.png using 36 / 117 points\n",
      "  Triangulated 519 new points with viff.027.png and viff.028.png\n",
      "Attempting to add image: viff.029.png\n",
      "Found 81 2D-3D correspondences for viff.029.png\n",
      "PnP successful with 42 inliers. Mean reprojection error: 0.38 pixels\n",
      "Added pose for viff.029.png using 42 / 81 points\n",
      "  Triangulated 431 new points with viff.028.png and viff.029.png\n",
      "Attempting to add image: viff.030.png\n",
      "Found 58 2D-3D correspondences for viff.030.png\n",
      "PnP successful with 24 inliers. Mean reprojection error: 0.36 pixels\n",
      "Added pose for viff.030.png using 24 / 58 points\n",
      "  Triangulated 456 new points with viff.029.png and viff.030.png\n",
      "Attempting to add image: viff.031.png\n",
      "Found 57 2D-3D correspondences for viff.031.png\n",
      "PnP successful with 20 inliers. Mean reprojection error: 0.37 pixels\n",
      "Added pose for viff.031.png using 20 / 57 points\n",
      "  Triangulated 405 new points with viff.030.png and viff.031.png\n",
      "Attempting to add image: viff.032.png\n",
      "Found 52 2D-3D correspondences for viff.032.png\n",
      "PnP successful with 18 inliers. Mean reprojection error: 0.30 pixels\n",
      "Added pose for viff.032.png using 18 / 52 points\n",
      "  Triangulated 392 new points with viff.031.png and viff.032.png\n",
      "Attempting to add image: viff.033.png\n",
      "Found 66 2D-3D correspondences for viff.033.png\n",
      "PnP successful with 28 inliers. Mean reprojection error: 0.39 pixels\n",
      "Added pose for viff.033.png using 28 / 66 points\n",
      "  Triangulated 453 new points with viff.032.png and viff.033.png\n",
      "Attempting to add image: viff.034.png\n",
      "Found 96 2D-3D correspondences for viff.034.png\n",
      "PnP successful with 40 inliers. Mean reprojection error: 0.33 pixels\n",
      "Added pose for viff.034.png using 40 / 96 points\n",
      "  Triangulated 489 new points with viff.033.png and viff.034.png\n",
      "Attempting to add image: viff.035.png\n",
      "Found 483 2D-3D correspondences for viff.035.png\n",
      "PnP successful with 210 inliers. Mean reprojection error: 0.35 pixels\n",
      "Added pose for viff.035.png using 210 / 483 points\n",
      "  Triangulated 870 new points with viff.034.png and viff.035.png\n",
      "  Triangulated 735 new points with viff.035.png and viff.000.png\n",
      "Estimated poses for 36/36 cameras\n",
      "Total triangulated points: 29197\n",
      "Estimated poses for 36 cameras.\n",
      "Displaying interactive 3D plot...\n"
     ]
    },
    {
     "data": {
      "application/vnd.plotly.v1+json": {
       "config": {
        "plotlyServerURL": "https://plot.ly"
       },
       "data": [
        {
         "marker": {
          "color": "red",
          "size": 8,
          "symbol": "square"
         },
         "mode": "markers+text",
         "name": "Camera Positions",
         "text": [
          "viff.000.png",
          "viff.001.png",
          "viff.002.png",
          "viff.003.png",
          "viff.004.png",
          "viff.005.png",
          "viff.006.png",
          "viff.007.png",
          "viff.008.png",
          "viff.009.png",
          "viff.010.png",
          "viff.011.png",
          "viff.012.png",
          "viff.013.png",
          "viff.014.png",
          "viff.015.png",
          "viff.016.png",
          "viff.017.png",
          "viff.018.png",
          "viff.019.png",
          "viff.020.png",
          "viff.021.png",
          "viff.022.png",
          "viff.023.png",
          "viff.024.png",
          "viff.025.png",
          "viff.026.png",
          "viff.027.png",
          "viff.028.png",
          "viff.029.png",
          "viff.030.png",
          "viff.031.png",
          "viff.032.png",
          "viff.033.png",
          "viff.034.png",
          "viff.035.png"
         ],
         "textposition": "top center",
         "type": "scatter3d",
         "x": {
          "bdata": "AAAAAAAAAABOXLEbV+jvPx6xvo5wWAFA+vo/rjCECUBzwCqbFCcTQMZ9EvWNhBtAjskpdh4vIkC/unHcslAnQG5zzaX1QylAqUtN3wwFLEAAtxXipMwuQIZhxXosCDFAf1Pbw4xMM0AymRpVFKU1QOejzDHQMDlAQ+k/j4BlPkC3qpLHghY9QPl3N410Tj9AgZ858LcYPkAFXVsnuDM+QF9UvUrrtj1AGjM0dI12PUCuG67LwZk9QKvh0xCasD1Ab0uuN8/xPUDIEiJgwE4+QN/dVYIgYD5AGabjr8OmPkBNDW/wWQ0/QAAWlT26ED9AdXBWhMFeP0AUj0BBBSw/QFKXsnyxMj9AKJQL1No2P0CoTvjFqfk+QL8I4Lr3yeq/",
          "dtype": "f8"
         },
         "y": {
          "bdata": "AAAAAAAAAAAn7fDJVSizvxC5vD5NOK2/O+7NCp+YqL8f2EIWlv+zP7W5eKJG5ds/J15PInWD/j/G8mOJgc8KQOsCjYLZmvc/PkjqV8KahD+/XdMOa8jwv/yM5cbDIP2/9Tm/UsscAsDwtiowQ7AFwL0m3a82pQPAdNAzXPHx+78D42pjfoMKwEW112CBOxXA3PFC0iJaH8BwNeL6W9IkwEgTLEqNqinAwVjnKVidLcDAglPZG78wwDFdHqI8TDLA1AU++dWwM8DXkWylCpE0wOVE7n+hLTXACPKFfFFrNcB18zYY3T41wGtsL+a6nzTAh7SqIggoNMBtIbqqNrEzwEGKmnOKNjPArCQ83SXlMsDziUAy1LAywIAjC1cLw7M/",
          "dtype": "f8"
         },
         "z": {
          "bdata": "AAAAAAAAAADsAlsQhoeKP2RwrsbdAci/fa0KBi/Y5L+zw0fWTnv5v6pKj6p3DwfAP7GUnwwaEsAoGg22tRsXwO7qx/wjoRLAFo+bp0PtDsA+tnRPU9gKwLGkgSdnzwjADPD34h5cCMCUJR/mNDsIwINOKqq49wfAqBSWSZf4A8BDIUcW1vr/vxO92HokQ/S/05W2bO30wb9lzHyUcEXrP/Pfu9L7evQ/FSKWTdH3/T8OTKdlXrIAQOA5MAEPQgNA6Q6WIA7yBEACorr9/9oHQATN5W7EkAlAYtafQ/5ZDEC+1X3FOigOQC0/SwLgVhBAIaxaHHvvEEADBfAmdg8QQAcRIZYvcQ5A/ehQUis3DEAJCvq2mBwMQLIMu62SVrC/",
          "dtype": "f8"
         }
        },
        {
         "line": {
          "color": "blue",
          "width": 2
         },
         "mode": "lines",
         "name": "Camera Trajectory",
         "type": "scatter3d",
         "x": {
          "bdata": "AAAAAAAAAABOXLEbV+jvPx6xvo5wWAFA+vo/rjCECUBzwCqbFCcTQMZ9EvWNhBtAjskpdh4vIkC/unHcslAnQG5zzaX1QylAqUtN3wwFLEAAtxXipMwuQIZhxXosCDFAf1Pbw4xMM0AymRpVFKU1QOejzDHQMDlAQ+k/j4BlPkC3qpLHghY9QPl3N410Tj9AgZ858LcYPkAFXVsnuDM+QF9UvUrrtj1AGjM0dI12PUCuG67LwZk9QKvh0xCasD1Ab0uuN8/xPUDIEiJgwE4+QN/dVYIgYD5AGabjr8OmPkBNDW/wWQ0/QAAWlT26ED9AdXBWhMFeP0AUj0BBBSw/QFKXsnyxMj9AKJQL1No2P0CoTvjFqfk+QL8I4Lr3yeq/",
          "dtype": "f8"
         },
         "y": {
          "bdata": "AAAAAAAAAAAn7fDJVSizvxC5vD5NOK2/O+7NCp+YqL8f2EIWlv+zP7W5eKJG5ds/J15PInWD/j/G8mOJgc8KQOsCjYLZmvc/PkjqV8KahD+/XdMOa8jwv/yM5cbDIP2/9Tm/UsscAsDwtiowQ7AFwL0m3a82pQPAdNAzXPHx+78D42pjfoMKwEW112CBOxXA3PFC0iJaH8BwNeL6W9IkwEgTLEqNqinAwVjnKVidLcDAglPZG78wwDFdHqI8TDLA1AU++dWwM8DXkWylCpE0wOVE7n+hLTXACPKFfFFrNcB18zYY3T41wGtsL+a6nzTAh7SqIggoNMBtIbqqNrEzwEGKmnOKNjPArCQ83SXlMsDziUAy1LAywIAjC1cLw7M/",
          "dtype": "f8"
         },
         "z": {
          "bdata": "AAAAAAAAAADsAlsQhoeKP2RwrsbdAci/fa0KBi/Y5L+zw0fWTnv5v6pKj6p3DwfAP7GUnwwaEsAoGg22tRsXwO7qx/wjoRLAFo+bp0PtDsA+tnRPU9gKwLGkgSdnzwjADPD34h5cCMCUJR/mNDsIwINOKqq49wfAqBSWSZf4A8BDIUcW1vr/vxO92HokQ/S/05W2bO30wb9lzHyUcEXrP/Pfu9L7evQ/FSKWTdH3/T8OTKdlXrIAQOA5MAEPQgNA6Q6WIA7yBEACorr9/9oHQATN5W7EkAlAYtafQ/5ZDEC+1X3FOigOQC0/SwLgVhBAIaxaHHvvEEADBfAmdg8QQAcRIZYvcQ5A/ehQUis3DEAJCvq2mBwMQLIMu62SVrC/",
          "dtype": "f8"
         }
        }
       ],
       "layout": {
        "margin": {
         "b": 0,
         "l": 0,
         "r": 0,
         "t": 30
        },
        "scene": {
         "aspectmode": "cube",
         "xaxis": {
          "range": [
           -0.8371542596726353,
           31.370140334227884
          ]
         },
         "yaxis": {
          "range": [
           -25.13759271880754,
           7.06970187509298
          ]
         },
         "zaxis": {
          "range": [
           -16.875243443302786,
           15.332051150597735
          ]
         }
        },
        "template": {
         "data": {
          "bar": [
           {
            "error_x": {
             "color": "#2a3f5f"
            },
            "error_y": {
             "color": "#2a3f5f"
            },
            "marker": {
             "line": {
              "color": "#E5ECF6",
              "width": 0.5
             },
             "pattern": {
              "fillmode": "overlay",
              "size": 10,
              "solidity": 0.2
             }
            },
            "type": "bar"
           }
          ],
          "barpolar": [
           {
            "marker": {
             "line": {
              "color": "#E5ECF6",
              "width": 0.5
             },
             "pattern": {
              "fillmode": "overlay",
              "size": 10,
              "solidity": 0.2
             }
            },
            "type": "barpolar"
           }
          ],
          "carpet": [
           {
            "aaxis": {
             "endlinecolor": "#2a3f5f",
             "gridcolor": "white",
             "linecolor": "white",
             "minorgridcolor": "white",
             "startlinecolor": "#2a3f5f"
            },
            "baxis": {
             "endlinecolor": "#2a3f5f",
             "gridcolor": "white",
             "linecolor": "white",
             "minorgridcolor": "white",
             "startlinecolor": "#2a3f5f"
            },
            "type": "carpet"
           }
          ],
          "choropleth": [
           {
            "colorbar": {
             "outlinewidth": 0,
             "ticks": ""
            },
            "type": "choropleth"
           }
          ],
          "contour": [
           {
            "colorbar": {
             "outlinewidth": 0,
             "ticks": ""
            },
            "colorscale": [
             [
              0,
              "#0d0887"
             ],
             [
              0.1111111111111111,
              "#46039f"
             ],
             [
              0.2222222222222222,
              "#7201a8"
             ],
             [
              0.3333333333333333,
              "#9c179e"
             ],
             [
              0.4444444444444444,
              "#bd3786"
             ],
             [
              0.5555555555555556,
              "#d8576b"
             ],
             [
              0.6666666666666666,
              "#ed7953"
             ],
             [
              0.7777777777777778,
              "#fb9f3a"
             ],
             [
              0.8888888888888888,
              "#fdca26"
             ],
             [
              1,
              "#f0f921"
             ]
            ],
            "type": "contour"
           }
          ],
          "contourcarpet": [
           {
            "colorbar": {
             "outlinewidth": 0,
             "ticks": ""
            },
            "type": "contourcarpet"
           }
          ],
          "heatmap": [
           {
            "colorbar": {
             "outlinewidth": 0,
             "ticks": ""
            },
            "colorscale": [
             [
              0,
              "#0d0887"
             ],
             [
              0.1111111111111111,
              "#46039f"
             ],
             [
              0.2222222222222222,
              "#7201a8"
             ],
             [
              0.3333333333333333,
              "#9c179e"
             ],
             [
              0.4444444444444444,
              "#bd3786"
             ],
             [
              0.5555555555555556,
              "#d8576b"
             ],
             [
              0.6666666666666666,
              "#ed7953"
             ],
             [
              0.7777777777777778,
              "#fb9f3a"
             ],
             [
              0.8888888888888888,
              "#fdca26"
             ],
             [
              1,
              "#f0f921"
             ]
            ],
            "type": "heatmap"
           }
          ],
          "histogram": [
           {
            "marker": {
             "pattern": {
              "fillmode": "overlay",
              "size": 10,
              "solidity": 0.2
             }
            },
            "type": "histogram"
           }
          ],
          "histogram2d": [
           {
            "colorbar": {
             "outlinewidth": 0,
             "ticks": ""
            },
            "colorscale": [
             [
              0,
              "#0d0887"
             ],
             [
              0.1111111111111111,
              "#46039f"
             ],
             [
              0.2222222222222222,
              "#7201a8"
             ],
             [
              0.3333333333333333,
              "#9c179e"
             ],
             [
              0.4444444444444444,
              "#bd3786"
             ],
             [
              0.5555555555555556,
              "#d8576b"
             ],
             [
              0.6666666666666666,
              "#ed7953"
             ],
             [
              0.7777777777777778,
              "#fb9f3a"
             ],
             [
              0.8888888888888888,
              "#fdca26"
             ],
             [
              1,
              "#f0f921"
             ]
            ],
            "type": "histogram2d"
           }
          ],
          "histogram2dcontour": [
           {
            "colorbar": {
             "outlinewidth": 0,
             "ticks": ""
            },
            "colorscale": [
             [
              0,
              "#0d0887"
             ],
             [
              0.1111111111111111,
              "#46039f"
             ],
             [
              0.2222222222222222,
              "#7201a8"
             ],
             [
              0.3333333333333333,
              "#9c179e"
             ],
             [
              0.4444444444444444,
              "#bd3786"
             ],
             [
              0.5555555555555556,
              "#d8576b"
             ],
             [
              0.6666666666666666,
              "#ed7953"
             ],
             [
              0.7777777777777778,
              "#fb9f3a"
             ],
             [
              0.8888888888888888,
              "#fdca26"
             ],
             [
              1,
              "#f0f921"
             ]
            ],
            "type": "histogram2dcontour"
           }
          ],
          "mesh3d": [
           {
            "colorbar": {
             "outlinewidth": 0,
             "ticks": ""
            },
            "type": "mesh3d"
           }
          ],
          "parcoords": [
           {
            "line": {
             "colorbar": {
              "outlinewidth": 0,
              "ticks": ""
             }
            },
            "type": "parcoords"
           }
          ],
          "pie": [
           {
            "automargin": true,
            "type": "pie"
           }
          ],
          "scatter": [
           {
            "fillpattern": {
             "fillmode": "overlay",
             "size": 10,
             "solidity": 0.2
            },
            "type": "scatter"
           }
          ],
          "scatter3d": [
           {
            "line": {
             "colorbar": {
              "outlinewidth": 0,
              "ticks": ""
             }
            },
            "marker": {
             "colorbar": {
              "outlinewidth": 0,
              "ticks": ""
             }
            },
            "type": "scatter3d"
           }
          ],
          "scattercarpet": [
           {
            "marker": {
             "colorbar": {
              "outlinewidth": 0,
              "ticks": ""
             }
            },
            "type": "scattercarpet"
           }
          ],
          "scattergeo": [
           {
            "marker": {
             "colorbar": {
              "outlinewidth": 0,
              "ticks": ""
             }
            },
            "type": "scattergeo"
           }
          ],
          "scattergl": [
           {
            "marker": {
             "colorbar": {
              "outlinewidth": 0,
              "ticks": ""
             }
            },
            "type": "scattergl"
           }
          ],
          "scattermap": [
           {
            "marker": {
             "colorbar": {
              "outlinewidth": 0,
              "ticks": ""
             }
            },
            "type": "scattermap"
           }
          ],
          "scattermapbox": [
           {
            "marker": {
             "colorbar": {
              "outlinewidth": 0,
              "ticks": ""
             }
            },
            "type": "scattermapbox"
           }
          ],
          "scatterpolar": [
           {
            "marker": {
             "colorbar": {
              "outlinewidth": 0,
              "ticks": ""
             }
            },
            "type": "scatterpolar"
           }
          ],
          "scatterpolargl": [
           {
            "marker": {
             "colorbar": {
              "outlinewidth": 0,
              "ticks": ""
             }
            },
            "type": "scatterpolargl"
           }
          ],
          "scatterternary": [
           {
            "marker": {
             "colorbar": {
              "outlinewidth": 0,
              "ticks": ""
             }
            },
            "type": "scatterternary"
           }
          ],
          "surface": [
           {
            "colorbar": {
             "outlinewidth": 0,
             "ticks": ""
            },
            "colorscale": [
             [
              0,
              "#0d0887"
             ],
             [
              0.1111111111111111,
              "#46039f"
             ],
             [
              0.2222222222222222,
              "#7201a8"
             ],
             [
              0.3333333333333333,
              "#9c179e"
             ],
             [
              0.4444444444444444,
              "#bd3786"
             ],
             [
              0.5555555555555556,
              "#d8576b"
             ],
             [
              0.6666666666666666,
              "#ed7953"
             ],
             [
              0.7777777777777778,
              "#fb9f3a"
             ],
             [
              0.8888888888888888,
              "#fdca26"
             ],
             [
              1,
              "#f0f921"
             ]
            ],
            "type": "surface"
           }
          ],
          "table": [
           {
            "cells": {
             "fill": {
              "color": "#EBF0F8"
             },
             "line": {
              "color": "white"
             }
            },
            "header": {
             "fill": {
              "color": "#C8D4E3"
             },
             "line": {
              "color": "white"
             }
            },
            "type": "table"
           }
          ]
         },
         "layout": {
          "annotationdefaults": {
           "arrowcolor": "#2a3f5f",
           "arrowhead": 0,
           "arrowwidth": 1
          },
          "autotypenumbers": "strict",
          "coloraxis": {
           "colorbar": {
            "outlinewidth": 0,
            "ticks": ""
           }
          },
          "colorscale": {
           "diverging": [
            [
             0,
             "#8e0152"
            ],
            [
             0.1,
             "#c51b7d"
            ],
            [
             0.2,
             "#de77ae"
            ],
            [
             0.3,
             "#f1b6da"
            ],
            [
             0.4,
             "#fde0ef"
            ],
            [
             0.5,
             "#f7f7f7"
            ],
            [
             0.6,
             "#e6f5d0"
            ],
            [
             0.7,
             "#b8e186"
            ],
            [
             0.8,
             "#7fbc41"
            ],
            [
             0.9,
             "#4d9221"
            ],
            [
             1,
             "#276419"
            ]
           ],
           "sequential": [
            [
             0,
             "#0d0887"
            ],
            [
             0.1111111111111111,
             "#46039f"
            ],
            [
             0.2222222222222222,
             "#7201a8"
            ],
            [
             0.3333333333333333,
             "#9c179e"
            ],
            [
             0.4444444444444444,
             "#bd3786"
            ],
            [
             0.5555555555555556,
             "#d8576b"
            ],
            [
             0.6666666666666666,
             "#ed7953"
            ],
            [
             0.7777777777777778,
             "#fb9f3a"
            ],
            [
             0.8888888888888888,
             "#fdca26"
            ],
            [
             1,
             "#f0f921"
            ]
           ],
           "sequentialminus": [
            [
             0,
             "#0d0887"
            ],
            [
             0.1111111111111111,
             "#46039f"
            ],
            [
             0.2222222222222222,
             "#7201a8"
            ],
            [
             0.3333333333333333,
             "#9c179e"
            ],
            [
             0.4444444444444444,
             "#bd3786"
            ],
            [
             0.5555555555555556,
             "#d8576b"
            ],
            [
             0.6666666666666666,
             "#ed7953"
            ],
            [
             0.7777777777777778,
             "#fb9f3a"
            ],
            [
             0.8888888888888888,
             "#fdca26"
            ],
            [
             1,
             "#f0f921"
            ]
           ]
          },
          "colorway": [
           "#636efa",
           "#EF553B",
           "#00cc96",
           "#ab63fa",
           "#FFA15A",
           "#19d3f3",
           "#FF6692",
           "#B6E880",
           "#FF97FF",
           "#FECB52"
          ],
          "font": {
           "color": "#2a3f5f"
          },
          "geo": {
           "bgcolor": "white",
           "lakecolor": "white",
           "landcolor": "#E5ECF6",
           "showlakes": true,
           "showland": true,
           "subunitcolor": "white"
          },
          "hoverlabel": {
           "align": "left"
          },
          "hovermode": "closest",
          "mapbox": {
           "style": "light"
          },
          "paper_bgcolor": "white",
          "plot_bgcolor": "#E5ECF6",
          "polar": {
           "angularaxis": {
            "gridcolor": "white",
            "linecolor": "white",
            "ticks": ""
           },
           "bgcolor": "#E5ECF6",
           "radialaxis": {
            "gridcolor": "white",
            "linecolor": "white",
            "ticks": ""
           }
          },
          "scene": {
           "xaxis": {
            "backgroundcolor": "#E5ECF6",
            "gridcolor": "white",
            "gridwidth": 2,
            "linecolor": "white",
            "showbackground": true,
            "ticks": "",
            "zerolinecolor": "white"
           },
           "yaxis": {
            "backgroundcolor": "#E5ECF6",
            "gridcolor": "white",
            "gridwidth": 2,
            "linecolor": "white",
            "showbackground": true,
            "ticks": "",
            "zerolinecolor": "white"
           },
           "zaxis": {
            "backgroundcolor": "#E5ECF6",
            "gridcolor": "white",
            "gridwidth": 2,
            "linecolor": "white",
            "showbackground": true,
            "ticks": "",
            "zerolinecolor": "white"
           }
          },
          "shapedefaults": {
           "line": {
            "color": "#2a3f5f"
           }
          },
          "ternary": {
           "aaxis": {
            "gridcolor": "white",
            "linecolor": "white",
            "ticks": ""
           },
           "baxis": {
            "gridcolor": "white",
            "linecolor": "white",
            "ticks": ""
           },
           "bgcolor": "#E5ECF6",
           "caxis": {
            "gridcolor": "white",
            "linecolor": "white",
            "ticks": ""
           }
          },
          "title": {
           "x": 0.05
          },
          "xaxis": {
           "automargin": true,
           "gridcolor": "white",
           "linecolor": "white",
           "ticks": "",
           "title": {
            "standoff": 15
           },
           "zerolinecolor": "white",
           "zerolinewidth": 2
          },
          "yaxis": {
           "automargin": true,
           "gridcolor": "white",
           "linecolor": "white",
           "ticks": "",
           "title": {
            "standoff": 15
           },
           "zerolinecolor": "white",
           "zerolinewidth": 2
          }
         }
        },
        "title": {
         "text": "Interactive Camera Poses"
        }
       }
      }
     },
     "metadata": {},
     "output_type": "display_data"
    },
    {
     "name": "stdout",
     "output_type": "stream",
     "text": [
      "\n",
      "============================================================\n",
      "Processing ratio_threshold=0.75, min_matches=18\n",
      "============================================================\n",
      "Filtered viff.000.png-viff.001.png: 2087 → 2038 matches\n",
      "Filtered viff.001.png-viff.002.png: 2211 → 2166 matches\n",
      "Filtered viff.002.png-viff.003.png: 2164 → 2126 matches\n",
      "Filtered viff.003.png-viff.004.png: 2160 → 2128 matches\n",
      "Filtered viff.004.png-viff.005.png: 2088 → 2056 matches\n",
      "Filtered viff.005.png-viff.006.png: 1708 → 1691 matches\n",
      "Filtered viff.006.png-viff.007.png: 1713 → 1690 matches\n",
      "Filtered viff.007.png-viff.008.png: 1614 → 1601 matches\n",
      "Filtered viff.008.png-viff.009.png: 1585 → 1562 matches\n",
      "Filtered viff.009.png-viff.010.png: 1549 → 1542 matches\n",
      "Filtered viff.010.png-viff.011.png: 1743 → 1724 matches\n",
      "Filtered viff.011.png-viff.012.png: 1604 → 1584 matches\n",
      "Filtered viff.012.png-viff.013.png: 1656 → 1640 matches\n",
      "Filtered viff.013.png-viff.014.png: 1501 → 1488 matches\n",
      "Filtered viff.014.png-viff.015.png: 1377 → 1364 matches\n",
      "Filtered viff.015.png-viff.016.png: 1292 → 1271 matches\n",
      "Filtered viff.016.png-viff.017.png: 1425 → 1412 matches\n",
      "Filtered viff.017.png-viff.018.png: 1508 → 1486 matches\n",
      "Filtered viff.018.png-viff.019.png: 1819 → 1790 matches\n",
      "Filtered viff.019.png-viff.020.png: 1952 → 1908 matches\n",
      "Filtered viff.020.png-viff.021.png: 2180 → 2121 matches\n",
      "Filtered viff.021.png-viff.022.png: 2437 → 2383 matches\n",
      "Filtered viff.022.png-viff.023.png: 2464 → 2437 matches\n",
      "Filtered viff.023.png-viff.024.png: 2380 → 2337 matches\n",
      "Filtered viff.024.png-viff.025.png: 2307 → 2278 matches\n",
      "Filtered viff.025.png-viff.026.png: 2052 → 2022 matches\n",
      "Filtered viff.026.png-viff.027.png: 1842 → 1818 matches\n",
      "Filtered viff.027.png-viff.028.png: 1459 → 1422 matches\n",
      "Filtered viff.028.png-viff.029.png: 1073 → 1063 matches\n",
      "Filtered viff.029.png-viff.030.png: 1103 → 1090 matches\n",
      "Filtered viff.030.png-viff.031.png: 954 → 943 matches\n",
      "Filtered viff.031.png-viff.032.png: 1036 → 1027 matches\n",
      "Filtered viff.032.png-viff.033.png: 1309 → 1298 matches\n",
      "Filtered viff.033.png-viff.034.png: 1603 → 1587 matches\n",
      "Filtered viff.034.png-viff.035.png: 1808 → 1794 matches\n",
      "Filtered viff.035.png-viff.000.png: 2055 → 2026 matches\n",
      "Filtered matches: 36 pairs → 36 pairs\n",
      "Initializing with pair: viff.000.png and viff.001.png (2038 matches)\n",
      "Triangulated 1527 initial points\n",
      "Attempting to add image: viff.002.png\n",
      "Found 144 2D-3D correspondences for viff.002.png\n",
      "PnP successful with 68 inliers. Mean reprojection error: 0.38 pixels\n",
      "Added pose for viff.002.png using 68 / 144 points\n",
      "  Triangulated 606 new points with viff.001.png and viff.002.png\n",
      "Attempting to add image: viff.003.png\n",
      "Found 109 2D-3D correspondences for viff.003.png\n",
      "PnP successful with 46 inliers. Mean reprojection error: 0.35 pixels\n",
      "Added pose for viff.003.png using 46 / 109 points\n",
      "  Triangulated 573 new points with viff.002.png and viff.003.png\n",
      "Attempting to add image: viff.004.png\n",
      "Found 101 2D-3D correspondences for viff.004.png\n",
      "PnP successful with 41 inliers. Mean reprojection error: 0.37 pixels\n",
      "Added pose for viff.004.png using 41 / 101 points\n",
      "  Triangulated 543 new points with viff.003.png and viff.004.png\n",
      "Attempting to add image: viff.005.png\n",
      "Found 99 2D-3D correspondences for viff.005.png\n",
      "PnP successful with 61 inliers. Mean reprojection error: 0.32 pixels\n",
      "Added pose for viff.005.png using 61 / 99 points\n",
      "  Triangulated 496 new points with viff.004.png and viff.005.png\n",
      "Attempting to add image: viff.006.png\n",
      "Found 83 2D-3D correspondences for viff.006.png\n",
      "PnP successful with 43 inliers. Mean reprojection error: 0.35 pixels\n",
      "Added pose for viff.006.png using 43 / 83 points\n",
      "  Triangulated 472 new points with viff.005.png and viff.006.png\n",
      "Attempting to add image: viff.007.png\n",
      "Found 82 2D-3D correspondences for viff.007.png\n",
      "PnP successful with 52 inliers. Mean reprojection error: 0.35 pixels\n",
      "Added pose for viff.007.png using 52 / 82 points\n",
      "  Triangulated 487 new points with viff.006.png and viff.007.png\n",
      "Attempting to add image: viff.008.png\n",
      "Found 99 2D-3D correspondences for viff.008.png\n",
      "PnP successful with 55 inliers. Mean reprojection error: 0.36 pixels\n",
      "Added pose for viff.008.png using 55 / 99 points\n",
      "  Triangulated 524 new points with viff.007.png and viff.008.png\n",
      "Attempting to add image: viff.009.png\n",
      "Found 120 2D-3D correspondences for viff.009.png\n",
      "PnP successful with 70 inliers. Mean reprojection error: 0.37 pixels\n",
      "Added pose for viff.009.png using 70 / 120 points\n",
      "  Triangulated 565 new points with viff.008.png and viff.009.png\n",
      "Attempting to add image: viff.010.png\n",
      "Found 95 2D-3D correspondences for viff.010.png\n",
      "PnP successful with 39 inliers. Mean reprojection error: 0.37 pixels\n",
      "Added pose for viff.010.png using 39 / 95 points\n",
      "  Triangulated 635 new points with viff.009.png and viff.010.png\n",
      "Attempting to add image: viff.011.png\n",
      "Found 150 2D-3D correspondences for viff.011.png\n",
      "PnP successful with 68 inliers. Mean reprojection error: 0.36 pixels\n",
      "Added pose for viff.011.png using 68 / 150 points\n",
      "  Triangulated 839 new points with viff.010.png and viff.011.png\n",
      "Attempting to add image: viff.012.png\n",
      "Found 191 2D-3D correspondences for viff.012.png\n",
      "PnP successful with 76 inliers. Mean reprojection error: 0.38 pixels\n",
      "Added pose for viff.012.png using 76 / 191 points\n",
      "  Triangulated 746 new points with viff.011.png and viff.012.png\n",
      "Attempting to add image: viff.013.png\n",
      "Found 171 2D-3D correspondences for viff.013.png\n",
      "PnP successful with 55 inliers. Mean reprojection error: 0.41 pixels\n",
      "Added pose for viff.013.png using 55 / 171 points\n",
      "  Triangulated 815 new points with viff.012.png and viff.013.png\n",
      "Attempting to add image: viff.014.png\n",
      "Found 181 2D-3D correspondences for viff.014.png\n",
      "PnP successful with 56 inliers. Mean reprojection error: 0.40 pixels\n",
      "Added pose for viff.014.png using 56 / 181 points\n",
      "  Triangulated 661 new points with viff.013.png and viff.014.png\n",
      "Attempting to add image: viff.015.png\n",
      "Found 127 2D-3D correspondences for viff.015.png\n",
      "PnP successful with 29 inliers. Mean reprojection error: 0.44 pixels\n",
      "Added pose for viff.015.png using 29 / 127 points\n",
      "  Triangulated 625 new points with viff.014.png and viff.015.png\n",
      "Attempting to add image: viff.016.png\n",
      "Found 136 2D-3D correspondences for viff.016.png\n",
      "PnP successful with 32 inliers. Mean reprojection error: 0.41 pixels\n",
      "Added pose for viff.016.png using 32 / 136 points\n",
      "  Triangulated 491 new points with viff.015.png and viff.016.png\n",
      "Attempting to add image: viff.017.png\n",
      "Found 84 2D-3D correspondences for viff.017.png\n",
      "PnP successful with 20 inliers. Mean reprojection error: 0.36 pixels\n",
      "Added pose for viff.017.png using 20 / 84 points\n",
      "  Triangulated 517 new points with viff.016.png and viff.017.png\n",
      "Attempting to add image: viff.018.png\n",
      "Found 99 2D-3D correspondences for viff.018.png\n",
      "PnP successful with 27 inliers. Mean reprojection error: 0.30 pixels\n",
      "Added pose for viff.018.png using 27 / 99 points\n",
      "  Triangulated 142 new points with viff.017.png and viff.018.png\n",
      "Attempting to add image: viff.019.png\n",
      "Found 28 2D-3D correspondences for viff.019.png\n",
      "PnP successful with 13 inliers. Mean reprojection error: 0.37 pixels\n",
      "Added pose for viff.019.png using 13 / 28 points\n",
      "  Triangulated 200 new points with viff.018.png and viff.019.png\n",
      "Attempting to add image: viff.020.png\n",
      "Found 48 2D-3D correspondences for viff.020.png\n",
      "PnP successful with 20 inliers. Mean reprojection error: 0.31 pixels\n",
      "Added pose for viff.020.png using 20 / 48 points\n",
      "  Triangulated 143 new points with viff.019.png and viff.020.png\n",
      "Attempting to add image: viff.021.png\n",
      "Found 36 2D-3D correspondences for viff.021.png\n",
      "PnP successful with 21 inliers. Mean reprojection error: 0.34 pixels\n",
      "Added pose for viff.021.png using 21 / 36 points\n",
      "  Triangulated 143 new points with viff.020.png and viff.021.png\n",
      "Attempting to add image: viff.022.png\n",
      "Found 33 2D-3D correspondences for viff.022.png\n",
      "PnP successful with 23 inliers. Mean reprojection error: 0.36 pixels\n",
      "Added pose for viff.022.png using 23 / 33 points\n",
      "  Triangulated 241 new points with viff.021.png and viff.022.png\n",
      "Attempting to add image: viff.023.png\n",
      "Found 43 2D-3D correspondences for viff.023.png\n",
      "PnP successful with 20 inliers. Mean reprojection error: 0.36 pixels\n",
      "Added pose for viff.023.png using 20 / 43 points\n",
      "  Triangulated 172 new points with viff.022.png and viff.023.png\n",
      "Attempting to add image: viff.024.png\n",
      "Found 39 2D-3D correspondences for viff.024.png\n",
      "PnP successful with 15 inliers. Mean reprojection error: 0.35 pixels\n",
      "Added pose for viff.024.png using 15 / 39 points\n",
      "  Triangulated 335 new points with viff.023.png and viff.024.png\n",
      "Attempting to add image: viff.025.png\n",
      "Found 64 2D-3D correspondences for viff.025.png\n",
      "PnP successful with 17 inliers. Mean reprojection error: 0.36 pixels\n",
      "Added pose for viff.025.png using 17 / 64 points\n",
      "  Triangulated 480 new points with viff.024.png and viff.025.png\n",
      "Attempting to add image: viff.026.png\n",
      "Found 90 2D-3D correspondences for viff.026.png\n",
      "PnP successful with 23 inliers. Mean reprojection error: 0.37 pixels\n",
      "Added pose for viff.026.png using 23 / 90 points\n",
      "  Triangulated 554 new points with viff.025.png and viff.026.png\n",
      "Attempting to add image: viff.027.png\n",
      "Found 108 2D-3D correspondences for viff.027.png\n",
      "PnP successful with 20 inliers. Mean reprojection error: 0.34 pixels\n",
      "Added pose for viff.027.png using 20 / 108 points\n",
      "  Triangulated 413 new points with viff.026.png and viff.027.png\n",
      "Attempting to add image: viff.028.png\n",
      "Found 76 2D-3D correspondences for viff.028.png\n",
      "PnP successful with 22 inliers. Mean reprojection error: 0.36 pixels\n",
      "Added pose for viff.028.png using 22 / 76 points\n",
      "  Triangulated 374 new points with viff.027.png and viff.028.png\n",
      "Attempting to add image: viff.029.png\n",
      "Found 61 2D-3D correspondences for viff.029.png\n",
      "PnP successful with 26 inliers. Mean reprojection error: 0.41 pixels\n",
      "Added pose for viff.029.png using 26 / 61 points\n",
      "  Triangulated 295 new points with viff.028.png and viff.029.png\n",
      "Attempting to add image: viff.030.png\n",
      "Found 41 2D-3D correspondences for viff.030.png\n",
      "PnP successful with 15 inliers. Mean reprojection error: 0.39 pixels\n",
      "Added pose for viff.030.png using 15 / 41 points\n",
      "  Triangulated 215 new points with viff.029.png and viff.030.png\n",
      "Attempting to add image: viff.031.png\n",
      "Found 27 2D-3D correspondences for viff.031.png\n",
      "PnP successful with 10 inliers. Mean reprojection error: 0.36 pixels\n",
      "Added pose for viff.031.png using 10 / 27 points\n",
      "  Triangulated 353 new points with viff.030.png and viff.031.png\n",
      "Attempting to add image: viff.032.png\n",
      "Found 46 2D-3D correspondences for viff.032.png\n",
      "PnP successful with 26 inliers. Mean reprojection error: 0.39 pixels\n",
      "Added pose for viff.032.png using 26 / 46 points\n",
      "  Triangulated 356 new points with viff.031.png and viff.032.png\n",
      "Attempting to add image: viff.033.png\n",
      "Found 52 2D-3D correspondences for viff.033.png\n",
      "PnP successful with 28 inliers. Mean reprojection error: 0.34 pixels\n",
      "Added pose for viff.033.png using 28 / 52 points\n",
      "  Triangulated 415 new points with viff.032.png and viff.033.png\n",
      "Attempting to add image: viff.034.png\n",
      "Found 88 2D-3D correspondences for viff.034.png\n",
      "PnP successful with 41 inliers. Mean reprojection error: 0.36 pixels\n",
      "Added pose for viff.034.png using 41 / 88 points\n",
      "  Triangulated 492 new points with viff.033.png and viff.034.png\n",
      "Attempting to add image: viff.035.png\n",
      "Found 390 2D-3D correspondences for viff.035.png\n",
      "PnP successful with 159 inliers. Mean reprojection error: 0.32 pixels\n",
      "Added pose for viff.035.png using 159 / 390 points\n",
      "  Triangulated 0 new points with viff.034.png and viff.035.png\n",
      "  Triangulated 687 new points with viff.035.png and viff.000.png\n",
      "Estimated poses for 36/36 cameras\n",
      "Total triangulated points: 17132\n",
      "Estimated poses for 36 cameras.\n",
      "Displaying interactive 3D plot...\n"
     ]
    },
    {
     "data": {
      "application/vnd.plotly.v1+json": {
       "config": {
        "plotlyServerURL": "https://plot.ly"
       },
       "data": [
        {
         "marker": {
          "color": "red",
          "size": 8,
          "symbol": "square"
         },
         "mode": "markers+text",
         "name": "Camera Positions",
         "text": [
          "viff.000.png",
          "viff.001.png",
          "viff.002.png",
          "viff.003.png",
          "viff.004.png",
          "viff.005.png",
          "viff.006.png",
          "viff.007.png",
          "viff.008.png",
          "viff.009.png",
          "viff.010.png",
          "viff.011.png",
          "viff.012.png",
          "viff.013.png",
          "viff.014.png",
          "viff.015.png",
          "viff.016.png",
          "viff.017.png",
          "viff.018.png",
          "viff.019.png",
          "viff.020.png",
          "viff.021.png",
          "viff.022.png",
          "viff.023.png",
          "viff.024.png",
          "viff.025.png",
          "viff.026.png",
          "viff.027.png",
          "viff.028.png",
          "viff.029.png",
          "viff.030.png",
          "viff.031.png",
          "viff.032.png",
          "viff.033.png",
          "viff.034.png",
          "viff.035.png"
         ],
         "textposition": "top center",
         "type": "scatter3d",
         "x": {
          "bdata": "AAAAAAAAAAAiCnLPUI/tP2SvFtv1uPw/w1w47JYQBUDD1+5ttekKQIuNiLQGLRBA721kRHcmE0BSFZ/TCc8VQO8/MjNmQBhAlm3mKGOTG0DEEwqUM8IeQFNaLgXQWCFAQCujbukWI0Dfso6ISlYlQFYKC4X1MyhAb1sK2hy1K0BFRdxgY2MvQGKhyyBLdzFAY6lQR1fvMECLiNwHX5kxQOQoYGjvtTFAtLqfDM8JMkAEeqGU2UIyQOQfjArEGDJADW+RklCIMUBvFz1kmowwQE1KzV0aDi9AeDgJviHUMUDhAwb+zXYvQBCRr95t4iVASVRdMpCdIkDD+shM80cmQBbqM1PnlyhAbpegRncFK0ATdPhtgA4uQBMpkgU8sea/",
          "dtype": "f8"
         },
         "y": {
          "bdata": "AAAAAAAAAAAziyoAbm7Fv793+Wp4xsq/E+CA2fFB3L9B0OeiLQ/mv+OODHJk2e6/TBpoO6/Q9L9A7ao8vNf7v0DXox0G8gHAyjeSNv7SA8AvyxQBNnEEwBy5WxSo8gHA0ryFRNrJ+b9A3KxSlbLjv5egGPz39uU/J5qTkwyfCUBHQZh5sR8ZQDM4YowvaiVArvuyzV0rJECnDq0OYU4jQEekO0UOfSJAi80UvZ2uIUBzPgqhgWshQFIwFCJszyJA1ImZYyH9JED6hwnlchopQFtlx13UHSlATrUrZ/wnJUCy0HivdxQtQPXD7Mh3NzRAyFRfBReONkAKDHWLg5o0QEu67Gu0mTJAYMBD04hQMkBKjnGlf/QyQHJ9CyZpYlw/",
          "dtype": "f8"
         },
         "z": {
          "bdata": "AAAAAAAAAADPlypS3AvWP745cLzXRN2/XTUmQ1q68L+NCVH1F63lv2NGtgJ+GvC/g8g8kaf38b8/Sdy6fizzvxBDmxSTyPK/bcftlG8EBMBWUKoAwyISwOSmNfPJcCDAPSbsWa2JK8B+70WdwUM1wKtagQAaHz7AD0DYA8R+RcBSmS9dS0dMwN6U+n+W71HAUoDyfr/8UsACszHRp5hRwKCXtqmpm1HANSYfB0SjUcCTAyTr9kJSwBLxLnxGlFPARUxb//J3VcDdE3FfGoNYwFR0yU6g8FzA1qTjLPU7WMC3IzY5az9awJlbLvAydl7Aa119GRsmYMAU3G60c6tgwMuc6Ir2I2HAIP3SITj+YcAwwWnuUp5iwDnNDW6bYrc/",
          "dtype": "f8"
         }
        },
        {
         "line": {
          "color": "blue",
          "width": 2
         },
         "mode": "lines",
         "name": "Camera Trajectory",
         "type": "scatter3d",
         "x": {
          "bdata": "AAAAAAAAAAAiCnLPUI/tP2SvFtv1uPw/w1w47JYQBUDD1+5ttekKQIuNiLQGLRBA721kRHcmE0BSFZ/TCc8VQO8/MjNmQBhAlm3mKGOTG0DEEwqUM8IeQFNaLgXQWCFAQCujbukWI0Dfso6ISlYlQFYKC4X1MyhAb1sK2hy1K0BFRdxgY2MvQGKhyyBLdzFAY6lQR1fvMECLiNwHX5kxQOQoYGjvtTFAtLqfDM8JMkAEeqGU2UIyQOQfjArEGDJADW+RklCIMUBvFz1kmowwQE1KzV0aDi9AeDgJviHUMUDhAwb+zXYvQBCRr95t4iVASVRdMpCdIkDD+shM80cmQBbqM1PnlyhAbpegRncFK0ATdPhtgA4uQBMpkgU8sea/",
          "dtype": "f8"
         },
         "y": {
          "bdata": "AAAAAAAAAAAziyoAbm7Fv793+Wp4xsq/E+CA2fFB3L9B0OeiLQ/mv+OODHJk2e6/TBpoO6/Q9L9A7ao8vNf7v0DXox0G8gHAyjeSNv7SA8AvyxQBNnEEwBy5WxSo8gHA0ryFRNrJ+b9A3KxSlbLjv5egGPz39uU/J5qTkwyfCUBHQZh5sR8ZQDM4YowvaiVArvuyzV0rJECnDq0OYU4jQEekO0UOfSJAi80UvZ2uIUBzPgqhgWshQFIwFCJszyJA1ImZYyH9JED6hwnlchopQFtlx13UHSlATrUrZ/wnJUCy0HivdxQtQPXD7Mh3NzRAyFRfBReONkAKDHWLg5o0QEu67Gu0mTJAYMBD04hQMkBKjnGlf/QyQHJ9CyZpYlw/",
          "dtype": "f8"
         },
         "z": {
          "bdata": "AAAAAAAAAADPlypS3AvWP745cLzXRN2/XTUmQ1q68L+NCVH1F63lv2NGtgJ+GvC/g8g8kaf38b8/Sdy6fizzvxBDmxSTyPK/bcftlG8EBMBWUKoAwyISwOSmNfPJcCDAPSbsWa2JK8B+70WdwUM1wKtagQAaHz7AD0DYA8R+RcBSmS9dS0dMwN6U+n+W71HAUoDyfr/8UsACszHRp5hRwKCXtqmpm1HANSYfB0SjUcCTAyTr9kJSwBLxLnxGlFPARUxb//J3VcDdE3FfGoNYwFR0yU6g8FzA1qTjLPU7WMC3IzY5az9awJlbLvAydl7Aa119GRsmYMAU3G60c6tgwMuc6Ir2I2HAIP3SITj+YcAwwWnuUp5iwDnNDW6bYrc/",
          "dtype": "f8"
         }
        }
       ],
       "layout": {
        "margin": {
         "b": 0,
         "l": 0,
         "r": 0,
         "t": 30
        },
        "scene": {
         "aspectmode": "cube",
         "xaxis": {
          "range": [
           -65.87004995739478,
           83.42204740778679
          ]
         },
         "yaxis": {
          "range": [
           -64.64616868947292,
           84.64592867570866
          ]
         },
         "zaxis": {
          "range": [
           -148.94762344985202,
           0.3444739153295586
          ]
         }
        },
        "template": {
         "data": {
          "bar": [
           {
            "error_x": {
             "color": "#2a3f5f"
            },
            "error_y": {
             "color": "#2a3f5f"
            },
            "marker": {
             "line": {
              "color": "#E5ECF6",
              "width": 0.5
             },
             "pattern": {
              "fillmode": "overlay",
              "size": 10,
              "solidity": 0.2
             }
            },
            "type": "bar"
           }
          ],
          "barpolar": [
           {
            "marker": {
             "line": {
              "color": "#E5ECF6",
              "width": 0.5
             },
             "pattern": {
              "fillmode": "overlay",
              "size": 10,
              "solidity": 0.2
             }
            },
            "type": "barpolar"
           }
          ],
          "carpet": [
           {
            "aaxis": {
             "endlinecolor": "#2a3f5f",
             "gridcolor": "white",
             "linecolor": "white",
             "minorgridcolor": "white",
             "startlinecolor": "#2a3f5f"
            },
            "baxis": {
             "endlinecolor": "#2a3f5f",
             "gridcolor": "white",
             "linecolor": "white",
             "minorgridcolor": "white",
             "startlinecolor": "#2a3f5f"
            },
            "type": "carpet"
           }
          ],
          "choropleth": [
           {
            "colorbar": {
             "outlinewidth": 0,
             "ticks": ""
            },
            "type": "choropleth"
           }
          ],
          "contour": [
           {
            "colorbar": {
             "outlinewidth": 0,
             "ticks": ""
            },
            "colorscale": [
             [
              0,
              "#0d0887"
             ],
             [
              0.1111111111111111,
              "#46039f"
             ],
             [
              0.2222222222222222,
              "#7201a8"
             ],
             [
              0.3333333333333333,
              "#9c179e"
             ],
             [
              0.4444444444444444,
              "#bd3786"
             ],
             [
              0.5555555555555556,
              "#d8576b"
             ],
             [
              0.6666666666666666,
              "#ed7953"
             ],
             [
              0.7777777777777778,
              "#fb9f3a"
             ],
             [
              0.8888888888888888,
              "#fdca26"
             ],
             [
              1,
              "#f0f921"
             ]
            ],
            "type": "contour"
           }
          ],
          "contourcarpet": [
           {
            "colorbar": {
             "outlinewidth": 0,
             "ticks": ""
            },
            "type": "contourcarpet"
           }
          ],
          "heatmap": [
           {
            "colorbar": {
             "outlinewidth": 0,
             "ticks": ""
            },
            "colorscale": [
             [
              0,
              "#0d0887"
             ],
             [
              0.1111111111111111,
              "#46039f"
             ],
             [
              0.2222222222222222,
              "#7201a8"
             ],
             [
              0.3333333333333333,
              "#9c179e"
             ],
             [
              0.4444444444444444,
              "#bd3786"
             ],
             [
              0.5555555555555556,
              "#d8576b"
             ],
             [
              0.6666666666666666,
              "#ed7953"
             ],
             [
              0.7777777777777778,
              "#fb9f3a"
             ],
             [
              0.8888888888888888,
              "#fdca26"
             ],
             [
              1,
              "#f0f921"
             ]
            ],
            "type": "heatmap"
           }
          ],
          "histogram": [
           {
            "marker": {
             "pattern": {
              "fillmode": "overlay",
              "size": 10,
              "solidity": 0.2
             }
            },
            "type": "histogram"
           }
          ],
          "histogram2d": [
           {
            "colorbar": {
             "outlinewidth": 0,
             "ticks": ""
            },
            "colorscale": [
             [
              0,
              "#0d0887"
             ],
             [
              0.1111111111111111,
              "#46039f"
             ],
             [
              0.2222222222222222,
              "#7201a8"
             ],
             [
              0.3333333333333333,
              "#9c179e"
             ],
             [
              0.4444444444444444,
              "#bd3786"
             ],
             [
              0.5555555555555556,
              "#d8576b"
             ],
             [
              0.6666666666666666,
              "#ed7953"
             ],
             [
              0.7777777777777778,
              "#fb9f3a"
             ],
             [
              0.8888888888888888,
              "#fdca26"
             ],
             [
              1,
              "#f0f921"
             ]
            ],
            "type": "histogram2d"
           }
          ],
          "histogram2dcontour": [
           {
            "colorbar": {
             "outlinewidth": 0,
             "ticks": ""
            },
            "colorscale": [
             [
              0,
              "#0d0887"
             ],
             [
              0.1111111111111111,
              "#46039f"
             ],
             [
              0.2222222222222222,
              "#7201a8"
             ],
             [
              0.3333333333333333,
              "#9c179e"
             ],
             [
              0.4444444444444444,
              "#bd3786"
             ],
             [
              0.5555555555555556,
              "#d8576b"
             ],
             [
              0.6666666666666666,
              "#ed7953"
             ],
             [
              0.7777777777777778,
              "#fb9f3a"
             ],
             [
              0.8888888888888888,
              "#fdca26"
             ],
             [
              1,
              "#f0f921"
             ]
            ],
            "type": "histogram2dcontour"
           }
          ],
          "mesh3d": [
           {
            "colorbar": {
             "outlinewidth": 0,
             "ticks": ""
            },
            "type": "mesh3d"
           }
          ],
          "parcoords": [
           {
            "line": {
             "colorbar": {
              "outlinewidth": 0,
              "ticks": ""
             }
            },
            "type": "parcoords"
           }
          ],
          "pie": [
           {
            "automargin": true,
            "type": "pie"
           }
          ],
          "scatter": [
           {
            "fillpattern": {
             "fillmode": "overlay",
             "size": 10,
             "solidity": 0.2
            },
            "type": "scatter"
           }
          ],
          "scatter3d": [
           {
            "line": {
             "colorbar": {
              "outlinewidth": 0,
              "ticks": ""
             }
            },
            "marker": {
             "colorbar": {
              "outlinewidth": 0,
              "ticks": ""
             }
            },
            "type": "scatter3d"
           }
          ],
          "scattercarpet": [
           {
            "marker": {
             "colorbar": {
              "outlinewidth": 0,
              "ticks": ""
             }
            },
            "type": "scattercarpet"
           }
          ],
          "scattergeo": [
           {
            "marker": {
             "colorbar": {
              "outlinewidth": 0,
              "ticks": ""
             }
            },
            "type": "scattergeo"
           }
          ],
          "scattergl": [
           {
            "marker": {
             "colorbar": {
              "outlinewidth": 0,
              "ticks": ""
             }
            },
            "type": "scattergl"
           }
          ],
          "scattermap": [
           {
            "marker": {
             "colorbar": {
              "outlinewidth": 0,
              "ticks": ""
             }
            },
            "type": "scattermap"
           }
          ],
          "scattermapbox": [
           {
            "marker": {
             "colorbar": {
              "outlinewidth": 0,
              "ticks": ""
             }
            },
            "type": "scattermapbox"
           }
          ],
          "scatterpolar": [
           {
            "marker": {
             "colorbar": {
              "outlinewidth": 0,
              "ticks": ""
             }
            },
            "type": "scatterpolar"
           }
          ],
          "scatterpolargl": [
           {
            "marker": {
             "colorbar": {
              "outlinewidth": 0,
              "ticks": ""
             }
            },
            "type": "scatterpolargl"
           }
          ],
          "scatterternary": [
           {
            "marker": {
             "colorbar": {
              "outlinewidth": 0,
              "ticks": ""
             }
            },
            "type": "scatterternary"
           }
          ],
          "surface": [
           {
            "colorbar": {
             "outlinewidth": 0,
             "ticks": ""
            },
            "colorscale": [
             [
              0,
              "#0d0887"
             ],
             [
              0.1111111111111111,
              "#46039f"
             ],
             [
              0.2222222222222222,
              "#7201a8"
             ],
             [
              0.3333333333333333,
              "#9c179e"
             ],
             [
              0.4444444444444444,
              "#bd3786"
             ],
             [
              0.5555555555555556,
              "#d8576b"
             ],
             [
              0.6666666666666666,
              "#ed7953"
             ],
             [
              0.7777777777777778,
              "#fb9f3a"
             ],
             [
              0.8888888888888888,
              "#fdca26"
             ],
             [
              1,
              "#f0f921"
             ]
            ],
            "type": "surface"
           }
          ],
          "table": [
           {
            "cells": {
             "fill": {
              "color": "#EBF0F8"
             },
             "line": {
              "color": "white"
             }
            },
            "header": {
             "fill": {
              "color": "#C8D4E3"
             },
             "line": {
              "color": "white"
             }
            },
            "type": "table"
           }
          ]
         },
         "layout": {
          "annotationdefaults": {
           "arrowcolor": "#2a3f5f",
           "arrowhead": 0,
           "arrowwidth": 1
          },
          "autotypenumbers": "strict",
          "coloraxis": {
           "colorbar": {
            "outlinewidth": 0,
            "ticks": ""
           }
          },
          "colorscale": {
           "diverging": [
            [
             0,
             "#8e0152"
            ],
            [
             0.1,
             "#c51b7d"
            ],
            [
             0.2,
             "#de77ae"
            ],
            [
             0.3,
             "#f1b6da"
            ],
            [
             0.4,
             "#fde0ef"
            ],
            [
             0.5,
             "#f7f7f7"
            ],
            [
             0.6,
             "#e6f5d0"
            ],
            [
             0.7,
             "#b8e186"
            ],
            [
             0.8,
             "#7fbc41"
            ],
            [
             0.9,
             "#4d9221"
            ],
            [
             1,
             "#276419"
            ]
           ],
           "sequential": [
            [
             0,
             "#0d0887"
            ],
            [
             0.1111111111111111,
             "#46039f"
            ],
            [
             0.2222222222222222,
             "#7201a8"
            ],
            [
             0.3333333333333333,
             "#9c179e"
            ],
            [
             0.4444444444444444,
             "#bd3786"
            ],
            [
             0.5555555555555556,
             "#d8576b"
            ],
            [
             0.6666666666666666,
             "#ed7953"
            ],
            [
             0.7777777777777778,
             "#fb9f3a"
            ],
            [
             0.8888888888888888,
             "#fdca26"
            ],
            [
             1,
             "#f0f921"
            ]
           ],
           "sequentialminus": [
            [
             0,
             "#0d0887"
            ],
            [
             0.1111111111111111,
             "#46039f"
            ],
            [
             0.2222222222222222,
             "#7201a8"
            ],
            [
             0.3333333333333333,
             "#9c179e"
            ],
            [
             0.4444444444444444,
             "#bd3786"
            ],
            [
             0.5555555555555556,
             "#d8576b"
            ],
            [
             0.6666666666666666,
             "#ed7953"
            ],
            [
             0.7777777777777778,
             "#fb9f3a"
            ],
            [
             0.8888888888888888,
             "#fdca26"
            ],
            [
             1,
             "#f0f921"
            ]
           ]
          },
          "colorway": [
           "#636efa",
           "#EF553B",
           "#00cc96",
           "#ab63fa",
           "#FFA15A",
           "#19d3f3",
           "#FF6692",
           "#B6E880",
           "#FF97FF",
           "#FECB52"
          ],
          "font": {
           "color": "#2a3f5f"
          },
          "geo": {
           "bgcolor": "white",
           "lakecolor": "white",
           "landcolor": "#E5ECF6",
           "showlakes": true,
           "showland": true,
           "subunitcolor": "white"
          },
          "hoverlabel": {
           "align": "left"
          },
          "hovermode": "closest",
          "mapbox": {
           "style": "light"
          },
          "paper_bgcolor": "white",
          "plot_bgcolor": "#E5ECF6",
          "polar": {
           "angularaxis": {
            "gridcolor": "white",
            "linecolor": "white",
            "ticks": ""
           },
           "bgcolor": "#E5ECF6",
           "radialaxis": {
            "gridcolor": "white",
            "linecolor": "white",
            "ticks": ""
           }
          },
          "scene": {
           "xaxis": {
            "backgroundcolor": "#E5ECF6",
            "gridcolor": "white",
            "gridwidth": 2,
            "linecolor": "white",
            "showbackground": true,
            "ticks": "",
            "zerolinecolor": "white"
           },
           "yaxis": {
            "backgroundcolor": "#E5ECF6",
            "gridcolor": "white",
            "gridwidth": 2,
            "linecolor": "white",
            "showbackground": true,
            "ticks": "",
            "zerolinecolor": "white"
           },
           "zaxis": {
            "backgroundcolor": "#E5ECF6",
            "gridcolor": "white",
            "gridwidth": 2,
            "linecolor": "white",
            "showbackground": true,
            "ticks": "",
            "zerolinecolor": "white"
           }
          },
          "shapedefaults": {
           "line": {
            "color": "#2a3f5f"
           }
          },
          "ternary": {
           "aaxis": {
            "gridcolor": "white",
            "linecolor": "white",
            "ticks": ""
           },
           "baxis": {
            "gridcolor": "white",
            "linecolor": "white",
            "ticks": ""
           },
           "bgcolor": "#E5ECF6",
           "caxis": {
            "gridcolor": "white",
            "linecolor": "white",
            "ticks": ""
           }
          },
          "title": {
           "x": 0.05
          },
          "xaxis": {
           "automargin": true,
           "gridcolor": "white",
           "linecolor": "white",
           "ticks": "",
           "title": {
            "standoff": 15
           },
           "zerolinecolor": "white",
           "zerolinewidth": 2
          },
          "yaxis": {
           "automargin": true,
           "gridcolor": "white",
           "linecolor": "white",
           "ticks": "",
           "title": {
            "standoff": 15
           },
           "zerolinecolor": "white",
           "zerolinewidth": 2
          }
         }
        },
        "title": {
         "text": "Interactive Camera Poses"
        }
       }
      }
     },
     "metadata": {},
     "output_type": "display_data"
    },
    {
     "name": "stdout",
     "output_type": "stream",
     "text": [
      "\n",
      "============================================================\n",
      "Processing ratio_threshold=0.75, min_matches=20\n",
      "============================================================\n",
      "Filtered viff.000.png-viff.001.png: 2162 → 2106 matches\n",
      "Filtered viff.001.png-viff.002.png: 2208 → 2160 matches\n",
      "Filtered viff.002.png-viff.003.png: 2296 → 2251 matches\n",
      "Filtered viff.003.png-viff.004.png: 2196 → 2165 matches\n",
      "Filtered viff.004.png-viff.005.png: 2154 → 2125 matches\n",
      "Filtered viff.005.png-viff.006.png: 1773 → 1756 matches\n",
      "Filtered viff.006.png-viff.007.png: 1748 → 1725 matches\n",
      "Filtered viff.007.png-viff.008.png: 1513 → 1503 matches\n",
      "Filtered viff.008.png-viff.009.png: 1690 → 1667 matches\n",
      "Filtered viff.009.png-viff.010.png: 1557 → 1544 matches\n",
      "Filtered viff.010.png-viff.011.png: 1755 → 1736 matches\n",
      "Filtered viff.011.png-viff.012.png: 1629 → 1609 matches\n",
      "Filtered viff.012.png-viff.013.png: 1643 → 1625 matches\n",
      "Filtered viff.013.png-viff.014.png: 1458 → 1448 matches\n",
      "Filtered viff.014.png-viff.015.png: 1328 → 1317 matches\n",
      "Filtered viff.015.png-viff.016.png: 1236 → 1220 matches\n",
      "Filtered viff.016.png-viff.017.png: 1462 → 1445 matches\n",
      "Filtered viff.017.png-viff.018.png: 1602 → 1585 matches\n",
      "Filtered viff.018.png-viff.019.png: 1956 → 1928 matches\n",
      "Filtered viff.019.png-viff.020.png: 1866 → 1829 matches\n",
      "Filtered viff.020.png-viff.021.png: 2095 → 2039 matches\n",
      "Filtered viff.021.png-viff.022.png: 2177 → 2132 matches\n",
      "Filtered viff.022.png-viff.023.png: 2595 → 2560 matches\n",
      "Filtered viff.023.png-viff.024.png: 2254 → 2224 matches\n",
      "Filtered viff.024.png-viff.025.png: 2257 → 2225 matches\n",
      "Filtered viff.025.png-viff.026.png: 2028 → 2011 matches\n",
      "Filtered viff.026.png-viff.027.png: 1863 → 1840 matches\n",
      "Filtered viff.027.png-viff.028.png: 1383 → 1347 matches\n",
      "Filtered viff.028.png-viff.029.png: 976 → 961 matches\n",
      "Filtered viff.029.png-viff.030.png: 1128 → 1108 matches\n",
      "Filtered viff.030.png-viff.031.png: 875 → 861 matches\n",
      "Filtered viff.031.png-viff.032.png: 1052 → 1045 matches\n",
      "Filtered viff.032.png-viff.033.png: 1244 → 1234 matches\n",
      "Filtered viff.033.png-viff.034.png: 1676 → 1663 matches\n",
      "Filtered viff.034.png-viff.035.png: 1856 → 1840 matches\n",
      "Filtered viff.035.png-viff.000.png: 2081 → 2048 matches\n",
      "Filtered matches: 36 pairs → 36 pairs\n",
      "Initializing with pair: viff.000.png and viff.001.png (2106 matches)\n",
      "Triangulated 2105 initial points\n",
      "Attempting to add image: viff.002.png\n",
      "Found 235 2D-3D correspondences for viff.002.png\n",
      "PnP successful with 102 inliers. Mean reprojection error: 0.34 pixels\n",
      "Added pose for viff.002.png using 102 / 235 points\n",
      "  Triangulated 996 new points with viff.001.png and viff.002.png\n",
      "Attempting to add image: viff.003.png\n",
      "Found 220 2D-3D correspondences for viff.003.png\n",
      "PnP successful with 76 inliers. Mean reprojection error: 0.37 pixels\n",
      "Added pose for viff.003.png using 76 / 220 points\n",
      "  Triangulated 1070 new points with viff.002.png and viff.003.png\n",
      "Attempting to add image: viff.004.png\n",
      "Found 229 2D-3D correspondences for viff.004.png\n",
      "PnP successful with 57 inliers. Mean reprojection error: 0.37 pixels\n",
      "Added pose for viff.004.png using 57 / 229 points\n",
      "  Triangulated 1021 new points with viff.003.png and viff.004.png\n",
      "Attempting to add image: viff.005.png\n",
      "Found 204 2D-3D correspondences for viff.005.png\n",
      "PnP successful with 37 inliers. Mean reprojection error: 0.40 pixels\n",
      "Added pose for viff.005.png using 37 / 204 points\n",
      "  Triangulated 998 new points with viff.004.png and viff.005.png\n",
      "Attempting to add image: viff.006.png\n",
      "Found 174 2D-3D correspondences for viff.006.png\n",
      "PnP successful with 45 inliers. Mean reprojection error: 0.40 pixels\n",
      "Added pose for viff.006.png using 45 / 174 points\n",
      "  Triangulated 864 new points with viff.005.png and viff.006.png\n",
      "Attempting to add image: viff.007.png\n",
      "Found 160 2D-3D correspondences for viff.007.png\n",
      "PnP successful with 40 inliers. Mean reprojection error: 0.39 pixels\n",
      "Added pose for viff.007.png using 40 / 160 points\n",
      "  Triangulated 835 new points with viff.006.png and viff.007.png\n",
      "Attempting to add image: viff.008.png\n",
      "Found 148 2D-3D correspondences for viff.008.png\n",
      "PnP successful with 33 inliers. Mean reprojection error: 0.38 pixels\n",
      "Added pose for viff.008.png using 33 / 148 points\n",
      "  Triangulated 748 new points with viff.007.png and viff.008.png\n",
      "Attempting to add image: viff.009.png\n",
      "Found 163 2D-3D correspondences for viff.009.png\n",
      "PnP successful with 42 inliers. Mean reprojection error: 0.38 pixels\n",
      "Added pose for viff.009.png using 42 / 163 points\n",
      "  Triangulated 785 new points with viff.008.png and viff.009.png\n",
      "Attempting to add image: viff.010.png\n",
      "Found 141 2D-3D correspondences for viff.010.png\n",
      "PnP successful with 28 inliers. Mean reprojection error: 0.34 pixels\n",
      "Added pose for viff.010.png using 28 / 141 points\n",
      "  Triangulated 772 new points with viff.009.png and viff.010.png\n",
      "Attempting to add image: viff.011.png\n",
      "Found 171 2D-3D correspondences for viff.011.png\n",
      "PnP successful with 49 inliers. Mean reprojection error: 0.37 pixels\n",
      "Added pose for viff.011.png using 49 / 171 points\n",
      "  Triangulated 867 new points with viff.010.png and viff.011.png\n",
      "Attempting to add image: viff.012.png\n",
      "Found 208 2D-3D correspondences for viff.012.png\n",
      "PnP successful with 58 inliers. Mean reprojection error: 0.39 pixels\n",
      "Added pose for viff.012.png using 58 / 208 points\n",
      "  Triangulated 779 new points with viff.011.png and viff.012.png\n",
      "Attempting to add image: viff.013.png\n",
      "Found 178 2D-3D correspondences for viff.013.png\n",
      "PnP successful with 88 inliers. Mean reprojection error: 0.39 pixels\n",
      "Added pose for viff.013.png using 88 / 178 points\n",
      "  Triangulated 828 new points with viff.012.png and viff.013.png\n",
      "Attempting to add image: viff.014.png\n",
      "Found 189 2D-3D correspondences for viff.014.png\n",
      "PnP successful with 119 inliers. Mean reprojection error: 0.37 pixels\n",
      "Added pose for viff.014.png using 119 / 189 points\n",
      "  Triangulated 668 new points with viff.013.png and viff.014.png\n",
      "Attempting to add image: viff.015.png\n",
      "Found 131 2D-3D correspondences for viff.015.png\n",
      "PnP successful with 89 inliers. Mean reprojection error: 0.38 pixels\n",
      "Added pose for viff.015.png using 89 / 131 points\n",
      "  Triangulated 696 new points with viff.014.png and viff.015.png\n",
      "Attempting to add image: viff.016.png\n",
      "Found 121 2D-3D correspondences for viff.016.png\n",
      "PnP successful with 71 inliers. Mean reprojection error: 0.39 pixels\n",
      "Added pose for viff.016.png using 71 / 121 points\n",
      "  Triangulated 623 new points with viff.015.png and viff.016.png\n",
      "Attempting to add image: viff.017.png\n",
      "Found 121 2D-3D correspondences for viff.017.png\n",
      "PnP successful with 74 inliers. Mean reprojection error: 0.37 pixels\n",
      "Added pose for viff.017.png using 74 / 121 points\n",
      "  Triangulated 738 new points with viff.016.png and viff.017.png\n",
      "Attempting to add image: viff.018.png\n",
      "Found 137 2D-3D correspondences for viff.018.png\n",
      "PnP successful with 66 inliers. Mean reprojection error: 0.36 pixels\n",
      "Added pose for viff.018.png using 66 / 137 points\n",
      "  Triangulated 788 new points with viff.017.png and viff.018.png\n",
      "Attempting to add image: viff.019.png\n",
      "Found 138 2D-3D correspondences for viff.019.png\n",
      "PnP successful with 63 inliers. Mean reprojection error: 0.37 pixels\n",
      "Added pose for viff.019.png using 63 / 138 points\n",
      "  Triangulated 924 new points with viff.018.png and viff.019.png\n",
      "Attempting to add image: viff.020.png\n",
      "Found 169 2D-3D correspondences for viff.020.png\n",
      "PnP successful with 65 inliers. Mean reprojection error: 0.37 pixels\n",
      "Added pose for viff.020.png using 65 / 169 points\n",
      "  Triangulated 875 new points with viff.019.png and viff.020.png\n",
      "Attempting to add image: viff.021.png\n",
      "Found 188 2D-3D correspondences for viff.021.png\n",
      "PnP successful with 67 inliers. Mean reprojection error: 0.36 pixels\n",
      "Added pose for viff.021.png using 67 / 188 points\n",
      "  Triangulated 969 new points with viff.020.png and viff.021.png\n",
      "Attempting to add image: viff.022.png\n",
      "Found 179 2D-3D correspondences for viff.022.png\n",
      "PnP successful with 52 inliers. Mean reprojection error: 0.44 pixels\n",
      "Added pose for viff.022.png using 52 / 179 points\n",
      "  Triangulated 981 new points with viff.021.png and viff.022.png\n",
      "Attempting to add image: viff.023.png\n",
      "Found 195 2D-3D correspondences for viff.023.png\n",
      "PnP successful with 45 inliers. Mean reprojection error: 0.37 pixels\n",
      "Added pose for viff.023.png using 45 / 195 points\n",
      "  Triangulated 1148 new points with viff.022.png and viff.023.png\n",
      "Attempting to add image: viff.024.png\n",
      "Found 226 2D-3D correspondences for viff.024.png\n",
      "PnP successful with 56 inliers. Mean reprojection error: 0.41 pixels\n",
      "Added pose for viff.024.png using 56 / 226 points\n",
      "  Triangulated 988 new points with viff.023.png and viff.024.png\n",
      "Attempting to add image: viff.025.png\n",
      "Found 216 2D-3D correspondences for viff.025.png\n",
      "PnP successful with 50 inliers. Mean reprojection error: 0.38 pixels\n",
      "Added pose for viff.025.png using 50 / 216 points\n",
      "  Triangulated 958 new points with viff.024.png and viff.025.png\n",
      "Attempting to add image: viff.026.png\n",
      "Found 170 2D-3D correspondences for viff.026.png\n",
      "PnP successful with 34 inliers. Mean reprojection error: 0.35 pixels\n",
      "Added pose for viff.026.png using 34 / 170 points\n",
      "  Triangulated 878 new points with viff.025.png and viff.026.png\n",
      "Attempting to add image: viff.027.png\n",
      "Found 178 2D-3D correspondences for viff.027.png\n",
      "PnP successful with 45 inliers. Mean reprojection error: 0.40 pixels\n",
      "Added pose for viff.027.png using 45 / 178 points\n",
      "  Triangulated 767 new points with viff.026.png and viff.027.png\n",
      "Attempting to add image: viff.028.png\n",
      "Found 137 2D-3D correspondences for viff.028.png\n",
      "PnP successful with 50 inliers. Mean reprojection error: 0.35 pixels\n",
      "Added pose for viff.028.png using 50 / 137 points\n",
      "  Triangulated 577 new points with viff.027.png and viff.028.png\n",
      "Attempting to add image: viff.029.png\n",
      "Found 74 2D-3D correspondences for viff.029.png\n",
      "PnP successful with 36 inliers. Mean reprojection error: 0.42 pixels\n",
      "Added pose for viff.029.png using 36 / 74 points\n",
      "  Triangulated 455 new points with viff.028.png and viff.029.png\n",
      "Attempting to add image: viff.030.png\n",
      "Found 57 2D-3D correspondences for viff.030.png\n",
      "PnP successful with 23 inliers. Mean reprojection error: 0.40 pixels\n",
      "Added pose for viff.030.png using 23 / 57 points\n",
      "  Triangulated 540 new points with viff.029.png and viff.030.png\n",
      "Attempting to add image: viff.031.png\n",
      "Found 48 2D-3D correspondences for viff.031.png\n",
      "PnP successful with 15 inliers. Mean reprojection error: 0.33 pixels\n",
      "Added pose for viff.031.png using 15 / 48 points\n",
      "  Triangulated 409 new points with viff.030.png and viff.031.png\n",
      "Attempting to add image: viff.032.png\n",
      "Found 58 2D-3D correspondences for viff.032.png\n",
      "PnP successful with 15 inliers. Mean reprojection error: 0.48 pixels\n",
      "Added pose for viff.032.png using 15 / 58 points\n",
      "  Triangulated 521 new points with viff.031.png and viff.032.png\n",
      "Attempting to add image: viff.033.png\n",
      "Found 95 2D-3D correspondences for viff.033.png\n",
      "PnP successful with 23 inliers. Mean reprojection error: 0.37 pixels\n",
      "Added pose for viff.033.png using 23 / 95 points\n",
      "  Triangulated 598 new points with viff.032.png and viff.033.png\n",
      "Attempting to add image: viff.034.png\n",
      "Found 127 2D-3D correspondences for viff.034.png\n",
      "PnP successful with 43 inliers. Mean reprojection error: 0.32 pixels\n",
      "Added pose for viff.034.png using 43 / 127 points\n",
      "  Triangulated 785 new points with viff.033.png and viff.034.png\n",
      "Attempting to add image: viff.035.png\n",
      "Found 580 2D-3D correspondences for viff.035.png\n",
      "PnP successful with 273 inliers. Mean reprojection error: 0.37 pixels\n",
      "Added pose for viff.035.png using 273 / 580 points\n",
      "  Triangulated 887 new points with viff.034.png and viff.035.png\n",
      "  Triangulated 782 new points with viff.035.png and viff.000.png\n",
      "Estimated poses for 36/36 cameras\n",
      "Total triangulated points: 30223\n",
      "Estimated poses for 36 cameras.\n",
      "Displaying interactive 3D plot...\n"
     ]
    },
    {
     "data": {
      "application/vnd.plotly.v1+json": {
       "config": {
        "plotlyServerURL": "https://plot.ly"
       },
       "data": [
        {
         "marker": {
          "color": "red",
          "size": 8,
          "symbol": "square"
         },
         "mode": "markers+text",
         "name": "Camera Positions",
         "text": [
          "viff.000.png",
          "viff.001.png",
          "viff.002.png",
          "viff.003.png",
          "viff.004.png",
          "viff.005.png",
          "viff.006.png",
          "viff.007.png",
          "viff.008.png",
          "viff.009.png",
          "viff.010.png",
          "viff.011.png",
          "viff.012.png",
          "viff.013.png",
          "viff.014.png",
          "viff.015.png",
          "viff.016.png",
          "viff.017.png",
          "viff.018.png",
          "viff.019.png",
          "viff.020.png",
          "viff.021.png",
          "viff.022.png",
          "viff.023.png",
          "viff.024.png",
          "viff.025.png",
          "viff.026.png",
          "viff.027.png",
          "viff.028.png",
          "viff.029.png",
          "viff.030.png",
          "viff.031.png",
          "viff.032.png",
          "viff.033.png",
          "viff.034.png",
          "viff.035.png"
         ],
         "textposition": "top center",
         "type": "scatter3d",
         "x": {
          "bdata": "AAAAAAAAAADSZIddbfDvP/BmFlB53v8/B1UkgexZCEA8t8v1lJsPQDxl/A8MmA1ASw4JZivNBkCAqSatmKP/P1rmxxQCNe0/mY2+aI/hz7/MESGs2Mnxv967YS+NFPy/O7LZCO1n9L/Q3tx141XWv4QrIFw0H+k/NCCQ0F2tAEAZ+7+Xc80LQEn71UMbXxNAIojWbe//GEAbvYkQM94dQL+QrXTAISFAK/XqukRQI0CoxdMSzlUlQFAvPcBDqSdASczqycJUKUA4wqBqLTsqQK4473uWvCpA2SO02Ee0KkCr1y5E04AqQDlJEpTNvipAFk41kCBYK0An3RJcBSQsQERe6pGbYyhAmhfCm267JUBxMZW824glQBspk9QwvvC/",
          "dtype": "f8"
         },
         "y": {
          "bdata": "AAAAAAAAAABHWi6QAvmiP/QMtGINncI/pL27iPRf4D9bX1bCaxn0P3IVjFE9/f0/cZYYz0l+A0BFoW1Jm/8IQPXNR3Q8kg1AwCdAQmUxEUA/BdXbpFQFQGpr5PPN+Po/5kOLi8yDxT+UjD7M6HjuvwlyXcb4j/2/n49wv8TZBMB4R5RtriAKwDkkPVPOHxDA7oQKliWlEsDwi3R0tzkVwKPj9KmThhfAt/5FZp9KGcDBBE4LiAQawJI8MrXScBrA4lviR8/KGcC4LfXCwhkZwHqO2yTAehfAQbgBbMCDE8Dsf3P+neQPwBXMuDko2AbA8z/ZTOoH+r8wsfkODODcvwJx3uXiUc0/Kg5hFimS8b/Wp64LSPf1v6lwEPBn9cQ/",
          "dtype": "f8"
         },
         "z": {
          "bdata": "AAAAAAAAAADaCQ7OyzapvxOgbBLft86/MGZDLV9n479KyQnNeVTxvzuknLE0r/S/gLhbaQtq+L+WMySxMKD7v9c6kWbRhv6/ZjixsVTE/r+Cu0g2Xjz/v9ZX3wcZf/q/S0rdjdBV+L/0J7WhrtT1v9G79dNm3/K/ZE2traPs7b8rYUoUe+Ljv7A9rpDOLsC/WErOvB+u2j8Fi7eN4PrxPwdj+IWC5/0/aiaUB9a5BEC/LYsDDUsKQEqASh84wg9AZvKct21GEkBFHWo+AD4UQBIsXSDX0RRAe9R8rFpsE0Bp0tgLF4kRQJXzZ9u1UBBAm+4VJ4IlD0CM9O77q7kOQJipH2XfZAZA0mDTaiRaBUA132HuPUUGQNFg4r8u7Lu/",
          "dtype": "f8"
         }
        },
        {
         "line": {
          "color": "blue",
          "width": 2
         },
         "mode": "lines",
         "name": "Camera Trajectory",
         "type": "scatter3d",
         "x": {
          "bdata": "AAAAAAAAAADSZIddbfDvP/BmFlB53v8/B1UkgexZCEA8t8v1lJsPQDxl/A8MmA1ASw4JZivNBkCAqSatmKP/P1rmxxQCNe0/mY2+aI/hz7/MESGs2Mnxv967YS+NFPy/O7LZCO1n9L/Q3tx141XWv4QrIFw0H+k/NCCQ0F2tAEAZ+7+Xc80LQEn71UMbXxNAIojWbe//GEAbvYkQM94dQL+QrXTAISFAK/XqukRQI0CoxdMSzlUlQFAvPcBDqSdASczqycJUKUA4wqBqLTsqQK4473uWvCpA2SO02Ee0KkCr1y5E04AqQDlJEpTNvipAFk41kCBYK0An3RJcBSQsQERe6pGbYyhAmhfCm267JUBxMZW824glQBspk9QwvvC/",
          "dtype": "f8"
         },
         "y": {
          "bdata": "AAAAAAAAAABHWi6QAvmiP/QMtGINncI/pL27iPRf4D9bX1bCaxn0P3IVjFE9/f0/cZYYz0l+A0BFoW1Jm/8IQPXNR3Q8kg1AwCdAQmUxEUA/BdXbpFQFQGpr5PPN+Po/5kOLi8yDxT+UjD7M6HjuvwlyXcb4j/2/n49wv8TZBMB4R5RtriAKwDkkPVPOHxDA7oQKliWlEsDwi3R0tzkVwKPj9KmThhfAt/5FZp9KGcDBBE4LiAQawJI8MrXScBrA4lviR8/KGcC4LfXCwhkZwHqO2yTAehfAQbgBbMCDE8Dsf3P+neQPwBXMuDko2AbA8z/ZTOoH+r8wsfkODODcvwJx3uXiUc0/Kg5hFimS8b/Wp64LSPf1v6lwEPBn9cQ/",
          "dtype": "f8"
         },
         "z": {
          "bdata": "AAAAAAAAAADaCQ7OyzapvxOgbBLft86/MGZDLV9n479KyQnNeVTxvzuknLE0r/S/gLhbaQtq+L+WMySxMKD7v9c6kWbRhv6/ZjixsVTE/r+Cu0g2Xjz/v9ZX3wcZf/q/S0rdjdBV+L/0J7WhrtT1v9G79dNm3/K/ZE2traPs7b8rYUoUe+Ljv7A9rpDOLsC/WErOvB+u2j8Fi7eN4PrxPwdj+IWC5/0/aiaUB9a5BEC/LYsDDUsKQEqASh84wg9AZvKct21GEkBFHWo+AD4UQBIsXSDX0RRAe9R8rFpsE0Bp0tgLF4kRQJXzZ9u1UBBAm+4VJ4IlD0CM9O77q7kOQJipH2XfZAZA0mDTaiRaBUA132HuPUUGQNFg4r8u7Lu/",
          "dtype": "f8"
         }
        }
       ],
       "layout": {
        "margin": {
         "b": 0,
         "l": 0,
         "r": 0,
         "t": 30
        },
        "scene": {
         "aspectmode": "cube",
         "xaxis": {
          "range": [
           -1.7550174570894725,
           14.07035339098236
          ]
         },
         "yaxis": {
          "range": [
           -9.068655900198575,
           6.756714947873258
          ]
         },
         "zaxis": {
          "range": [
           -6.286343464254523,
           9.53902738381731
          ]
         }
        },
        "template": {
         "data": {
          "bar": [
           {
            "error_x": {
             "color": "#2a3f5f"
            },
            "error_y": {
             "color": "#2a3f5f"
            },
            "marker": {
             "line": {
              "color": "#E5ECF6",
              "width": 0.5
             },
             "pattern": {
              "fillmode": "overlay",
              "size": 10,
              "solidity": 0.2
             }
            },
            "type": "bar"
           }
          ],
          "barpolar": [
           {
            "marker": {
             "line": {
              "color": "#E5ECF6",
              "width": 0.5
             },
             "pattern": {
              "fillmode": "overlay",
              "size": 10,
              "solidity": 0.2
             }
            },
            "type": "barpolar"
           }
          ],
          "carpet": [
           {
            "aaxis": {
             "endlinecolor": "#2a3f5f",
             "gridcolor": "white",
             "linecolor": "white",
             "minorgridcolor": "white",
             "startlinecolor": "#2a3f5f"
            },
            "baxis": {
             "endlinecolor": "#2a3f5f",
             "gridcolor": "white",
             "linecolor": "white",
             "minorgridcolor": "white",
             "startlinecolor": "#2a3f5f"
            },
            "type": "carpet"
           }
          ],
          "choropleth": [
           {
            "colorbar": {
             "outlinewidth": 0,
             "ticks": ""
            },
            "type": "choropleth"
           }
          ],
          "contour": [
           {
            "colorbar": {
             "outlinewidth": 0,
             "ticks": ""
            },
            "colorscale": [
             [
              0,
              "#0d0887"
             ],
             [
              0.1111111111111111,
              "#46039f"
             ],
             [
              0.2222222222222222,
              "#7201a8"
             ],
             [
              0.3333333333333333,
              "#9c179e"
             ],
             [
              0.4444444444444444,
              "#bd3786"
             ],
             [
              0.5555555555555556,
              "#d8576b"
             ],
             [
              0.6666666666666666,
              "#ed7953"
             ],
             [
              0.7777777777777778,
              "#fb9f3a"
             ],
             [
              0.8888888888888888,
              "#fdca26"
             ],
             [
              1,
              "#f0f921"
             ]
            ],
            "type": "contour"
           }
          ],
          "contourcarpet": [
           {
            "colorbar": {
             "outlinewidth": 0,
             "ticks": ""
            },
            "type": "contourcarpet"
           }
          ],
          "heatmap": [
           {
            "colorbar": {
             "outlinewidth": 0,
             "ticks": ""
            },
            "colorscale": [
             [
              0,
              "#0d0887"
             ],
             [
              0.1111111111111111,
              "#46039f"
             ],
             [
              0.2222222222222222,
              "#7201a8"
             ],
             [
              0.3333333333333333,
              "#9c179e"
             ],
             [
              0.4444444444444444,
              "#bd3786"
             ],
             [
              0.5555555555555556,
              "#d8576b"
             ],
             [
              0.6666666666666666,
              "#ed7953"
             ],
             [
              0.7777777777777778,
              "#fb9f3a"
             ],
             [
              0.8888888888888888,
              "#fdca26"
             ],
             [
              1,
              "#f0f921"
             ]
            ],
            "type": "heatmap"
           }
          ],
          "histogram": [
           {
            "marker": {
             "pattern": {
              "fillmode": "overlay",
              "size": 10,
              "solidity": 0.2
             }
            },
            "type": "histogram"
           }
          ],
          "histogram2d": [
           {
            "colorbar": {
             "outlinewidth": 0,
             "ticks": ""
            },
            "colorscale": [
             [
              0,
              "#0d0887"
             ],
             [
              0.1111111111111111,
              "#46039f"
             ],
             [
              0.2222222222222222,
              "#7201a8"
             ],
             [
              0.3333333333333333,
              "#9c179e"
             ],
             [
              0.4444444444444444,
              "#bd3786"
             ],
             [
              0.5555555555555556,
              "#d8576b"
             ],
             [
              0.6666666666666666,
              "#ed7953"
             ],
             [
              0.7777777777777778,
              "#fb9f3a"
             ],
             [
              0.8888888888888888,
              "#fdca26"
             ],
             [
              1,
              "#f0f921"
             ]
            ],
            "type": "histogram2d"
           }
          ],
          "histogram2dcontour": [
           {
            "colorbar": {
             "outlinewidth": 0,
             "ticks": ""
            },
            "colorscale": [
             [
              0,
              "#0d0887"
             ],
             [
              0.1111111111111111,
              "#46039f"
             ],
             [
              0.2222222222222222,
              "#7201a8"
             ],
             [
              0.3333333333333333,
              "#9c179e"
             ],
             [
              0.4444444444444444,
              "#bd3786"
             ],
             [
              0.5555555555555556,
              "#d8576b"
             ],
             [
              0.6666666666666666,
              "#ed7953"
             ],
             [
              0.7777777777777778,
              "#fb9f3a"
             ],
             [
              0.8888888888888888,
              "#fdca26"
             ],
             [
              1,
              "#f0f921"
             ]
            ],
            "type": "histogram2dcontour"
           }
          ],
          "mesh3d": [
           {
            "colorbar": {
             "outlinewidth": 0,
             "ticks": ""
            },
            "type": "mesh3d"
           }
          ],
          "parcoords": [
           {
            "line": {
             "colorbar": {
              "outlinewidth": 0,
              "ticks": ""
             }
            },
            "type": "parcoords"
           }
          ],
          "pie": [
           {
            "automargin": true,
            "type": "pie"
           }
          ],
          "scatter": [
           {
            "fillpattern": {
             "fillmode": "overlay",
             "size": 10,
             "solidity": 0.2
            },
            "type": "scatter"
           }
          ],
          "scatter3d": [
           {
            "line": {
             "colorbar": {
              "outlinewidth": 0,
              "ticks": ""
             }
            },
            "marker": {
             "colorbar": {
              "outlinewidth": 0,
              "ticks": ""
             }
            },
            "type": "scatter3d"
           }
          ],
          "scattercarpet": [
           {
            "marker": {
             "colorbar": {
              "outlinewidth": 0,
              "ticks": ""
             }
            },
            "type": "scattercarpet"
           }
          ],
          "scattergeo": [
           {
            "marker": {
             "colorbar": {
              "outlinewidth": 0,
              "ticks": ""
             }
            },
            "type": "scattergeo"
           }
          ],
          "scattergl": [
           {
            "marker": {
             "colorbar": {
              "outlinewidth": 0,
              "ticks": ""
             }
            },
            "type": "scattergl"
           }
          ],
          "scattermap": [
           {
            "marker": {
             "colorbar": {
              "outlinewidth": 0,
              "ticks": ""
             }
            },
            "type": "scattermap"
           }
          ],
          "scattermapbox": [
           {
            "marker": {
             "colorbar": {
              "outlinewidth": 0,
              "ticks": ""
             }
            },
            "type": "scattermapbox"
           }
          ],
          "scatterpolar": [
           {
            "marker": {
             "colorbar": {
              "outlinewidth": 0,
              "ticks": ""
             }
            },
            "type": "scatterpolar"
           }
          ],
          "scatterpolargl": [
           {
            "marker": {
             "colorbar": {
              "outlinewidth": 0,
              "ticks": ""
             }
            },
            "type": "scatterpolargl"
           }
          ],
          "scatterternary": [
           {
            "marker": {
             "colorbar": {
              "outlinewidth": 0,
              "ticks": ""
             }
            },
            "type": "scatterternary"
           }
          ],
          "surface": [
           {
            "colorbar": {
             "outlinewidth": 0,
             "ticks": ""
            },
            "colorscale": [
             [
              0,
              "#0d0887"
             ],
             [
              0.1111111111111111,
              "#46039f"
             ],
             [
              0.2222222222222222,
              "#7201a8"
             ],
             [
              0.3333333333333333,
              "#9c179e"
             ],
             [
              0.4444444444444444,
              "#bd3786"
             ],
             [
              0.5555555555555556,
              "#d8576b"
             ],
             [
              0.6666666666666666,
              "#ed7953"
             ],
             [
              0.7777777777777778,
              "#fb9f3a"
             ],
             [
              0.8888888888888888,
              "#fdca26"
             ],
             [
              1,
              "#f0f921"
             ]
            ],
            "type": "surface"
           }
          ],
          "table": [
           {
            "cells": {
             "fill": {
              "color": "#EBF0F8"
             },
             "line": {
              "color": "white"
             }
            },
            "header": {
             "fill": {
              "color": "#C8D4E3"
             },
             "line": {
              "color": "white"
             }
            },
            "type": "table"
           }
          ]
         },
         "layout": {
          "annotationdefaults": {
           "arrowcolor": "#2a3f5f",
           "arrowhead": 0,
           "arrowwidth": 1
          },
          "autotypenumbers": "strict",
          "coloraxis": {
           "colorbar": {
            "outlinewidth": 0,
            "ticks": ""
           }
          },
          "colorscale": {
           "diverging": [
            [
             0,
             "#8e0152"
            ],
            [
             0.1,
             "#c51b7d"
            ],
            [
             0.2,
             "#de77ae"
            ],
            [
             0.3,
             "#f1b6da"
            ],
            [
             0.4,
             "#fde0ef"
            ],
            [
             0.5,
             "#f7f7f7"
            ],
            [
             0.6,
             "#e6f5d0"
            ],
            [
             0.7,
             "#b8e186"
            ],
            [
             0.8,
             "#7fbc41"
            ],
            [
             0.9,
             "#4d9221"
            ],
            [
             1,
             "#276419"
            ]
           ],
           "sequential": [
            [
             0,
             "#0d0887"
            ],
            [
             0.1111111111111111,
             "#46039f"
            ],
            [
             0.2222222222222222,
             "#7201a8"
            ],
            [
             0.3333333333333333,
             "#9c179e"
            ],
            [
             0.4444444444444444,
             "#bd3786"
            ],
            [
             0.5555555555555556,
             "#d8576b"
            ],
            [
             0.6666666666666666,
             "#ed7953"
            ],
            [
             0.7777777777777778,
             "#fb9f3a"
            ],
            [
             0.8888888888888888,
             "#fdca26"
            ],
            [
             1,
             "#f0f921"
            ]
           ],
           "sequentialminus": [
            [
             0,
             "#0d0887"
            ],
            [
             0.1111111111111111,
             "#46039f"
            ],
            [
             0.2222222222222222,
             "#7201a8"
            ],
            [
             0.3333333333333333,
             "#9c179e"
            ],
            [
             0.4444444444444444,
             "#bd3786"
            ],
            [
             0.5555555555555556,
             "#d8576b"
            ],
            [
             0.6666666666666666,
             "#ed7953"
            ],
            [
             0.7777777777777778,
             "#fb9f3a"
            ],
            [
             0.8888888888888888,
             "#fdca26"
            ],
            [
             1,
             "#f0f921"
            ]
           ]
          },
          "colorway": [
           "#636efa",
           "#EF553B",
           "#00cc96",
           "#ab63fa",
           "#FFA15A",
           "#19d3f3",
           "#FF6692",
           "#B6E880",
           "#FF97FF",
           "#FECB52"
          ],
          "font": {
           "color": "#2a3f5f"
          },
          "geo": {
           "bgcolor": "white",
           "lakecolor": "white",
           "landcolor": "#E5ECF6",
           "showlakes": true,
           "showland": true,
           "subunitcolor": "white"
          },
          "hoverlabel": {
           "align": "left"
          },
          "hovermode": "closest",
          "mapbox": {
           "style": "light"
          },
          "paper_bgcolor": "white",
          "plot_bgcolor": "#E5ECF6",
          "polar": {
           "angularaxis": {
            "gridcolor": "white",
            "linecolor": "white",
            "ticks": ""
           },
           "bgcolor": "#E5ECF6",
           "radialaxis": {
            "gridcolor": "white",
            "linecolor": "white",
            "ticks": ""
           }
          },
          "scene": {
           "xaxis": {
            "backgroundcolor": "#E5ECF6",
            "gridcolor": "white",
            "gridwidth": 2,
            "linecolor": "white",
            "showbackground": true,
            "ticks": "",
            "zerolinecolor": "white"
           },
           "yaxis": {
            "backgroundcolor": "#E5ECF6",
            "gridcolor": "white",
            "gridwidth": 2,
            "linecolor": "white",
            "showbackground": true,
            "ticks": "",
            "zerolinecolor": "white"
           },
           "zaxis": {
            "backgroundcolor": "#E5ECF6",
            "gridcolor": "white",
            "gridwidth": 2,
            "linecolor": "white",
            "showbackground": true,
            "ticks": "",
            "zerolinecolor": "white"
           }
          },
          "shapedefaults": {
           "line": {
            "color": "#2a3f5f"
           }
          },
          "ternary": {
           "aaxis": {
            "gridcolor": "white",
            "linecolor": "white",
            "ticks": ""
           },
           "baxis": {
            "gridcolor": "white",
            "linecolor": "white",
            "ticks": ""
           },
           "bgcolor": "#E5ECF6",
           "caxis": {
            "gridcolor": "white",
            "linecolor": "white",
            "ticks": ""
           }
          },
          "title": {
           "x": 0.05
          },
          "xaxis": {
           "automargin": true,
           "gridcolor": "white",
           "linecolor": "white",
           "ticks": "",
           "title": {
            "standoff": 15
           },
           "zerolinecolor": "white",
           "zerolinewidth": 2
          },
          "yaxis": {
           "automargin": true,
           "gridcolor": "white",
           "linecolor": "white",
           "ticks": "",
           "title": {
            "standoff": 15
           },
           "zerolinecolor": "white",
           "zerolinewidth": 2
          }
         }
        },
        "title": {
         "text": "Interactive Camera Poses"
        }
       }
      }
     },
     "metadata": {},
     "output_type": "display_data"
    },
    {
     "name": "stdout",
     "output_type": "stream",
     "text": [
      "\n",
      "Summary of results:\n",
      "------------------------------------------------------------\n",
      "Ratio      Min Matches     Num Cameras    \n",
      "------------------------------------------------------------\n",
      "0.75       10              36             \n",
      "0.75       12              36             \n",
      "0.75       14              36             \n",
      "0.75       16              36             \n",
      "0.75       18              36             \n",
      "0.75       20              36             \n"
     ]
    }
   ],
   "source": [
    "import matplotlib.pyplot as plt\n",
    "import numpy as np\n",
    "from mpl_toolkits.mplot3d import Axes3D\n",
    "\n",
    "# Define parameter combinations\n",
    "ratio_thresholds = [0.75]\n",
    "min_matches_values = [10, 12, 14, 16, 18, 20]\n",
    "\n",
    "# Dictionary to store camera poses for each parameter combination\n",
    "all_camera_poses = {}\n",
    "\n",
    "# Estimate camera intrinsics (same for all runs)\n",
    "sample_img, _ = black_images[0]\n",
    "image_shape = sample_img.shape\n",
    "focal_length_factor = config['calibration']['focal_length_factor']\n",
    "focal_length = focal_length_factor * max(image_shape[0], image_shape[1])\n",
    "K = estimate_camera_matrix(image_shape, focal_length)\n",
    "print(\"Estimated camera matrix:\")\n",
    "print(K)\n",
    "\n",
    "# Run for each parameter combination and show interactive plot immediately\n",
    "for ratio_threshold in ratio_thresholds:\n",
    "    for min_matches in min_matches_values:\n",
    "        print(f\"\\n{'='*60}\")\n",
    "        print(f\"Processing ratio_threshold={ratio_threshold}, min_matches={min_matches}\")\n",
    "        print(f\"{'='*60}\")\n",
    "        \n",
    "        # Run matching\n",
    "        matches_dict = match_image_pairs(\n",
    "            features_dict, \n",
    "            image_pairs, \n",
    "            ratio_threshold=ratio_threshold,\n",
    "            geometric_verify=config['matching']['geometric_verification'],\n",
    "            min_matches=min_matches\n",
    "        )\n",
    "        \n",
    "        # Filter matches\n",
    "        matches_dict = filter_matches_on_black_background(matches_dict, black_images)\n",
    "        \n",
    "        # Estimate camera poses\n",
    "        camera_poses = estimate_poses_incremental(matches_dict, K, min_matches)\n",
    "        \n",
    "        print(f\"Estimated poses for {len(camera_poses)} cameras.\")\n",
    "        \n",
    "        # Store camera poses for this parameter combination\n",
    "        all_camera_poses[(ratio_threshold, min_matches)] = camera_poses\n",
    "        \n",
    "        # Show the interactive plot immediately for this parameter combination\n",
    "        if len(camera_poses) > 0:\n",
    "            print(\"Displaying interactive 3D plot...\")\n",
    "            plot_interactive_camera_poses(camera_poses)\n",
    "        else:\n",
    "            print(\"No camera poses were estimated with these parameters. Skipping plot.\")\n",
    "\n",
    "# Print summary table at the end\n",
    "print(\"\\nSummary of results:\")\n",
    "print(\"-\" * 60)\n",
    "print(f\"{'Ratio':<10} {'Min Matches':<15} {'Num Cameras':<15}\")\n",
    "print(\"-\" * 60)\n",
    "for (ratio, min_m), poses in all_camera_poses.items():\n",
    "    print(f\"{ratio:<10} {min_m:<15} {len(poses):<15}\")"
   ]
  },
  {
   "cell_type": "code",
   "execution_count": 9,
   "metadata": {},
   "outputs": [
    {
     "name": "stdout",
     "output_type": "stream",
     "text": [
      "\n",
      "Triangulating 3D points...\n",
      "Triangulating from 36 camera poses and 36 feature matches\n",
      "Found 36 valid image pairs for triangulation\n",
      "Triangulated 3523 3D points\n",
      "Triangulated 3523 3D points.\n",
      "Merged 3523 points into 2643 points\n",
      "After merging: 2643 3D points.\n",
      "\n",
      "Running bundle adjustment...\n",
      "Triangulating from 36 camera poses and 36 feature matches\n",
      "Found 36 valid image pairs for triangulation\n",
      "Triangulated 3523 3D points\n",
      "Merged 3523 points into 2644 points\n",
      "Prepared 2644 points with at least 2 observations for bundle adjustment\n",
      "   Iteration     Total nfev        Cost      Cost reduction    Step norm     Optimality   \n",
      "       0              1         3.0360e+03                                    7.47e+05    \n",
      "       1              3         1.2886e+03      1.75e+03       4.09e+01       8.03e+04    \n",
      "       2              4         8.3057e+02      4.58e+02       8.27e+01       3.91e+04    \n",
      "       3              5         4.4735e+02      3.83e+02       5.10e+01       1.22e+04    \n",
      "       4              7         4.0140e+02      4.60e+01       2.47e+01       2.93e+03    \n",
      "       5              8         3.8435e+02      1.71e+01       4.86e+01       2.03e+04    \n",
      "       6              9         3.4426e+02      4.01e+01       4.44e+01       1.87e+04    \n",
      "       7             10         3.0373e+02      4.05e+01       4.51e+01       1.91e+04    \n",
      "       8             11         2.7177e+02      3.20e+01       4.54e+01       1.80e+04    \n",
      "       9             12         2.4131e+02      3.05e+01       4.52e+01       1.76e+04    \n",
      "      10             13         2.1026e+02      3.10e+01       4.39e+01       1.83e+04    \n",
      "      11             15         1.8646e+02      2.38e+01       2.07e+01       5.84e+03    \n",
      "      12             16         1.6243e+02      2.40e+01       4.00e+01       2.67e+04    \n",
      "      13             17         1.1770e+02      4.47e+01       3.43e+01       3.24e+04    \n",
      "      14             18         9.6878e+01      2.08e+01       2.34e+01       1.33e+04    \n",
      "      15             20         9.0899e+01      5.98e+00       9.52e+00       8.46e+03    \n",
      "      16             22         9.0025e+01      8.74e-01       4.67e+00       3.21e+03    \n",
      "      17             23         8.9376e+01      6.49e-01       9.27e+00       1.66e+03    \n",
      "      18             24         8.8900e+01      4.76e-01       9.07e+00       1.65e+03    \n",
      "      19             25         8.8584e+01      3.16e-01       8.89e+00       1.42e+03    \n",
      "      20             26         8.8288e+01      2.96e-01       8.74e+00       1.53e+03    \n",
      "      21             27         8.8030e+01      2.58e-01       8.61e+00       1.39e+03    \n",
      "      22             28         8.7786e+01      2.43e-01       8.50e+00       1.35e+03    \n",
      "      23             29         8.7572e+01      2.14e-01       8.41e+00       1.25e+03    \n",
      "      24             30         8.7373e+01      1.99e-01       8.33e+00       1.14e+03    \n",
      "      25             31         8.7198e+01      1.76e-01       8.27e+00       1.07e+03    \n",
      "      26             32         8.7035e+01      1.63e-01       8.23e+00       9.64e+02    \n",
      "      27             34         8.6943e+01      9.13e-02       4.08e+00       8.18e+02    \n",
      "      28             35         8.6842e+01      1.01e-01       8.16e+00       1.22e+03    \n",
      "      29             36         8.6681e+01      1.61e-01       8.27e+00       1.33e+03    \n",
      "      30             38         8.6618e+01      6.39e-02       4.02e+00       2.05e+02    \n",
      "      31             39         8.6531e+01      8.67e-02       8.18e+00       1.45e+03    \n",
      "      32             40         8.6484e+01      4.65e-02       3.81e+00       8.81e+02    \n",
      "      33             41         8.6461e+01      2.38e-02       1.77e+00       2.35e+02    \n",
      "      34             42         8.6444e+01      1.65e-02       1.59e+00       3.88e+02    \n",
      "      35             43         8.6431e+01      1.31e-02       1.23e+00       1.39e+02    \n",
      "      36             44         8.6419e+01      1.22e-02       1.33e+00       1.79e+02    \n",
      "      37             45         8.6408e+01      1.09e-02       1.20e+00       9.57e+01    \n",
      "      38             46         8.6398e+01      1.02e-02       1.33e+00       8.72e+01    \n",
      "      39             47         8.6388e+01      9.97e-03       1.15e+00       4.77e+01    \n",
      "      40             48         8.6379e+01      9.06e-03       1.21e+00       9.85e+01    \n",
      "      41             49         8.6367e+01      1.13e-02       1.04e+00       6.42e+01    \n",
      "      42             50         8.6358e+01      9.44e-03       1.08e+00       9.36e+01    \n",
      "The maximum number of function evaluations is exceeded.\n",
      "Function evaluations 50, initial cost 3.0360e+03, final cost 8.6358e+01, first-order optimality 9.36e+01.\n",
      "Bundle adjustment complete. Final reprojection error: 0.1278 pixels\n",
      "Bundle adjustment complete.\n"
     ]
    },
    {
     "data": {
      "application/vnd.plotly.v1+json": {
       "config": {
        "plotlyServerURL": "https://plot.ly"
       },
       "data": [
        {
         "marker": {
          "color": "red",
          "size": 8,
          "symbol": "square"
         },
         "mode": "markers+text",
         "name": "Camera Positions",
         "text": [
          "viff.000.png",
          "viff.001.png",
          "viff.002.png",
          "viff.003.png",
          "viff.004.png",
          "viff.005.png",
          "viff.006.png",
          "viff.007.png",
          "viff.008.png",
          "viff.009.png",
          "viff.010.png",
          "viff.011.png",
          "viff.012.png",
          "viff.013.png",
          "viff.014.png",
          "viff.015.png",
          "viff.016.png",
          "viff.017.png",
          "viff.018.png",
          "viff.019.png",
          "viff.020.png",
          "viff.021.png",
          "viff.022.png",
          "viff.023.png",
          "viff.024.png",
          "viff.025.png",
          "viff.026.png",
          "viff.027.png",
          "viff.028.png",
          "viff.029.png",
          "viff.030.png",
          "viff.031.png",
          "viff.032.png",
          "viff.033.png",
          "viff.034.png",
          "viff.035.png"
         ],
         "textposition": "top center",
         "type": "scatter3d",
         "x": {
          "bdata": "AAAAAAAAAADjZGQLLs/vP1+8ipMZ1wFAG7ZXdBZQCkBQc/uN7IkUQMCcgXMmnhtAlNo7+vNqIEDllIdDN14kQF5jnZdCsiVAWgCIMztpJ0Ac41Ok51QpQOYDzhxAwCtAcuD5uN/iLkBn8k9DnI0xQPplOUrt4DFAPwc7Y8DNM0BBv2wvGEszQBwuKA3mLDVAo0GS7XV7NUAXvP+6vcA1QKkTvOOnSD5ALcsYwZWFPkC3PtTmZUo/QL0nb2ywxz9AoGqOtJJDQEACQKxTtKZAQFQaNzjO9EBAAVsZpA5aQUCaps7MUM9BQAdp2twjWUJALvu58FHbQkBfjUtM12tCQCyPp3lje0JAIwj2j2r2QkCGcDecEP9AQERryhV/UNq/",
          "dtype": "f8"
         },
         "y": {
          "bdata": "AAAAAAAAAAB1p4nscGS1v1LzihTeNKG/fRczSMTe0T8YvuSWnFTdv9LInCXIX/W/w6sRleeuAMAi4GY5gegLwPwjLTkQPhDAOlly6iVPFMABioQV+YsVwJqixlD0wRbALRs4dF7JFsAYTS9fpygXwIdDRbsrSABAS1Nfl1dY4T+Kg4Uy2HjyP4CwxyorVADAOaUVtcc6BcB50VyFBG8IwDASFbqesyTAr/GaKmlkKMD+lapRD6orwL7nm+/XVy7A1XMCa+pMMMAAawkbqjkxwBa38X9DyDHAFxvI1cwaMsAe1EvTY+wxwNg75fUqwzHA0pL9+uYiMcCWrF26P5kvwPYc50p/ESzAq4OqqiqEKMDvobWmrOgjwAxAdwnW+pC/",
          "dtype": "f8"
         },
         "z": {
          "bdata": "AAAAAAAAAAABEA1uxuuxv10k6aNhFua/w2EGK1tVAMBTO+l0/b/+v11tT4dVRfu/dRbj/X6E979ReuvEesDvvwQDGCDfmum/Fk2Kh+n47L+aLckUJ3P0vwXBlSQ9kQDAQNdytdjhCsA9N1DwHH0UwLUf2fDOwPE/L5ImI+F7+z9DWJYVneT1P3iGG7g4sQRAHQxD33n2BUB7pNfUi70IQND1HkMApibAz0bx1U3xJcDvL/tnSLwmwOwIT3xDFSfAXHhwcq8LKMC3EBSiUSopwIPVSjDstCnAGf+pxSicKsD1KHiJZ5srwPVVPidCLS3Ap9Ap6vFoLsCYCWR5KAcpwINPjM1yPyrA2ef8IOOJMMBzBNt6b3MewPkKaMwj2R/A",
          "dtype": "f8"
         }
        },
        {
         "line": {
          "color": "blue",
          "width": 2
         },
         "mode": "lines",
         "name": "Camera Trajectory",
         "type": "scatter3d",
         "x": {
          "bdata": "AAAAAAAAAADjZGQLLs/vP1+8ipMZ1wFAG7ZXdBZQCkBQc/uN7IkUQMCcgXMmnhtAlNo7+vNqIEDllIdDN14kQF5jnZdCsiVAWgCIMztpJ0Ac41Ok51QpQOYDzhxAwCtAcuD5uN/iLkBn8k9DnI0xQPplOUrt4DFAPwc7Y8DNM0BBv2wvGEszQBwuKA3mLDVAo0GS7XV7NUAXvP+6vcA1QKkTvOOnSD5ALcsYwZWFPkC3PtTmZUo/QL0nb2ywxz9AoGqOtJJDQEACQKxTtKZAQFQaNzjO9EBAAVsZpA5aQUCaps7MUM9BQAdp2twjWUJALvu58FHbQkBfjUtM12tCQCyPp3lje0JAIwj2j2r2QkCGcDecEP9AQERryhV/UNq/",
          "dtype": "f8"
         },
         "y": {
          "bdata": "AAAAAAAAAAB1p4nscGS1v1LzihTeNKG/fRczSMTe0T8YvuSWnFTdv9LInCXIX/W/w6sRleeuAMAi4GY5gegLwPwjLTkQPhDAOlly6iVPFMABioQV+YsVwJqixlD0wRbALRs4dF7JFsAYTS9fpygXwIdDRbsrSABAS1Nfl1dY4T+Kg4Uy2HjyP4CwxyorVADAOaUVtcc6BcB50VyFBG8IwDASFbqesyTAr/GaKmlkKMD+lapRD6orwL7nm+/XVy7A1XMCa+pMMMAAawkbqjkxwBa38X9DyDHAFxvI1cwaMsAe1EvTY+wxwNg75fUqwzHA0pL9+uYiMcCWrF26P5kvwPYc50p/ESzAq4OqqiqEKMDvobWmrOgjwAxAdwnW+pC/",
          "dtype": "f8"
         },
         "z": {
          "bdata": "AAAAAAAAAAABEA1uxuuxv10k6aNhFua/w2EGK1tVAMBTO+l0/b/+v11tT4dVRfu/dRbj/X6E979ReuvEesDvvwQDGCDfmum/Fk2Kh+n47L+aLckUJ3P0vwXBlSQ9kQDAQNdytdjhCsA9N1DwHH0UwLUf2fDOwPE/L5ImI+F7+z9DWJYVneT1P3iGG7g4sQRAHQxD33n2BUB7pNfUi70IQND1HkMApibAz0bx1U3xJcDvL/tnSLwmwOwIT3xDFSfAXHhwcq8LKMC3EBSiUSopwIPVSjDstCnAGf+pxSicKsD1KHiJZ5srwPVVPidCLS3Ap9Ap6vFoLsCYCWR5KAcpwINPjM1yPyrA2ef8IOOJMMBzBNt6b3MewPkKaMwj2R/A",
          "dtype": "f8"
         }
        }
       ],
       "layout": {
        "margin": {
         "b": 0,
         "l": 0,
         "r": 0,
         "t": 30
        },
        "scene": {
         "aspectmode": "cube",
         "xaxis": {
          "range": [
           -0.41116311195371935,
           37.92512702477713
          ]
         },
         "yaxis": {
          "range": [
           -27.20286925540704,
           11.133420881323811
          ]
         },
         "zaxis": {
          "range": [
           -25.891180117285895,
           12.445110019444957
          ]
         }
        },
        "template": {
         "data": {
          "bar": [
           {
            "error_x": {
             "color": "#2a3f5f"
            },
            "error_y": {
             "color": "#2a3f5f"
            },
            "marker": {
             "line": {
              "color": "#E5ECF6",
              "width": 0.5
             },
             "pattern": {
              "fillmode": "overlay",
              "size": 10,
              "solidity": 0.2
             }
            },
            "type": "bar"
           }
          ],
          "barpolar": [
           {
            "marker": {
             "line": {
              "color": "#E5ECF6",
              "width": 0.5
             },
             "pattern": {
              "fillmode": "overlay",
              "size": 10,
              "solidity": 0.2
             }
            },
            "type": "barpolar"
           }
          ],
          "carpet": [
           {
            "aaxis": {
             "endlinecolor": "#2a3f5f",
             "gridcolor": "white",
             "linecolor": "white",
             "minorgridcolor": "white",
             "startlinecolor": "#2a3f5f"
            },
            "baxis": {
             "endlinecolor": "#2a3f5f",
             "gridcolor": "white",
             "linecolor": "white",
             "minorgridcolor": "white",
             "startlinecolor": "#2a3f5f"
            },
            "type": "carpet"
           }
          ],
          "choropleth": [
           {
            "colorbar": {
             "outlinewidth": 0,
             "ticks": ""
            },
            "type": "choropleth"
           }
          ],
          "contour": [
           {
            "colorbar": {
             "outlinewidth": 0,
             "ticks": ""
            },
            "colorscale": [
             [
              0,
              "#0d0887"
             ],
             [
              0.1111111111111111,
              "#46039f"
             ],
             [
              0.2222222222222222,
              "#7201a8"
             ],
             [
              0.3333333333333333,
              "#9c179e"
             ],
             [
              0.4444444444444444,
              "#bd3786"
             ],
             [
              0.5555555555555556,
              "#d8576b"
             ],
             [
              0.6666666666666666,
              "#ed7953"
             ],
             [
              0.7777777777777778,
              "#fb9f3a"
             ],
             [
              0.8888888888888888,
              "#fdca26"
             ],
             [
              1,
              "#f0f921"
             ]
            ],
            "type": "contour"
           }
          ],
          "contourcarpet": [
           {
            "colorbar": {
             "outlinewidth": 0,
             "ticks": ""
            },
            "type": "contourcarpet"
           }
          ],
          "heatmap": [
           {
            "colorbar": {
             "outlinewidth": 0,
             "ticks": ""
            },
            "colorscale": [
             [
              0,
              "#0d0887"
             ],
             [
              0.1111111111111111,
              "#46039f"
             ],
             [
              0.2222222222222222,
              "#7201a8"
             ],
             [
              0.3333333333333333,
              "#9c179e"
             ],
             [
              0.4444444444444444,
              "#bd3786"
             ],
             [
              0.5555555555555556,
              "#d8576b"
             ],
             [
              0.6666666666666666,
              "#ed7953"
             ],
             [
              0.7777777777777778,
              "#fb9f3a"
             ],
             [
              0.8888888888888888,
              "#fdca26"
             ],
             [
              1,
              "#f0f921"
             ]
            ],
            "type": "heatmap"
           }
          ],
          "histogram": [
           {
            "marker": {
             "pattern": {
              "fillmode": "overlay",
              "size": 10,
              "solidity": 0.2
             }
            },
            "type": "histogram"
           }
          ],
          "histogram2d": [
           {
            "colorbar": {
             "outlinewidth": 0,
             "ticks": ""
            },
            "colorscale": [
             [
              0,
              "#0d0887"
             ],
             [
              0.1111111111111111,
              "#46039f"
             ],
             [
              0.2222222222222222,
              "#7201a8"
             ],
             [
              0.3333333333333333,
              "#9c179e"
             ],
             [
              0.4444444444444444,
              "#bd3786"
             ],
             [
              0.5555555555555556,
              "#d8576b"
             ],
             [
              0.6666666666666666,
              "#ed7953"
             ],
             [
              0.7777777777777778,
              "#fb9f3a"
             ],
             [
              0.8888888888888888,
              "#fdca26"
             ],
             [
              1,
              "#f0f921"
             ]
            ],
            "type": "histogram2d"
           }
          ],
          "histogram2dcontour": [
           {
            "colorbar": {
             "outlinewidth": 0,
             "ticks": ""
            },
            "colorscale": [
             [
              0,
              "#0d0887"
             ],
             [
              0.1111111111111111,
              "#46039f"
             ],
             [
              0.2222222222222222,
              "#7201a8"
             ],
             [
              0.3333333333333333,
              "#9c179e"
             ],
             [
              0.4444444444444444,
              "#bd3786"
             ],
             [
              0.5555555555555556,
              "#d8576b"
             ],
             [
              0.6666666666666666,
              "#ed7953"
             ],
             [
              0.7777777777777778,
              "#fb9f3a"
             ],
             [
              0.8888888888888888,
              "#fdca26"
             ],
             [
              1,
              "#f0f921"
             ]
            ],
            "type": "histogram2dcontour"
           }
          ],
          "mesh3d": [
           {
            "colorbar": {
             "outlinewidth": 0,
             "ticks": ""
            },
            "type": "mesh3d"
           }
          ],
          "parcoords": [
           {
            "line": {
             "colorbar": {
              "outlinewidth": 0,
              "ticks": ""
             }
            },
            "type": "parcoords"
           }
          ],
          "pie": [
           {
            "automargin": true,
            "type": "pie"
           }
          ],
          "scatter": [
           {
            "fillpattern": {
             "fillmode": "overlay",
             "size": 10,
             "solidity": 0.2
            },
            "type": "scatter"
           }
          ],
          "scatter3d": [
           {
            "line": {
             "colorbar": {
              "outlinewidth": 0,
              "ticks": ""
             }
            },
            "marker": {
             "colorbar": {
              "outlinewidth": 0,
              "ticks": ""
             }
            },
            "type": "scatter3d"
           }
          ],
          "scattercarpet": [
           {
            "marker": {
             "colorbar": {
              "outlinewidth": 0,
              "ticks": ""
             }
            },
            "type": "scattercarpet"
           }
          ],
          "scattergeo": [
           {
            "marker": {
             "colorbar": {
              "outlinewidth": 0,
              "ticks": ""
             }
            },
            "type": "scattergeo"
           }
          ],
          "scattergl": [
           {
            "marker": {
             "colorbar": {
              "outlinewidth": 0,
              "ticks": ""
             }
            },
            "type": "scattergl"
           }
          ],
          "scattermap": [
           {
            "marker": {
             "colorbar": {
              "outlinewidth": 0,
              "ticks": ""
             }
            },
            "type": "scattermap"
           }
          ],
          "scattermapbox": [
           {
            "marker": {
             "colorbar": {
              "outlinewidth": 0,
              "ticks": ""
             }
            },
            "type": "scattermapbox"
           }
          ],
          "scatterpolar": [
           {
            "marker": {
             "colorbar": {
              "outlinewidth": 0,
              "ticks": ""
             }
            },
            "type": "scatterpolar"
           }
          ],
          "scatterpolargl": [
           {
            "marker": {
             "colorbar": {
              "outlinewidth": 0,
              "ticks": ""
             }
            },
            "type": "scatterpolargl"
           }
          ],
          "scatterternary": [
           {
            "marker": {
             "colorbar": {
              "outlinewidth": 0,
              "ticks": ""
             }
            },
            "type": "scatterternary"
           }
          ],
          "surface": [
           {
            "colorbar": {
             "outlinewidth": 0,
             "ticks": ""
            },
            "colorscale": [
             [
              0,
              "#0d0887"
             ],
             [
              0.1111111111111111,
              "#46039f"
             ],
             [
              0.2222222222222222,
              "#7201a8"
             ],
             [
              0.3333333333333333,
              "#9c179e"
             ],
             [
              0.4444444444444444,
              "#bd3786"
             ],
             [
              0.5555555555555556,
              "#d8576b"
             ],
             [
              0.6666666666666666,
              "#ed7953"
             ],
             [
              0.7777777777777778,
              "#fb9f3a"
             ],
             [
              0.8888888888888888,
              "#fdca26"
             ],
             [
              1,
              "#f0f921"
             ]
            ],
            "type": "surface"
           }
          ],
          "table": [
           {
            "cells": {
             "fill": {
              "color": "#EBF0F8"
             },
             "line": {
              "color": "white"
             }
            },
            "header": {
             "fill": {
              "color": "#C8D4E3"
             },
             "line": {
              "color": "white"
             }
            },
            "type": "table"
           }
          ]
         },
         "layout": {
          "annotationdefaults": {
           "arrowcolor": "#2a3f5f",
           "arrowhead": 0,
           "arrowwidth": 1
          },
          "autotypenumbers": "strict",
          "coloraxis": {
           "colorbar": {
            "outlinewidth": 0,
            "ticks": ""
           }
          },
          "colorscale": {
           "diverging": [
            [
             0,
             "#8e0152"
            ],
            [
             0.1,
             "#c51b7d"
            ],
            [
             0.2,
             "#de77ae"
            ],
            [
             0.3,
             "#f1b6da"
            ],
            [
             0.4,
             "#fde0ef"
            ],
            [
             0.5,
             "#f7f7f7"
            ],
            [
             0.6,
             "#e6f5d0"
            ],
            [
             0.7,
             "#b8e186"
            ],
            [
             0.8,
             "#7fbc41"
            ],
            [
             0.9,
             "#4d9221"
            ],
            [
             1,
             "#276419"
            ]
           ],
           "sequential": [
            [
             0,
             "#0d0887"
            ],
            [
             0.1111111111111111,
             "#46039f"
            ],
            [
             0.2222222222222222,
             "#7201a8"
            ],
            [
             0.3333333333333333,
             "#9c179e"
            ],
            [
             0.4444444444444444,
             "#bd3786"
            ],
            [
             0.5555555555555556,
             "#d8576b"
            ],
            [
             0.6666666666666666,
             "#ed7953"
            ],
            [
             0.7777777777777778,
             "#fb9f3a"
            ],
            [
             0.8888888888888888,
             "#fdca26"
            ],
            [
             1,
             "#f0f921"
            ]
           ],
           "sequentialminus": [
            [
             0,
             "#0d0887"
            ],
            [
             0.1111111111111111,
             "#46039f"
            ],
            [
             0.2222222222222222,
             "#7201a8"
            ],
            [
             0.3333333333333333,
             "#9c179e"
            ],
            [
             0.4444444444444444,
             "#bd3786"
            ],
            [
             0.5555555555555556,
             "#d8576b"
            ],
            [
             0.6666666666666666,
             "#ed7953"
            ],
            [
             0.7777777777777778,
             "#fb9f3a"
            ],
            [
             0.8888888888888888,
             "#fdca26"
            ],
            [
             1,
             "#f0f921"
            ]
           ]
          },
          "colorway": [
           "#636efa",
           "#EF553B",
           "#00cc96",
           "#ab63fa",
           "#FFA15A",
           "#19d3f3",
           "#FF6692",
           "#B6E880",
           "#FF97FF",
           "#FECB52"
          ],
          "font": {
           "color": "#2a3f5f"
          },
          "geo": {
           "bgcolor": "white",
           "lakecolor": "white",
           "landcolor": "#E5ECF6",
           "showlakes": true,
           "showland": true,
           "subunitcolor": "white"
          },
          "hoverlabel": {
           "align": "left"
          },
          "hovermode": "closest",
          "mapbox": {
           "style": "light"
          },
          "paper_bgcolor": "white",
          "plot_bgcolor": "#E5ECF6",
          "polar": {
           "angularaxis": {
            "gridcolor": "white",
            "linecolor": "white",
            "ticks": ""
           },
           "bgcolor": "#E5ECF6",
           "radialaxis": {
            "gridcolor": "white",
            "linecolor": "white",
            "ticks": ""
           }
          },
          "scene": {
           "xaxis": {
            "backgroundcolor": "#E5ECF6",
            "gridcolor": "white",
            "gridwidth": 2,
            "linecolor": "white",
            "showbackground": true,
            "ticks": "",
            "zerolinecolor": "white"
           },
           "yaxis": {
            "backgroundcolor": "#E5ECF6",
            "gridcolor": "white",
            "gridwidth": 2,
            "linecolor": "white",
            "showbackground": true,
            "ticks": "",
            "zerolinecolor": "white"
           },
           "zaxis": {
            "backgroundcolor": "#E5ECF6",
            "gridcolor": "white",
            "gridwidth": 2,
            "linecolor": "white",
            "showbackground": true,
            "ticks": "",
            "zerolinecolor": "white"
           }
          },
          "shapedefaults": {
           "line": {
            "color": "#2a3f5f"
           }
          },
          "ternary": {
           "aaxis": {
            "gridcolor": "white",
            "linecolor": "white",
            "ticks": ""
           },
           "baxis": {
            "gridcolor": "white",
            "linecolor": "white",
            "ticks": ""
           },
           "bgcolor": "#E5ECF6",
           "caxis": {
            "gridcolor": "white",
            "linecolor": "white",
            "ticks": ""
           }
          },
          "title": {
           "x": 0.05
          },
          "xaxis": {
           "automargin": true,
           "gridcolor": "white",
           "linecolor": "white",
           "ticks": "",
           "title": {
            "standoff": 15
           },
           "zerolinecolor": "white",
           "zerolinewidth": 2
          },
          "yaxis": {
           "automargin": true,
           "gridcolor": "white",
           "linecolor": "white",
           "ticks": "",
           "title": {
            "standoff": 15
           },
           "zerolinecolor": "white",
           "zerolinewidth": 2
          }
         }
        },
        "title": {
         "text": "Interactive Camera Poses"
        }
       }
      }
     },
     "metadata": {},
     "output_type": "display_data"
    },
    {
     "name": "stdout",
     "output_type": "stream",
     "text": [
      "\n",
      "Visualizing sparse point cloud...\n"
     ]
    },
    {
     "data": {
      "application/vnd.plotly.v1+json": {
       "config": {
        "plotlyServerURL": "https://plot.ly"
       },
       "data": [
        {
         "marker": {
          "color": [
           "rgb(95,242,186)",
           "rgb(152,39,39)",
           "rgb(14,220,153)",
           "rgb(180,5,247)",
           "rgb(212,54,46)",
           "rgb(46,77,133)",
           "rgb(110,74,156)",
           "rgb(35,74,93)",
           "rgb(116,200,50)",
           "rgb(131,151,11)",
           "rgb(154,43,16)",
           "rgb(241,246,206)",
           "rgb(77,24,174)",
           "rgb(112,31,126)",
           "rgb(8,231,65)",
           "rgb(168,79,132)",
           "rgb(139,47,247)",
           "rgb(197,239,228)",
           "rgb(152,235,22)",
           "rgb(49,11,82)",
           "rgb(99,69,211)",
           "rgb(90,71,138)",
           "rgb(35,204,19)",
           "rgb(251,196,50)",
           "rgb(1,207,180)",
           "rgb(185,196,18)",
           "rgb(91,29,220)",
           "rgb(158,84,16)",
           "rgb(79,82,186)",
           "rgb(162,226,120)",
           "rgb(30,181,194)",
           "rgb(143,196,125)",
           "rgb(133,109,6)",
           "rgb(27,8,162)",
           "rgb(80,129,231)",
           "rgb(63,104,192)",
           "rgb(58,19,73)",
           "rgb(41,237,206)",
           "rgb(161,222,204)",
           "rgb(47,227,137)",
           "rgb(205,228,81)",
           "rgb(28,58,108)",
           "rgb(208,219,1)",
           "rgb(130,106,56)",
           "rgb(30,86,240)",
           "rgb(82,132,179)",
           "rgb(92,247,245)",
           "rgb(64,126,76)",
           "rgb(72,9,155)",
           "rgb(128,13,71)",
           "rgb(231,61,36)",
           "rgb(124,251,61)",
           "rgb(171,194,60)",
           "rgb(185,93,161)",
           "rgb(161,136,23)",
           "rgb(213,81,47)",
           "rgb(10,150,172)",
           "rgb(4,130,57)",
           "rgb(164,44,176)",
           "rgb(98,238,35)",
           "rgb(86,28,235)",
           "rgb(223,65,168)",
           "rgb(208,141,135)",
           "rgb(61,23,228)",
           "rgb(229,161,86)",
           "rgb(89,185,228)",
           "rgb(226,198,163)",
           "rgb(21,41,229)",
           "rgb(154,2,25)",
           "rgb(169,1,41)",
           "rgb(139,176,166)",
           "rgb(57,181,60)",
           "rgb(82,190,165)",
           "rgb(216,167,144)",
           "rgb(23,93,67)",
           "rgb(62,248,100)",
           "rgb(227,160,202)",
           "rgb(128,147,125)",
           "rgb(49,184,71)",
           "rgb(6,164,45)",
           "rgb(239,243,233)",
           "rgb(94,3,236)",
           "rgb(109,246,245)",
           "rgb(217,75,98)",
           "rgb(217,80,43)",
           "rgb(141,238,177)",
           "rgb(145,24,156)",
           "rgb(252,35,132)",
           "rgb(223,188,177)",
           "rgb(179,91,74)",
           "rgb(206,206,221)",
           "rgb(232,130,127)",
           "rgb(203,165,179)",
           "rgb(202,226,86)",
           "rgb(95,23,147)",
           "rgb(9,118,138)",
           "rgb(73,150,7)",
           "rgb(9,209,91)",
           "rgb(32,133,196)",
           "rgb(55,158,21)",
           "rgb(13,135,137)",
           "rgb(162,185,248)",
           "rgb(131,82,202)",
           "rgb(69,111,20)",
           "rgb(6,245,213)",
           "rgb(177,104,44)",
           "rgb(39,63,140)",
           "rgb(182,168,71)",
           "rgb(243,188,141)",
           "rgb(155,106,63)",
           "rgb(90,193,3)",
           "rgb(29,11,10)",
           "rgb(218,179,120)",
           "rgb(24,125,120)",
           "rgb(44,110,101)",
           "rgb(157,161,11)",
           "rgb(95,159,128)",
           "rgb(218,167,41)",
           "rgb(17,163,6)",
           "rgb(149,239,146)",
           "rgb(98,164,116)",
           "rgb(139,240,98)",
           "rgb(245,230,49)",
           "rgb(17,25,4)",
           "rgb(24,174,18)",
           "rgb(81,215,5)",
           "rgb(207,71,30)",
           "rgb(177,160,223)",
           "rgb(187,204,71)",
           "rgb(45,191,205)",
           "rgb(252,105,94)",
           "rgb(197,86,237)",
           "rgb(218,109,191)",
           "rgb(192,26,230)",
           "rgb(128,210,81)",
           "rgb(228,99,2)",
           "rgb(230,23,81)",
           "rgb(242,242,146)",
           "rgb(161,114,74)",
           "rgb(83,171,191)",
           "rgb(201,201,23)",
           "rgb(126,14,140)",
           "rgb(112,226,89)",
           "rgb(29,36,194)",
           "rgb(157,25,21)",
           "rgb(178,18,209)",
           "rgb(180,20,21)",
           "rgb(251,95,94)",
           "rgb(207,241,251)",
           "rgb(192,95,21)",
           "rgb(198,142,108)",
           "rgb(231,28,125)",
           "rgb(2,119,14)",
           "rgb(30,29,165)",
           "rgb(190,148,245)",
           "rgb(95,72,221)",
           "rgb(57,245,3)",
           "rgb(247,11,227)",
           "rgb(134,253,18)",
           "rgb(141,247,133)",
           "rgb(160,177,115)",
           "rgb(160,149,229)",
           "rgb(11,71,242)",
           "rgb(227,116,158)",
           "rgb(70,47,118)",
           "rgb(90,148,19)",
           "rgb(248,251,178)",
           "rgb(136,78,207)",
           "rgb(174,41,232)",
           "rgb(209,242,185)",
           "rgb(156,106,237)",
           "rgb(220,11,6)",
           "rgb(95,206,251)",
           "rgb(38,151,97)",
           "rgb(247,214,213)",
           "rgb(119,105,69)",
           "rgb(14,220,207)",
           "rgb(254,254,141)",
           "rgb(196,240,216)",
           "rgb(63,114,32)",
           "rgb(243,154,58)",
           "rgb(171,157,91)",
           "rgb(28,171,132)",
           "rgb(196,132,217)",
           "rgb(140,143,223)",
           "rgb(102,34,7)",
           "rgb(192,158,179)",
           "rgb(54,34,3)",
           "rgb(89,150,100)",
           "rgb(111,230,88)",
           "rgb(131,199,101)",
           "rgb(158,219,242)",
           "rgb(37,236,125)",
           "rgb(65,117,249)",
           "rgb(125,83,161)",
           "rgb(61,19,32)",
           "rgb(32,38,35)",
           "rgb(163,46,88)",
           "rgb(228,120,170)",
           "rgb(43,49,10)",
           "rgb(43,71,45)",
           "rgb(22,30,117)",
           "rgb(52,92,128)",
           "rgb(176,10,203)",
           "rgb(160,20,222)",
           "rgb(234,15,70)",
           "rgb(205,190,47)",
           "rgb(53,94,123)",
           "rgb(157,94,117)",
           "rgb(190,9,64)",
           "rgb(181,228,130)",
           "rgb(135,27,114)",
           "rgb(135,61,68)",
           "rgb(96,5,82)",
           "rgb(53,83,30)",
           "rgb(227,151,173)",
           "rgb(201,127,22)",
           "rgb(136,149,190)",
           "rgb(110,32,72)",
           "rgb(92,164,145)",
           "rgb(90,251,154)",
           "rgb(60,25,38)",
           "rgb(62,40,47)",
           "rgb(72,44,228)",
           "rgb(20,133,104)",
           "rgb(250,28,101)",
           "rgb(247,220,208)",
           "rgb(65,43,170)",
           "rgb(236,141,145)",
           "rgb(71,196,47)",
           "rgb(82,108,129)",
           "rgb(61,29,155)",
           "rgb(73,148,39)",
           "rgb(122,135,13)",
           "rgb(85,34,16)",
           "rgb(252,82,206)",
           "rgb(64,173,193)",
           "rgb(151,120,105)",
           "rgb(88,237,211)",
           "rgb(246,31,186)",
           "rgb(239,46,16)",
           "rgb(188,146,214)",
           "rgb(35,202,51)",
           "rgb(41,41,207)",
           "rgb(169,133,91)",
           "rgb(223,100,208)",
           "rgb(111,96,117)",
           "rgb(76,190,128)",
           "rgb(59,229,97)",
           "rgb(138,231,159)",
           "rgb(29,239,160)",
           "rgb(85,35,202)",
           "rgb(158,136,227)",
           "rgb(201,38,79)",
           "rgb(63,189,8)",
           "rgb(145,194,223)",
           "rgb(87,209,28)",
           "rgb(215,32,101)",
           "rgb(203,38,58)",
           "rgb(184,183,163)",
           "rgb(176,138,64)",
           "rgb(88,46,231)",
           "rgb(148,102,117)",
           "rgb(241,39,149)",
           "rgb(129,155,4)",
           "rgb(222,237,144)",
           "rgb(177,235,180)",
           "rgb(38,146,154)",
           "rgb(108,187,238)",
           "rgb(236,114,28)",
           "rgb(251,213,31)",
           "rgb(234,221,132)",
           "rgb(150,101,13)",
           "rgb(85,204,1)",
           "rgb(85,101,137)",
           "rgb(234,88,88)",
           "rgb(188,115,57)",
           "rgb(115,35,44)",
           "rgb(127,106,233)",
           "rgb(92,148,161)",
           "rgb(3,169,45)",
           "rgb(245,37,105)",
           "rgb(21,254,128)",
           "rgb(151,17,191)",
           "rgb(53,229,52)",
           "rgb(48,9,120)",
           "rgb(144,16,197)",
           "rgb(115,133,112)",
           "rgb(102,142,39)",
           "rgb(46,219,241)",
           "rgb(95,69,164)",
           "rgb(104,6,39)",
           "rgb(182,168,6)",
           "rgb(56,58,171)",
           "rgb(5,26,203)",
           "rgb(45,166,60)",
           "rgb(25,62,184)",
           "rgb(218,211,101)",
           "rgb(170,52,74)",
           "rgb(228,3,21)",
           "rgb(53,6,46)",
           "rgb(148,107,227)",
           "rgb(208,87,66)",
           "rgb(96,150,68)",
           "rgb(159,104,140)",
           "rgb(111,75,241)",
           "rgb(194,35,221)",
           "rgb(124,228,203)",
           "rgb(108,5,68)",
           "rgb(138,161,65)",
           "rgb(35,212,251)",
           "rgb(134,43,69)",
           "rgb(4,233,30)",
           "rgb(147,69,141)",
           "rgb(166,211,52)",
           "rgb(2,34,229)",
           "rgb(222,152,153)",
           "rgb(169,44,233)",
           "rgb(106,97,132)",
           "rgb(11,42,188)",
           "rgb(21,153,62)",
           "rgb(99,73,90)",
           "rgb(183,75,144)",
           "rgb(121,169,238)",
           "rgb(186,54,7)",
           "rgb(66,151,13)",
           "rgb(126,152,85)",
           "rgb(196,27,19)",
           "rgb(185,126,175)",
           "rgb(110,62,208)",
           "rgb(203,177,69)",
           "rgb(150,92,23)",
           "rgb(233,34,242)",
           "rgb(113,47,138)",
           "rgb(222,186,205)",
           "rgb(167,176,216)",
           "rgb(63,124,56)",
           "rgb(251,240,10)",
           "rgb(179,235,46)",
           "rgb(144,233,8)",
           "rgb(177,75,235)",
           "rgb(247,240,120)",
           "rgb(219,215,81)",
           "rgb(211,9,152)",
           "rgb(58,30,19)",
           "rgb(177,86,184)",
           "rgb(16,80,137)",
           "rgb(201,81,159)",
           "rgb(225,157,59)",
           "rgb(6,221,5)",
           "rgb(223,134,239)",
           "rgb(203,254,89)",
           "rgb(195,102,122)",
           "rgb(160,222,250)",
           "rgb(195,106,107)",
           "rgb(188,60,28)",
           "rgb(90,73,75)",
           "rgb(59,10,4)",
           "rgb(251,109,98)",
           "rgb(173,55,242)",
           "rgb(200,22,106)",
           "rgb(224,240,119)",
           "rgb(156,42,252)",
           "rgb(59,240,165)",
           "rgb(154,130,58)",
           "rgb(45,56,47)",
           "rgb(198,89,14)",
           "rgb(247,225,236)",
           "rgb(253,44,101)",
           "rgb(193,177,39)",
           "rgb(208,57,57)",
           "rgb(136,151,147)",
           "rgb(23,223,67)",
           "rgb(33,226,243)",
           "rgb(219,206,167)",
           "rgb(140,22,104)",
           "rgb(95,66,184)",
           "rgb(126,20,56)",
           "rgb(174,19,217)",
           "rgb(126,122,151)",
           "rgb(210,88,172)",
           "rgb(144,68,224)",
           "rgb(203,167,216)",
           "rgb(221,180,213)",
           "rgb(177,173,157)",
           "rgb(191,40,224)",
           "rgb(222,7,210)",
           "rgb(32,85,189)",
           "rgb(40,208,212)",
           "rgb(129,1,73)",
           "rgb(157,250,161)",
           "rgb(66,161,137)",
           "rgb(198,27,194)",
           "rgb(138,245,87)",
           "rgb(161,237,26)",
           "rgb(238,175,17)",
           "rgb(76,180,17)",
           "rgb(148,88,158)",
           "rgb(11,222,248)",
           "rgb(247,191,33)",
           "rgb(193,6,5)",
           "rgb(82,124,196)",
           "rgb(174,113,69)",
           "rgb(254,108,115)",
           "rgb(41,202,176)",
           "rgb(56,21,173)",
           "rgb(166,69,242)",
           "rgb(38,110,240)",
           "rgb(107,162,101)",
           "rgb(69,250,104)",
           "rgb(227,58,54)",
           "rgb(7,166,93)",
           "rgb(220,120,246)",
           "rgb(47,221,198)",
           "rgb(196,215,194)",
           "rgb(159,33,8)",
           "rgb(234,157,203)",
           "rgb(122,29,31)",
           "rgb(174,109,51)",
           "rgb(125,16,148)",
           "rgb(68,203,79)",
           "rgb(116,2,18)",
           "rgb(100,122,153)",
           "rgb(74,177,219)",
           "rgb(198,10,122)",
           "rgb(26,61,251)",
           "rgb(36,127,157)",
           "rgb(179,142,2)",
           "rgb(83,132,22)",
           "rgb(89,8,20)",
           "rgb(101,33,144)",
           "rgb(175,204,51)",
           "rgb(42,26,162)",
           "rgb(180,8,238)",
           "rgb(13,138,180)",
           "rgb(222,182,204)",
           "rgb(86,207,20)",
           "rgb(228,139,208)",
           "rgb(115,164,134)",
           "rgb(186,20,15)",
           "rgb(63,40,222)",
           "rgb(55,248,85)",
           "rgb(46,201,167)",
           "rgb(127,141,183)",
           "rgb(58,254,248)",
           "rgb(165,50,173)",
           "rgb(18,7,65)",
           "rgb(117,221,185)",
           "rgb(189,108,88)",
           "rgb(94,251,10)",
           "rgb(221,147,111)",
           "rgb(184,124,222)",
           "rgb(229,107,70)",
           "rgb(151,232,53)",
           "rgb(158,161,186)",
           "rgb(33,182,231)",
           "rgb(45,60,247)",
           "rgb(46,217,125)",
           "rgb(63,222,113)",
           "rgb(131,91,151)",
           "rgb(41,99,247)",
           "rgb(65,167,82)",
           "rgb(197,33,247)",
           "rgb(115,60,18)",
           "rgb(43,132,85)",
           "rgb(211,109,63)",
           "rgb(157,180,42)",
           "rgb(42,9,187)",
           "rgb(169,121,215)",
           "rgb(205,149,221)",
           "rgb(52,28,68)",
           "rgb(14,135,238)",
           "rgb(10,31,115)",
           "rgb(238,80,129)",
           "rgb(10,37,251)",
           "rgb(246,1,242)",
           "rgb(162,221,115)",
           "rgb(131,124,170)",
           "rgb(35,7,78)",
           "rgb(179,51,171)",
           "rgb(247,23,171)",
           "rgb(113,221,45)",
           "rgb(176,213,240)",
           "rgb(174,126,157)",
           "rgb(221,145,7)",
           "rgb(237,175,172)",
           "rgb(54,168,100)",
           "rgb(166,27,167)",
           "rgb(254,12,249)",
           "rgb(103,222,199)",
           "rgb(144,188,224)",
           "rgb(103,83,170)",
           "rgb(206,194,203)",
           "rgb(111,208,30)",
           "rgb(138,1,82)",
           "rgb(93,101,177)",
           "rgb(99,114,60)",
           "rgb(95,57,18)",
           "rgb(153,170,157)",
           "rgb(118,96,220)",
           "rgb(132,122,6)",
           "rgb(87,96,101)",
           "rgb(147,136,155)",
           "rgb(195,207,183)",
           "rgb(243,4,49)",
           "rgb(1,165,228)",
           "rgb(62,236,15)",
           "rgb(238,89,25)",
           "rgb(123,65,72)",
           "rgb(78,204,137)",
           "rgb(79,155,182)",
           "rgb(69,105,31)",
           "rgb(46,173,46)",
           "rgb(133,180,27)",
           "rgb(144,65,245)",
           "rgb(123,205,140)",
           "rgb(11,161,242)",
           "rgb(153,208,225)",
           "rgb(58,54,155)",
           "rgb(104,214,229)",
           "rgb(90,60,199)",
           "rgb(70,209,108)",
           "rgb(170,24,159)",
           "rgb(115,149,42)",
           "rgb(187,220,55)",
           "rgb(24,6,163)",
           "rgb(154,139,59)",
           "rgb(99,151,126)",
           "rgb(251,34,177)",
           "rgb(103,109,182)",
           "rgb(176,252,32)",
           "rgb(26,184,147)",
           "rgb(69,20,21)",
           "rgb(228,48,82)",
           "rgb(57,90,17)",
           "rgb(132,17,204)",
           "rgb(59,137,224)",
           "rgb(165,135,82)",
           "rgb(84,170,253)",
           "rgb(168,142,186)",
           "rgb(118,15,143)",
           "rgb(244,44,175)",
           "rgb(51,136,24)",
           "rgb(114,192,88)",
           "rgb(169,202,236)",
           "rgb(59,101,38)",
           "rgb(253,236,137)",
           "rgb(214,132,159)",
           "rgb(22,192,32)",
           "rgb(210,199,180)",
           "rgb(9,77,67)",
           "rgb(91,22,238)",
           "rgb(141,77,101)",
           "rgb(114,153,131)",
           "rgb(234,126,253)",
           "rgb(217,53,237)",
           "rgb(29,208,97)",
           "rgb(223,221,205)",
           "rgb(201,77,20)",
           "rgb(102,44,177)",
           "rgb(88,248,163)",
           "rgb(209,33,219)",
           "rgb(235,124,154)",
           "rgb(195,44,128)",
           "rgb(101,37,93)",
           "rgb(17,6,34)",
           "rgb(245,140,246)",
           "rgb(110,79,129)",
           "rgb(112,26,163)",
           "rgb(55,157,165)",
           "rgb(38,15,199)",
           "rgb(117,14,253)",
           "rgb(14,177,250)",
           "rgb(60,36,30)",
           "rgb(77,25,176)",
           "rgb(15,129,254)",
           "rgb(207,156,78)",
           "rgb(159,134,108)",
           "rgb(33,226,114)",
           "rgb(49,93,105)",
           "rgb(211,187,196)",
           "rgb(2,106,122)",
           "rgb(4,66,193)",
           "rgb(34,136,54)",
           "rgb(3,61,248)",
           "rgb(204,244,124)",
           "rgb(27,139,115)",
           "rgb(215,25,124)",
           "rgb(38,82,188)",
           "rgb(121,95,100)",
           "rgb(117,200,227)",
           "rgb(243,200,80)",
           "rgb(175,111,64)",
           "rgb(214,9,229)",
           "rgb(117,162,168)",
           "rgb(228,162,156)",
           "rgb(16,132,38)",
           "rgb(188,130,173)",
           "rgb(10,21,182)",
           "rgb(18,18,3)",
           "rgb(243,188,90)",
           "rgb(75,89,197)",
           "rgb(168,47,44)",
           "rgb(25,168,194)",
           "rgb(67,5,20)",
           "rgb(246,75,196)",
           "rgb(159,97,52)",
           "rgb(30,156,197)",
           "rgb(164,135,10)",
           "rgb(246,203,74)",
           "rgb(249,153,148)",
           "rgb(190,207,167)",
           "rgb(32,86,236)",
           "rgb(57,94,110)",
           "rgb(112,156,240)",
           "rgb(61,30,50)",
           "rgb(226,164,72)",
           "rgb(208,219,215)",
           "rgb(234,64,192)",
           "rgb(117,214,185)",
           "rgb(197,167,45)",
           "rgb(138,251,239)",
           "rgb(11,42,33)",
           "rgb(185,208,54)",
           "rgb(128,214,186)",
           "rgb(138,150,129)",
           "rgb(75,144,175)",
           "rgb(222,162,194)",
           "rgb(40,117,2)",
           "rgb(62,185,252)",
           "rgb(25,102,204)",
           "rgb(52,141,186)",
           "rgb(157,47,90)",
           "rgb(199,141,1)",
           "rgb(194,9,190)",
           "rgb(51,244,93)",
           "rgb(83,37,77)",
           "rgb(223,254,93)",
           "rgb(114,184,225)",
           "rgb(151,99,105)",
           "rgb(177,0,157)",
           "rgb(90,202,23)",
           "rgb(149,122,163)",
           "rgb(16,147,143)",
           "rgb(142,153,172)",
           "rgb(205,68,210)",
           "rgb(127,19,14)",
           "rgb(85,200,180)",
           "rgb(201,131,112)",
           "rgb(37,83,110)",
           "rgb(22,56,152)",
           "rgb(187,254,237)",
           "rgb(163,107,162)",
           "rgb(200,30,104)",
           "rgb(214,97,145)",
           "rgb(149,47,92)",
           "rgb(85,6,6)",
           "rgb(212,69,132)",
           "rgb(76,239,66)",
           "rgb(109,222,214)",
           "rgb(47,204,116)",
           "rgb(123,34,20)",
           "rgb(185,126,111)",
           "rgb(186,195,40)",
           "rgb(155,34,191)",
           "rgb(167,243,17)",
           "rgb(14,71,66)",
           "rgb(62,231,63)",
           "rgb(69,193,114)",
           "rgb(198,16,124)",
           "rgb(8,15,231)",
           "rgb(35,135,104)",
           "rgb(88,229,5)",
           "rgb(169,245,142)",
           "rgb(238,13,106)",
           "rgb(66,186,250)",
           "rgb(65,166,50)",
           "rgb(144,118,247)",
           "rgb(155,89,29)",
           "rgb(38,57,63)",
           "rgb(216,143,133)",
           "rgb(29,219,184)",
           "rgb(17,180,138)",
           "rgb(20,116,123)",
           "rgb(42,241,216)",
           "rgb(170,117,105)",
           "rgb(165,139,15)",
           "rgb(130,205,117)",
           "rgb(13,200,51)",
           "rgb(65,42,84)",
           "rgb(192,132,52)",
           "rgb(223,224,221)",
           "rgb(60,115,251)",
           "rgb(196,6,16)",
           "rgb(118,231,137)",
           "rgb(126,26,167)",
           "rgb(209,97,197)",
           "rgb(245,51,133)",
           "rgb(73,202,147)",
           "rgb(161,203,100)",
           "rgb(233,135,40)",
           "rgb(177,202,80)",
           "rgb(218,231,70)",
           "rgb(250,35,51)",
           "rgb(46,227,166)",
           "rgb(38,112,156)",
           "rgb(21,225,204)",
           "rgb(128,246,106)",
           "rgb(250,170,161)",
           "rgb(42,224,109)",
           "rgb(41,3,142)",
           "rgb(134,183,227)",
           "rgb(20,186,47)",
           "rgb(218,208,137)",
           "rgb(181,80,120)",
           "rgb(209,117,91)",
           "rgb(126,211,85)",
           "rgb(44,181,210)",
           "rgb(25,61,36)",
           "rgb(88,114,190)",
           "rgb(166,158,89)",
           "rgb(214,120,249)",
           "rgb(161,32,172)",
           "rgb(82,175,17)",
           "rgb(44,218,57)",
           "rgb(213,71,163)",
           "rgb(177,130,77)",
           "rgb(54,8,77)",
           "rgb(166,239,222)",
           "rgb(195,201,169)",
           "rgb(66,231,171)",
           "rgb(142,28,113)",
           "rgb(117,220,139)",
           "rgb(97,249,28)",
           "rgb(107,10,188)",
           "rgb(234,71,218)",
           "rgb(74,232,192)",
           "rgb(205,4,245)",
           "rgb(185,77,211)",
           "rgb(71,222,28)",
           "rgb(179,137,24)",
           "rgb(61,3,119)",
           "rgb(76,152,75)",
           "rgb(76,189,12)",
           "rgb(230,217,170)",
           "rgb(151,227,47)",
           "rgb(20,61,202)",
           "rgb(8,148,253)",
           "rgb(218,132,16)",
           "rgb(212,152,29)",
           "rgb(23,231,170)",
           "rgb(211,224,145)",
           "rgb(131,109,80)",
           "rgb(110,197,153)",
           "rgb(227,113,154)",
           "rgb(160,150,179)",
           "rgb(60,130,26)",
           "rgb(98,124,166)",
           "rgb(242,153,189)",
           "rgb(129,161,18)",
           "rgb(64,92,120)",
           "rgb(11,35,70)",
           "rgb(247,84,122)",
           "rgb(50,155,71)",
           "rgb(52,131,1)",
           "rgb(1,55,9)",
           "rgb(27,86,204)",
           "rgb(145,130,74)",
           "rgb(237,101,22)",
           "rgb(157,29,88)",
           "rgb(129,222,125)",
           "rgb(179,253,33)",
           "rgb(70,100,107)",
           "rgb(104,231,182)",
           "rgb(155,78,210)",
           "rgb(243,209,0)",
           "rgb(162,13,65)",
           "rgb(15,153,175)",
           "rgb(29,97,116)",
           "rgb(94,30,106)",
           "rgb(191,18,20)",
           "rgb(90,240,170)",
           "rgb(173,92,151)",
           "rgb(2,162,232)",
           "rgb(156,222,184)",
           "rgb(30,230,16)",
           "rgb(136,36,2)",
           "rgb(107,75,123)",
           "rgb(147,11,31)",
           "rgb(142,87,185)",
           "rgb(166,215,176)",
           "rgb(109,171,70)",
           "rgb(78,201,113)",
           "rgb(203,209,218)",
           "rgb(233,109,81)",
           "rgb(148,94,153)",
           "rgb(179,175,95)",
           "rgb(42,109,36)",
           "rgb(226,88,39)",
           "rgb(6,164,162)",
           "rgb(86,18,104)",
           "rgb(79,172,154)",
           "rgb(92,55,251)",
           "rgb(115,175,35)",
           "rgb(123,7,128)",
           "rgb(245,97,9)",
           "rgb(7,98,40)",
           "rgb(5,192,116)",
           "rgb(73,229,29)",
           "rgb(243,80,226)",
           "rgb(153,210,250)",
           "rgb(73,245,99)",
           "rgb(98,86,138)",
           "rgb(39,141,138)",
           "rgb(194,212,112)",
           "rgb(77,66,49)",
           "rgb(14,87,68)",
           "rgb(246,142,88)",
           "rgb(148,35,113)",
           "rgb(159,124,102)",
           "rgb(253,224,158)",
           "rgb(145,158,51)",
           "rgb(100,10,121)",
           "rgb(138,58,245)",
           "rgb(231,184,136)",
           "rgb(221,33,201)",
           "rgb(31,202,70)",
           "rgb(223,240,37)",
           "rgb(117,250,123)",
           "rgb(220,150,95)",
           "rgb(72,51,194)",
           "rgb(98,130,125)",
           "rgb(147,220,250)",
           "rgb(103,211,194)",
           "rgb(146,243,51)",
           "rgb(27,217,111)",
           "rgb(215,227,15)",
           "rgb(225,114,130)",
           "rgb(159,236,4)",
           "rgb(121,175,184)",
           "rgb(176,34,76)",
           "rgb(91,205,71)",
           "rgb(53,244,2)",
           "rgb(254,172,211)",
           "rgb(75,3,188)",
           "rgb(212,188,36)",
           "rgb(192,196,167)",
           "rgb(195,215,156)",
           "rgb(22,124,19)",
           "rgb(103,103,16)",
           "rgb(88,28,206)",
           "rgb(241,18,243)",
           "rgb(133,76,19)",
           "rgb(127,202,180)",
           "rgb(12,18,102)",
           "rgb(75,59,71)",
           "rgb(204,236,103)",
           "rgb(231,81,121)",
           "rgb(57,163,249)",
           "rgb(153,91,165)",
           "rgb(31,226,128)",
           "rgb(114,149,159)",
           "rgb(18,174,61)",
           "rgb(182,209,205)",
           "rgb(140,132,36)",
           "rgb(197,69,126)",
           "rgb(72,34,160)",
           "rgb(13,190,80)",
           "rgb(0,130,11)",
           "rgb(70,180,15)",
           "rgb(214,0,62)",
           "rgb(188,80,25)",
           "rgb(91,68,214)",
           "rgb(79,201,227)",
           "rgb(110,232,96)",
           "rgb(245,22,175)",
           "rgb(125,98,161)",
           "rgb(179,1,42)",
           "rgb(181,169,246)",
           "rgb(194,242,179)",
           "rgb(76,26,199)",
           "rgb(164,12,91)",
           "rgb(243,127,110)",
           "rgb(116,53,94)",
           "rgb(94,13,195)",
           "rgb(106,209,216)",
           "rgb(54,167,120)",
           "rgb(224,55,172)",
           "rgb(154,75,34)",
           "rgb(166,188,80)",
           "rgb(164,100,181)",
           "rgb(50,227,73)",
           "rgb(93,14,28)",
           "rgb(131,68,213)",
           "rgb(3,96,86)",
           "rgb(4,31,105)",
           "rgb(125,103,135)",
           "rgb(151,2,118)",
           "rgb(245,132,172)",
           "rgb(79,197,197)",
           "rgb(132,248,32)",
           "rgb(4,196,205)",
           "rgb(30,67,4)",
           "rgb(74,197,132)",
           "rgb(88,94,0)",
           "rgb(76,164,248)",
           "rgb(216,6,229)",
           "rgb(199,198,116)",
           "rgb(101,77,16)",
           "rgb(58,62,123)",
           "rgb(190,120,14)",
           "rgb(244,240,200)",
           "rgb(252,138,245)",
           "rgb(19,93,57)",
           "rgb(49,35,158)",
           "rgb(199,147,37)",
           "rgb(206,162,98)",
           "rgb(171,66,88)",
           "rgb(233,74,119)",
           "rgb(226,180,15)",
           "rgb(37,1,160)",
           "rgb(114,34,244)",
           "rgb(135,61,127)",
           "rgb(173,19,70)",
           "rgb(205,117,139)",
           "rgb(110,11,42)",
           "rgb(113,53,12)",
           "rgb(215,250,202)",
           "rgb(217,61,244)",
           "rgb(50,242,253)",
           "rgb(181,250,145)",
           "rgb(66,111,151)",
           "rgb(18,158,250)",
           "rgb(48,202,231)",
           "rgb(240,244,132)",
           "rgb(249,193,41)",
           "rgb(121,183,63)",
           "rgb(163,169,41)",
           "rgb(144,196,127)",
           "rgb(3,2,91)",
           "rgb(236,58,161)",
           "rgb(56,82,216)",
           "rgb(185,24,109)",
           "rgb(7,122,168)",
           "rgb(30,73,101)",
           "rgb(234,253,11)",
           "rgb(194,94,100)",
           "rgb(192,234,242)",
           "rgb(147,91,200)",
           "rgb(64,143,91)",
           "rgb(167,61,48)",
           "rgb(234,25,129)",
           "rgb(56,9,9)",
           "rgb(44,221,72)",
           "rgb(242,148,111)",
           "rgb(147,131,193)",
           "rgb(72,90,227)",
           "rgb(241,227,106)",
           "rgb(198,121,126)",
           "rgb(52,150,47)",
           "rgb(84,218,52)",
           "rgb(18,17,239)",
           "rgb(129,104,206)",
           "rgb(213,84,176)",
           "rgb(196,166,38)",
           "rgb(223,137,72)",
           "rgb(108,9,32)",
           "rgb(195,0,106)",
           "rgb(133,13,248)",
           "rgb(57,77,77)",
           "rgb(58,0,185)",
           "rgb(246,57,169)",
           "rgb(189,216,107)",
           "rgb(77,82,181)",
           "rgb(208,46,94)",
           "rgb(229,205,251)",
           "rgb(192,100,150)",
           "rgb(168,20,138)",
           "rgb(180,42,199)",
           "rgb(148,242,10)",
           "rgb(67,153,75)",
           "rgb(182,193,26)",
           "rgb(131,129,94)",
           "rgb(237,211,177)",
           "rgb(182,117,234)",
           "rgb(177,185,219)",
           "rgb(69,205,49)",
           "rgb(88,85,249)",
           "rgb(218,178,185)",
           "rgb(143,241,126)",
           "rgb(97,41,200)",
           "rgb(187,98,6)",
           "rgb(213,2,179)",
           "rgb(247,111,59)",
           "rgb(179,208,139)",
           "rgb(246,13,128)",
           "rgb(183,219,45)",
           "rgb(204,140,101)",
           "rgb(33,220,40)",
           "rgb(78,73,222)",
           "rgb(171,203,63)",
           "rgb(159,145,212)",
           "rgb(231,3,171)",
           "rgb(13,139,73)",
           "rgb(78,90,158)",
           "rgb(85,186,103)",
           "rgb(17,199,72)",
           "rgb(110,174,84)",
           "rgb(14,95,240)",
           "rgb(163,171,161)",
           "rgb(50,106,191)",
           "rgb(25,70,70)",
           "rgb(110,249,17)",
           "rgb(132,45,247)",
           "rgb(28,102,188)",
           "rgb(179,107,88)",
           "rgb(101,67,52)",
           "rgb(123,68,73)",
           "rgb(167,246,153)",
           "rgb(19,19,242)",
           "rgb(75,23,152)",
           "rgb(159,165,68)",
           "rgb(3,246,63)",
           "rgb(172,180,155)",
           "rgb(79,69,152)",
           "rgb(220,241,27)",
           "rgb(39,240,187)",
           "rgb(225,51,149)",
           "rgb(178,173,104)",
           "rgb(3,148,64)",
           "rgb(114,244,101)",
           "rgb(214,48,171)",
           "rgb(249,25,2)",
           "rgb(110,23,190)",
           "rgb(233,110,65)",
           "rgb(110,184,2)",
           "rgb(150,156,162)",
           "rgb(61,182,23)",
           "rgb(50,223,188)",
           "rgb(3,63,54)",
           "rgb(69,63,15)",
           "rgb(117,186,154)",
           "rgb(171,20,242)",
           "rgb(213,205,209)",
           "rgb(237,138,51)",
           "rgb(157,189,188)",
           "rgb(132,17,94)",
           "rgb(234,149,137)",
           "rgb(68,93,228)",
           "rgb(169,200,115)",
           "rgb(160,63,179)",
           "rgb(109,112,165)",
           "rgb(238,16,210)",
           "rgb(74,113,5)",
           "rgb(76,128,14)",
           "rgb(125,236,26)",
           "rgb(194,104,167)",
           "rgb(66,40,40)",
           "rgb(17,47,169)",
           "rgb(224,207,174)",
           "rgb(28,73,79)",
           "rgb(63,131,136)",
           "rgb(91,90,211)",
           "rgb(201,78,233)",
           "rgb(242,83,90)",
           "rgb(128,239,223)",
           "rgb(26,100,141)",
           "rgb(128,49,218)",
           "rgb(172,213,218)",
           "rgb(190,111,155)",
           "rgb(40,171,45)",
           "rgb(176,58,29)",
           "rgb(42,0,183)",
           "rgb(186,131,41)",
           "rgb(21,4,42)",
           "rgb(227,61,90)",
           "rgb(26,56,132)",
           "rgb(154,62,14)",
           "rgb(99,59,55)",
           "rgb(244,157,142)",
           "rgb(106,109,137)",
           "rgb(177,179,43)",
           "rgb(127,105,221)",
           "rgb(161,135,29)",
           "rgb(154,29,85)",
           "rgb(36,176,52)",
           "rgb(99,228,52)",
           "rgb(129,106,4)",
           "rgb(202,17,120)",
           "rgb(142,160,175)",
           "rgb(64,2,184)",
           "rgb(136,213,209)",
           "rgb(215,123,85)",
           "rgb(201,115,46)",
           "rgb(218,225,118)",
           "rgb(19,98,204)",
           "rgb(229,51,17)",
           "rgb(223,99,138)",
           "rgb(246,16,165)",
           "rgb(18,95,204)",
           "rgb(110,254,142)",
           "rgb(81,56,89)",
           "rgb(94,17,94)",
           "rgb(118,184,167)",
           "rgb(180,2,55)",
           "rgb(168,123,1)",
           "rgb(205,197,139)",
           "rgb(16,195,148)",
           "rgb(199,191,204)",
           "rgb(132,35,171)",
           "rgb(158,189,43)",
           "rgb(49,227,191)",
           "rgb(231,193,152)",
           "rgb(166,226,147)",
           "rgb(161,39,120)",
           "rgb(182,69,51)",
           "rgb(80,61,54)",
           "rgb(108,231,129)",
           "rgb(47,19,177)",
           "rgb(97,209,168)",
           "rgb(203,69,176)",
           "rgb(67,239,162)",
           "rgb(82,68,48)",
           "rgb(177,55,151)",
           "rgb(67,168,207)",
           "rgb(198,194,47)",
           "rgb(22,178,93)",
           "rgb(110,7,66)",
           "rgb(8,224,62)",
           "rgb(142,9,170)",
           "rgb(82,228,226)",
           "rgb(82,229,254)",
           "rgb(210,215,63)",
           "rgb(147,17,24)",
           "rgb(254,83,190)",
           "rgb(205,218,254)",
           "rgb(61,10,104)",
           "rgb(33,5,91)",
           "rgb(199,144,79)",
           "rgb(166,59,3)",
           "rgb(194,159,194)",
           "rgb(9,213,157)",
           "rgb(143,159,220)",
           "rgb(149,148,252)",
           "rgb(192,112,180)",
           "rgb(99,58,152)",
           "rgb(236,236,87)",
           "rgb(134,53,253)",
           "rgb(250,165,205)",
           "rgb(182,151,13)",
           "rgb(115,172,172)",
           "rgb(95,240,42)",
           "rgb(127,176,177)",
           "rgb(165,70,39)",
           "rgb(162,152,45)",
           "rgb(179,116,170)",
           "rgb(213,43,4)",
           "rgb(198,155,178)",
           "rgb(213,204,245)",
           "rgb(136,124,102)",
           "rgb(39,146,70)",
           "rgb(234,148,151)",
           "rgb(90,13,8)",
           "rgb(107,21,154)",
           "rgb(224,225,168)",
           "rgb(53,220,225)",
           "rgb(50,188,73)",
           "rgb(204,254,7)",
           "rgb(228,158,248)",
           "rgb(118,216,15)",
           "rgb(85,17,248)",
           "rgb(208,217,239)",
           "rgb(21,98,18)",
           "rgb(53,58,119)",
           "rgb(68,25,42)",
           "rgb(37,248,193)",
           "rgb(246,112,70)",
           "rgb(203,83,76)",
           "rgb(59,33,65)",
           "rgb(90,171,15)",
           "rgb(53,206,37)",
           "rgb(87,220,39)",
           "rgb(21,123,77)",
           "rgb(143,204,34)",
           "rgb(148,128,36)",
           "rgb(159,69,124)",
           "rgb(20,117,78)",
           "rgb(209,14,106)",
           "rgb(116,184,146)",
           "rgb(170,198,219)",
           "rgb(80,137,214)",
           "rgb(252,226,94)",
           "rgb(49,124,189)",
           "rgb(125,123,213)",
           "rgb(92,219,103)",
           "rgb(83,115,194)",
           "rgb(32,50,242)",
           "rgb(44,144,147)",
           "rgb(124,164,58)",
           "rgb(140,94,168)",
           "rgb(36,145,47)",
           "rgb(71,55,46)",
           "rgb(210,72,236)",
           "rgb(247,145,36)",
           "rgb(95,203,93)",
           "rgb(22,141,215)",
           "rgb(202,44,171)",
           "rgb(56,55,222)",
           "rgb(63,67,0)",
           "rgb(222,202,159)",
           "rgb(191,38,116)",
           "rgb(89,23,123)",
           "rgb(234,10,74)",
           "rgb(52,60,231)",
           "rgb(119,118,193)",
           "rgb(39,124,109)",
           "rgb(152,254,196)",
           "rgb(101,211,43)",
           "rgb(7,52,86)",
           "rgb(130,156,232)",
           "rgb(130,127,12)",
           "rgb(8,140,111)",
           "rgb(213,40,6)",
           "rgb(114,60,12)",
           "rgb(184,28,155)",
           "rgb(71,44,96)",
           "rgb(204,99,191)",
           "rgb(31,197,60)",
           "rgb(172,144,236)",
           "rgb(98,16,4)",
           "rgb(210,133,197)",
           "rgb(59,87,7)",
           "rgb(245,170,237)",
           "rgb(67,155,173)",
           "rgb(80,216,241)",
           "rgb(225,188,70)",
           "rgb(71,245,2)",
           "rgb(182,180,158)",
           "rgb(252,79,86)",
           "rgb(20,112,66)",
           "rgb(87,212,238)",
           "rgb(47,94,236)",
           "rgb(15,23,41)",
           "rgb(151,38,246)",
           "rgb(113,127,62)",
           "rgb(120,168,191)",
           "rgb(192,147,230)",
           "rgb(208,193,14)",
           "rgb(1,54,169)",
           "rgb(104,102,225)",
           "rgb(228,231,80)",
           "rgb(176,69,48)",
           "rgb(47,87,109)",
           "rgb(211,30,187)",
           "rgb(135,73,125)",
           "rgb(76,152,110)",
           "rgb(41,29,139)",
           "rgb(230,87,186)",
           "rgb(167,237,209)",
           "rgb(144,167,229)",
           "rgb(101,83,2)",
           "rgb(210,204,26)",
           "rgb(147,118,30)",
           "rgb(250,54,17)",
           "rgb(151,188,8)",
           "rgb(167,135,26)",
           "rgb(43,144,75)",
           "rgb(239,208,250)",
           "rgb(66,247,109)",
           "rgb(88,12,13)",
           "rgb(176,116,57)",
           "rgb(156,64,147)",
           "rgb(91,210,209)",
           "rgb(121,89,92)",
           "rgb(205,83,53)",
           "rgb(21,119,122)",
           "rgb(214,56,97)",
           "rgb(206,210,98)",
           "rgb(117,77,237)",
           "rgb(30,238,174)",
           "rgb(135,8,121)",
           "rgb(103,41,167)",
           "rgb(247,143,182)",
           "rgb(17,106,29)",
           "rgb(156,239,168)",
           "rgb(19,90,140)",
           "rgb(102,212,207)",
           "rgb(156,95,65)",
           "rgb(26,90,105)",
           "rgb(172,167,17)",
           "rgb(100,46,39)",
           "rgb(210,10,106)",
           "rgb(42,224,142)",
           "rgb(59,128,186)",
           "rgb(244,56,225)",
           "rgb(238,233,162)",
           "rgb(160,102,191)",
           "rgb(135,172,109)",
           "rgb(186,210,37)",
           "rgb(212,137,215)",
           "rgb(109,96,233)",
           "rgb(64,215,123)",
           "rgb(131,78,146)",
           "rgb(82,10,69)",
           "rgb(1,249,246)",
           "rgb(100,185,88)",
           "rgb(171,205,241)",
           "rgb(102,199,67)",
           "rgb(252,6,153)",
           "rgb(168,175,30)",
           "rgb(239,46,158)",
           "rgb(56,78,139)",
           "rgb(106,40,43)",
           "rgb(106,193,228)",
           "rgb(21,100,25)",
           "rgb(4,168,153)",
           "rgb(41,59,6)",
           "rgb(212,248,34)",
           "rgb(59,221,236)",
           "rgb(107,12,10)",
           "rgb(146,100,7)",
           "rgb(148,2,200)",
           "rgb(78,10,150)",
           "rgb(101,248,138)",
           "rgb(70,180,69)",
           "rgb(230,95,140)",
           "rgb(12,108,212)",
           "rgb(205,57,57)",
           "rgb(208,237,24)",
           "rgb(114,86,222)",
           "rgb(21,53,191)",
           "rgb(13,125,112)",
           "rgb(85,100,135)",
           "rgb(41,145,205)",
           "rgb(193,39,38)",
           "rgb(68,92,104)",
           "rgb(173,14,8)",
           "rgb(99,177,49)",
           "rgb(163,66,225)",
           "rgb(228,75,58)",
           "rgb(104,61,171)",
           "rgb(210,171,210)",
           "rgb(101,39,188)",
           "rgb(91,171,69)",
           "rgb(20,253,39)",
           "rgb(252,249,202)",
           "rgb(168,147,220)",
           "rgb(73,119,157)",
           "rgb(104,109,84)",
           "rgb(143,216,51)",
           "rgb(238,175,209)",
           "rgb(141,198,4)",
           "rgb(208,10,226)",
           "rgb(252,74,53)",
           "rgb(195,64,220)",
           "rgb(26,32,249)",
           "rgb(171,215,82)",
           "rgb(172,151,153)",
           "rgb(174,146,109)",
           "rgb(70,195,57)",
           "rgb(176,59,159)",
           "rgb(190,55,15)",
           "rgb(33,154,216)",
           "rgb(11,187,87)",
           "rgb(122,236,84)",
           "rgb(118,3,20)",
           "rgb(65,7,161)",
           "rgb(108,139,44)",
           "rgb(75,169,246)",
           "rgb(12,227,147)",
           "rgb(143,127,17)",
           "rgb(22,153,86)",
           "rgb(233,103,36)",
           "rgb(182,74,133)",
           "rgb(177,229,202)",
           "rgb(172,173,241)",
           "rgb(75,0,69)",
           "rgb(55,168,161)",
           "rgb(151,4,185)",
           "rgb(82,169,141)",
           "rgb(87,34,24)",
           "rgb(212,234,165)",
           "rgb(26,102,185)",
           "rgb(198,30,0)",
           "rgb(181,90,64)",
           "rgb(3,137,217)",
           "rgb(244,144,131)",
           "rgb(21,139,96)",
           "rgb(154,99,61)",
           "rgb(24,80,24)",
           "rgb(45,251,113)",
           "rgb(135,222,253)",
           "rgb(148,207,83)",
           "rgb(77,102,171)",
           "rgb(173,80,33)",
           "rgb(161,32,147)",
           "rgb(176,178,192)",
           "rgb(222,127,186)",
           "rgb(157,47,6)",
           "rgb(72,112,157)",
           "rgb(216,50,32)",
           "rgb(245,27,122)",
           "rgb(149,138,21)",
           "rgb(14,26,149)",
           "rgb(138,59,162)",
           "rgb(209,10,127)",
           "rgb(175,64,78)",
           "rgb(156,228,206)",
           "rgb(148,186,93)",
           "rgb(163,118,48)",
           "rgb(178,141,91)",
           "rgb(232,5,80)",
           "rgb(14,195,179)",
           "rgb(84,172,100)",
           "rgb(192,115,105)",
           "rgb(238,63,30)",
           "rgb(149,247,96)",
           "rgb(15,86,129)",
           "rgb(41,167,254)",
           "rgb(115,90,102)",
           "rgb(29,225,105)",
           "rgb(98,168,112)",
           "rgb(165,15,207)",
           "rgb(239,165,243)",
           "rgb(38,121,153)",
           "rgb(148,102,86)",
           "rgb(32,99,41)",
           "rgb(187,53,14)",
           "rgb(140,151,222)",
           "rgb(147,88,204)",
           "rgb(137,20,144)",
           "rgb(231,101,75)",
           "rgb(36,38,110)",
           "rgb(151,20,239)",
           "rgb(192,149,211)",
           "rgb(20,121,160)",
           "rgb(211,199,70)",
           "rgb(239,31,223)",
           "rgb(247,45,184)",
           "rgb(10,103,131)",
           "rgb(148,238,171)",
           "rgb(122,206,242)",
           "rgb(5,250,21)",
           "rgb(207,71,33)",
           "rgb(112,164,97)",
           "rgb(13,152,230)",
           "rgb(97,55,112)",
           "rgb(12,209,210)",
           "rgb(149,90,203)",
           "rgb(141,210,161)",
           "rgb(200,152,105)",
           "rgb(244,137,154)",
           "rgb(56,159,145)",
           "rgb(47,15,154)",
           "rgb(194,133,57)",
           "rgb(169,20,112)",
           "rgb(41,47,51)",
           "rgb(98,13,101)",
           "rgb(130,123,97)",
           "rgb(213,37,128)",
           "rgb(15,18,146)",
           "rgb(144,223,142)",
           "rgb(244,12,24)",
           "rgb(11,47,138)",
           "rgb(164,11,241)",
           "rgb(214,75,19)",
           "rgb(43,32,31)",
           "rgb(132,62,91)",
           "rgb(252,174,241)",
           "rgb(36,97,141)",
           "rgb(19,1,170)",
           "rgb(163,104,124)",
           "rgb(105,6,85)",
           "rgb(45,25,243)",
           "rgb(152,185,80)",
           "rgb(100,60,24)",
           "rgb(45,203,172)",
           "rgb(139,121,235)",
           "rgb(18,71,89)",
           "rgb(199,253,61)",
           "rgb(222,211,57)",
           "rgb(101,104,249)",
           "rgb(46,203,85)",
           "rgb(186,107,147)",
           "rgb(212,205,220)",
           "rgb(15,176,35)",
           "rgb(106,139,102)",
           "rgb(132,254,34)",
           "rgb(172,100,33)",
           "rgb(40,242,224)",
           "rgb(231,252,53)",
           "rgb(90,170,123)",
           "rgb(106,91,151)",
           "rgb(146,41,120)",
           "rgb(141,145,53)",
           "rgb(189,6,90)",
           "rgb(198,143,66)",
           "rgb(177,144,203)",
           "rgb(187,155,124)",
           "rgb(33,66,106)",
           "rgb(152,130,73)",
           "rgb(1,126,72)",
           "rgb(187,6,149)",
           "rgb(240,44,120)",
           "rgb(23,159,140)",
           "rgb(103,132,228)",
           "rgb(50,5,219)",
           "rgb(147,227,152)",
           "rgb(206,109,191)",
           "rgb(232,145,46)",
           "rgb(68,50,62)",
           "rgb(78,141,149)",
           "rgb(108,156,20)",
           "rgb(22,43,132)",
           "rgb(54,72,102)",
           "rgb(207,3,165)",
           "rgb(170,203,237)",
           "rgb(5,39,225)",
           "rgb(116,143,169)",
           "rgb(173,237,254)",
           "rgb(183,73,224)",
           "rgb(12,58,228)",
           "rgb(65,56,35)",
           "rgb(219,127,172)",
           "rgb(60,193,193)",
           "rgb(79,104,53)",
           "rgb(249,164,238)",
           "rgb(77,199,195)",
           "rgb(176,246,100)",
           "rgb(33,171,185)",
           "rgb(146,52,128)",
           "rgb(79,109,164)",
           "rgb(190,59,103)",
           "rgb(68,50,199)",
           "rgb(231,94,191)",
           "rgb(228,215,46)",
           "rgb(243,96,86)",
           "rgb(15,123,27)",
           "rgb(63,80,206)",
           "rgb(223,77,218)",
           "rgb(218,194,37)",
           "rgb(176,240,174)",
           "rgb(84,127,164)",
           "rgb(130,30,79)",
           "rgb(204,219,35)",
           "rgb(242,83,168)",
           "rgb(191,207,241)",
           "rgb(79,218,33)",
           "rgb(179,189,172)",
           "rgb(64,222,43)",
           "rgb(13,182,121)",
           "rgb(216,97,42)",
           "rgb(213,139,48)",
           "rgb(183,130,154)",
           "rgb(117,211,211)",
           "rgb(180,26,213)",
           "rgb(171,177,92)",
           "rgb(224,184,28)",
           "rgb(103,226,12)",
           "rgb(245,173,161)",
           "rgb(68,63,240)",
           "rgb(76,197,100)",
           "rgb(35,2,138)",
           "rgb(248,94,91)",
           "rgb(87,132,112)",
           "rgb(224,128,129)",
           "rgb(35,250,63)",
           "rgb(18,169,151)",
           "rgb(105,107,200)",
           "rgb(49,209,165)",
           "rgb(106,116,65)",
           "rgb(191,130,81)",
           "rgb(151,253,110)",
           "rgb(234,87,13)",
           "rgb(52,106,56)",
           "rgb(0,233,215)",
           "rgb(189,42,30)",
           "rgb(17,184,236)",
           "rgb(109,30,130)",
           "rgb(88,95,158)",
           "rgb(183,28,9)",
           "rgb(253,59,13)",
           "rgb(48,9,99)",
           "rgb(204,87,113)",
           "rgb(172,129,219)",
           "rgb(220,2,198)",
           "rgb(117,252,123)",
           "rgb(251,192,63)",
           "rgb(137,252,218)",
           "rgb(24,180,88)",
           "rgb(1,102,59)",
           "rgb(208,86,211)",
           "rgb(0,78,61)",
           "rgb(59,17,47)",
           "rgb(141,74,106)",
           "rgb(96,223,230)",
           "rgb(125,84,27)",
           "rgb(243,15,75)",
           "rgb(76,81,41)",
           "rgb(199,31,161)",
           "rgb(31,17,231)",
           "rgb(48,209,138)",
           "rgb(19,243,62)",
           "rgb(219,43,217)",
           "rgb(3,130,196)",
           "rgb(238,231,209)",
           "rgb(226,50,72)",
           "rgb(73,96,100)",
           "rgb(138,40,176)",
           "rgb(42,79,128)",
           "rgb(203,188,164)",
           "rgb(39,139,22)",
           "rgb(96,105,10)",
           "rgb(69,243,243)",
           "rgb(89,10,45)",
           "rgb(100,241,36)",
           "rgb(194,27,250)",
           "rgb(97,197,87)",
           "rgb(160,48,37)",
           "rgb(239,234,226)",
           "rgb(159,206,17)",
           "rgb(85,79,162)",
           "rgb(90,37,152)",
           "rgb(207,97,33)",
           "rgb(50,60,76)",
           "rgb(163,153,177)",
           "rgb(92,210,52)",
           "rgb(119,204,45)",
           "rgb(28,225,87)",
           "rgb(174,6,175)",
           "rgb(80,14,155)",
           "rgb(61,98,20)",
           "rgb(37,75,22)",
           "rgb(232,1,123)",
           "rgb(31,78,236)",
           "rgb(41,246,52)",
           "rgb(189,139,225)",
           "rgb(141,136,49)",
           "rgb(42,233,83)",
           "rgb(94,193,86)",
           "rgb(242,188,152)",
           "rgb(224,12,65)",
           "rgb(118,57,189)",
           "rgb(234,108,87)",
           "rgb(245,113,124)",
           "rgb(89,231,145)",
           "rgb(194,207,87)",
           "rgb(110,216,92)",
           "rgb(202,239,158)",
           "rgb(189,205,215)",
           "rgb(100,13,102)",
           "rgb(171,114,190)",
           "rgb(91,161,47)",
           "rgb(191,139,52)",
           "rgb(74,190,123)",
           "rgb(55,246,182)",
           "rgb(244,108,121)",
           "rgb(228,133,180)",
           "rgb(64,113,31)",
           "rgb(52,0,10)",
           "rgb(249,61,169)",
           "rgb(213,140,39)",
           "rgb(185,153,186)",
           "rgb(196,248,146)",
           "rgb(87,165,17)",
           "rgb(228,30,83)",
           "rgb(208,152,100)",
           "rgb(120,217,86)",
           "rgb(221,22,198)",
           "rgb(216,46,109)",
           "rgb(42,180,136)",
           "rgb(162,50,53)",
           "rgb(10,82,142)",
           "rgb(218,170,111)",
           "rgb(243,183,237)",
           "rgb(134,66,13)",
           "rgb(185,30,77)",
           "rgb(135,143,153)",
           "rgb(42,96,157)",
           "rgb(247,185,235)",
           "rgb(194,150,48)",
           "rgb(170,158,153)",
           "rgb(124,134,85)",
           "rgb(132,50,205)",
           "rgb(47,21,111)",
           "rgb(167,111,70)",
           "rgb(142,88,237)",
           "rgb(235,128,83)",
           "rgb(187,9,121)",
           "rgb(85,234,3)",
           "rgb(140,188,123)",
           "rgb(21,247,132)",
           "rgb(156,60,123)",
           "rgb(109,19,27)",
           "rgb(213,61,49)",
           "rgb(128,196,15)",
           "rgb(147,30,9)",
           "rgb(13,212,30)",
           "rgb(11,111,215)",
           "rgb(66,107,10)",
           "rgb(114,147,145)",
           "rgb(84,80,27)",
           "rgb(93,25,195)",
           "rgb(246,247,220)",
           "rgb(153,178,72)",
           "rgb(160,116,122)",
           "rgb(193,71,81)",
           "rgb(235,14,123)",
           "rgb(232,155,139)",
           "rgb(63,87,217)",
           "rgb(142,131,25)",
           "rgb(4,245,96)",
           "rgb(153,20,174)",
           "rgb(237,146,32)",
           "rgb(148,195,103)",
           "rgb(224,165,229)",
           "rgb(158,33,78)",
           "rgb(51,231,193)",
           "rgb(172,76,46)",
           "rgb(192,120,57)",
           "rgb(157,10,83)",
           "rgb(119,37,251)",
           "rgb(53,33,51)",
           "rgb(196,108,144)",
           "rgb(5,8,113)",
           "rgb(208,225,22)",
           "rgb(137,232,98)",
           "rgb(211,34,238)",
           "rgb(191,240,172)",
           "rgb(92,239,70)",
           "rgb(84,178,195)",
           "rgb(236,52,203)",
           "rgb(188,16,98)",
           "rgb(72,77,250)",
           "rgb(163,183,249)",
           "rgb(96,204,110)",
           "rgb(221,46,241)",
           "rgb(55,83,192)",
           "rgb(100,155,113)",
           "rgb(189,58,14)",
           "rgb(76,120,42)",
           "rgb(90,101,14)",
           "rgb(148,225,38)",
           "rgb(152,169,106)",
           "rgb(178,104,128)",
           "rgb(1,176,168)",
           "rgb(9,93,249)",
           "rgb(107,127,232)",
           "rgb(182,148,203)",
           "rgb(220,116,121)",
           "rgb(98,246,177)",
           "rgb(21,220,122)",
           "rgb(17,140,106)",
           "rgb(223,52,210)",
           "rgb(142,13,247)",
           "rgb(130,74,119)",
           "rgb(218,77,49)",
           "rgb(32,75,198)",
           "rgb(120,58,42)",
           "rgb(84,239,87)",
           "rgb(251,123,45)",
           "rgb(227,117,180)",
           "rgb(250,12,24)",
           "rgb(183,71,46)",
           "rgb(10,5,197)",
           "rgb(34,119,154)",
           "rgb(109,6,199)",
           "rgb(2,194,227)",
           "rgb(110,136,121)",
           "rgb(99,226,227)",
           "rgb(85,156,236)",
           "rgb(245,129,115)",
           "rgb(71,244,36)",
           "rgb(147,72,71)",
           "rgb(103,254,14)",
           "rgb(147,21,39)",
           "rgb(112,130,65)",
           "rgb(80,22,77)",
           "rgb(246,240,85)",
           "rgb(145,231,1)",
           "rgb(206,241,23)",
           "rgb(41,244,137)",
           "rgb(3,65,114)",
           "rgb(176,186,253)",
           "rgb(73,137,135)",
           "rgb(103,43,249)",
           "rgb(217,127,153)",
           "rgb(57,138,177)",
           "rgb(131,252,155)",
           "rgb(94,196,43)",
           "rgb(98,88,110)",
           "rgb(199,123,202)",
           "rgb(147,87,206)",
           "rgb(60,57,128)",
           "rgb(66,2,165)",
           "rgb(130,113,246)",
           "rgb(145,220,35)",
           "rgb(145,221,148)",
           "rgb(183,94,23)",
           "rgb(116,100,221)",
           "rgb(62,246,244)",
           "rgb(63,88,228)",
           "rgb(246,113,81)",
           "rgb(134,175,69)",
           "rgb(187,13,12)",
           "rgb(98,90,80)",
           "rgb(125,81,49)",
           "rgb(78,248,104)",
           "rgb(113,147,250)",
           "rgb(61,173,182)",
           "rgb(154,22,172)",
           "rgb(16,152,188)",
           "rgb(53,214,7)",
           "rgb(215,117,55)",
           "rgb(34,243,18)",
           "rgb(50,88,158)",
           "rgb(138,32,73)",
           "rgb(60,54,104)",
           "rgb(179,55,93)",
           "rgb(99,248,243)",
           "rgb(204,61,17)",
           "rgb(80,68,129)",
           "rgb(198,218,215)",
           "rgb(91,175,79)",
           "rgb(15,178,2)",
           "rgb(104,83,176)",
           "rgb(195,77,206)",
           "rgb(74,113,185)",
           "rgb(176,251,57)",
           "rgb(168,155,233)",
           "rgb(39,191,144)",
           "rgb(70,120,85)",
           "rgb(147,226,145)",
           "rgb(161,132,13)",
           "rgb(59,125,79)",
           "rgb(46,128,82)",
           "rgb(65,118,33)",
           "rgb(236,221,180)",
           "rgb(27,197,206)",
           "rgb(195,29,164)",
           "rgb(212,147,164)",
           "rgb(116,134,8)",
           "rgb(162,20,110)",
           "rgb(74,139,34)",
           "rgb(176,202,41)",
           "rgb(26,37,223)",
           "rgb(134,119,27)",
           "rgb(165,221,211)",
           "rgb(159,19,28)",
           "rgb(12,65,34)",
           "rgb(66,98,240)",
           "rgb(155,212,181)",
           "rgb(28,187,70)",
           "rgb(162,86,254)",
           "rgb(67,71,237)",
           "rgb(6,177,184)",
           "rgb(213,248,248)",
           "rgb(16,209,164)",
           "rgb(165,32,165)",
           "rgb(250,232,111)",
           "rgb(10,92,210)",
           "rgb(178,117,14)",
           "rgb(108,119,236)",
           "rgb(163,79,133)",
           "rgb(16,248,91)",
           "rgb(121,90,174)",
           "rgb(168,182,68)",
           "rgb(80,31,167)",
           "rgb(10,152,221)",
           "rgb(227,114,117)",
           "rgb(19,171,209)",
           "rgb(62,107,213)",
           "rgb(223,62,140)",
           "rgb(49,25,232)",
           "rgb(209,193,12)",
           "rgb(215,111,87)",
           "rgb(139,23,192)",
           "rgb(148,47,47)",
           "rgb(46,14,149)",
           "rgb(214,4,12)",
           "rgb(146,208,83)",
           "rgb(89,152,69)",
           "rgb(6,187,159)",
           "rgb(148,189,172)",
           "rgb(52,89,32)",
           "rgb(33,172,218)",
           "rgb(245,160,46)",
           "rgb(26,207,147)",
           "rgb(157,199,179)",
           "rgb(212,14,190)",
           "rgb(216,72,163)",
           "rgb(80,244,8)",
           "rgb(147,42,181)",
           "rgb(44,60,126)",
           "rgb(233,53,36)",
           "rgb(193,127,232)",
           "rgb(37,164,59)",
           "rgb(39,174,151)",
           "rgb(192,78,114)",
           "rgb(103,250,74)",
           "rgb(75,90,143)",
           "rgb(64,233,67)",
           "rgb(228,26,167)",
           "rgb(231,43,246)",
           "rgb(115,241,172)",
           "rgb(76,48,77)",
           "rgb(23,36,26)",
           "rgb(107,202,36)",
           "rgb(33,164,50)",
           "rgb(24,42,235)",
           "rgb(209,90,167)",
           "rgb(137,172,174)",
           "rgb(160,67,9)",
           "rgb(116,227,145)",
           "rgb(212,252,41)",
           "rgb(176,171,249)",
           "rgb(251,175,62)",
           "rgb(203,27,199)",
           "rgb(232,97,160)",
           "rgb(109,111,79)",
           "rgb(194,238,239)",
           "rgb(44,223,188)",
           "rgb(64,17,68)",
           "rgb(232,161,183)",
           "rgb(65,183,7)",
           "rgb(95,159,37)",
           "rgb(209,59,166)",
           "rgb(103,151,27)",
           "rgb(4,231,68)",
           "rgb(209,254,53)",
           "rgb(67,169,246)",
           "rgb(233,128,202)",
           "rgb(34,249,245)",
           "rgb(41,76,25)",
           "rgb(69,208,96)",
           "rgb(22,87,250)",
           "rgb(160,106,42)",
           "rgb(251,209,71)",
           "rgb(17,14,30)",
           "rgb(148,236,126)",
           "rgb(214,113,180)",
           "rgb(186,44,92)",
           "rgb(162,18,92)",
           "rgb(136,254,121)",
           "rgb(208,110,203)",
           "rgb(151,226,104)",
           "rgb(154,160,106)",
           "rgb(36,23,4)",
           "rgb(222,60,53)",
           "rgb(187,81,129)",
           "rgb(41,244,217)",
           "rgb(220,103,194)",
           "rgb(36,2,5)",
           "rgb(149,116,132)",
           "rgb(1,107,183)",
           "rgb(112,186,59)",
           "rgb(207,150,53)",
           "rgb(60,160,211)",
           "rgb(105,65,221)",
           "rgb(170,114,124)",
           "rgb(52,159,91)",
           "rgb(253,122,123)",
           "rgb(144,233,204)",
           "rgb(115,183,149)",
           "rgb(125,49,118)",
           "rgb(62,233,85)",
           "rgb(242,135,161)",
           "rgb(138,32,95)",
           "rgb(25,158,113)",
           "rgb(198,56,41)",
           "rgb(103,236,181)",
           "rgb(106,131,21)",
           "rgb(251,169,72)",
           "rgb(149,27,246)",
           "rgb(44,165,62)",
           "rgb(182,198,171)",
           "rgb(156,227,20)",
           "rgb(84,63,251)",
           "rgb(99,186,174)",
           "rgb(54,60,71)",
           "rgb(104,59,5)",
           "rgb(224,246,87)",
           "rgb(86,1,173)",
           "rgb(210,37,40)",
           "rgb(201,157,11)",
           "rgb(158,78,94)",
           "rgb(196,206,102)",
           "rgb(241,103,196)",
           "rgb(123,228,231)",
           "rgb(22,238,210)",
           "rgb(201,51,205)",
           "rgb(216,73,242)",
           "rgb(12,38,137)",
           "rgb(146,164,4)",
           "rgb(244,11,36)",
           "rgb(3,144,237)",
           "rgb(169,209,3)",
           "rgb(138,117,127)",
           "rgb(18,174,128)",
           "rgb(195,123,38)",
           "rgb(165,43,222)",
           "rgb(156,40,245)",
           "rgb(132,18,159)",
           "rgb(64,204,208)",
           "rgb(249,127,116)",
           "rgb(192,33,139)",
           "rgb(139,22,106)",
           "rgb(217,218,25)",
           "rgb(23,66,223)",
           "rgb(32,183,25)",
           "rgb(158,90,201)",
           "rgb(59,162,60)",
           "rgb(181,222,32)",
           "rgb(220,151,32)",
           "rgb(109,41,178)",
           "rgb(193,26,129)",
           "rgb(207,238,130)",
           "rgb(242,136,100)",
           "rgb(216,125,120)",
           "rgb(125,215,212)",
           "rgb(102,84,125)",
           "rgb(146,60,202)",
           "rgb(124,85,27)",
           "rgb(60,242,77)",
           "rgb(43,117,78)",
           "rgb(8,82,138)",
           "rgb(140,90,114)",
           "rgb(246,96,65)",
           "rgb(62,116,193)",
           "rgb(52,180,5)",
           "rgb(106,197,86)",
           "rgb(143,52,189)",
           "rgb(13,217,50)",
           "rgb(222,89,184)",
           "rgb(81,231,32)",
           "rgb(45,125,20)",
           "rgb(49,240,249)",
           "rgb(95,235,138)",
           "rgb(68,179,168)",
           "rgb(252,67,171)",
           "rgb(13,28,0)",
           "rgb(254,204,200)",
           "rgb(129,76,38)",
           "rgb(72,95,192)",
           "rgb(137,19,4)",
           "rgb(26,104,237)",
           "rgb(162,204,118)",
           "rgb(92,27,223)",
           "rgb(199,42,130)",
           "rgb(124,159,241)",
           "rgb(147,137,12)",
           "rgb(16,47,8)",
           "rgb(189,184,34)",
           "rgb(213,39,76)",
           "rgb(63,94,64)",
           "rgb(124,103,251)",
           "rgb(14,36,13)",
           "rgb(159,13,213)",
           "rgb(130,134,143)",
           "rgb(43,50,81)",
           "rgb(151,53,29)",
           "rgb(247,5,204)",
           "rgb(200,75,34)",
           "rgb(37,177,163)",
           "rgb(199,239,176)",
           "rgb(39,62,214)",
           "rgb(53,18,179)",
           "rgb(102,234,165)",
           "rgb(23,241,65)",
           "rgb(85,102,13)",
           "rgb(126,31,102)",
           "rgb(89,197,204)",
           "rgb(39,93,95)",
           "rgb(38,203,180)",
           "rgb(48,93,26)",
           "rgb(160,30,251)",
           "rgb(199,99,147)",
           "rgb(232,141,44)",
           "rgb(96,215,164)",
           "rgb(165,221,227)",
           "rgb(234,24,138)",
           "rgb(188,193,154)",
           "rgb(42,203,183)",
           "rgb(21,118,44)",
           "rgb(86,4,102)",
           "rgb(140,157,169)",
           "rgb(213,54,30)",
           "rgb(217,39,248)",
           "rgb(214,127,250)",
           "rgb(24,77,162)",
           "rgb(89,236,16)",
           "rgb(140,150,166)",
           "rgb(65,92,215)",
           "rgb(49,210,143)",
           "rgb(194,181,52)",
           "rgb(145,221,110)",
           "rgb(246,115,36)",
           "rgb(99,242,81)",
           "rgb(221,224,89)",
           "rgb(21,184,79)",
           "rgb(199,112,123)",
           "rgb(198,97,112)",
           "rgb(95,93,134)",
           "rgb(206,92,133)",
           "rgb(171,68,70)",
           "rgb(238,184,147)",
           "rgb(165,7,157)",
           "rgb(129,139,91)",
           "rgb(20,49,242)",
           "rgb(104,119,13)",
           "rgb(9,182,137)",
           "rgb(129,61,189)",
           "rgb(42,48,117)",
           "rgb(73,63,164)",
           "rgb(165,210,106)",
           "rgb(18,69,249)",
           "rgb(152,180,1)",
           "rgb(132,9,145)",
           "rgb(234,246,137)",
           "rgb(116,240,171)",
           "rgb(16,118,61)",
           "rgb(119,116,148)",
           "rgb(90,41,128)",
           "rgb(211,169,86)",
           "rgb(238,232,53)",
           "rgb(10,189,211)",
           "rgb(246,226,153)",
           "rgb(135,7,62)",
           "rgb(117,160,142)",
           "rgb(189,71,144)",
           "rgb(22,105,191)",
           "rgb(176,252,70)",
           "rgb(127,84,112)",
           "rgb(218,174,225)",
           "rgb(51,222,15)",
           "rgb(226,83,80)",
           "rgb(130,239,12)",
           "rgb(89,218,100)",
           "rgb(50,108,98)",
           "rgb(233,194,128)",
           "rgb(252,118,14)",
           "rgb(66,111,40)",
           "rgb(241,195,68)",
           "rgb(150,183,240)",
           "rgb(224,131,197)",
           "rgb(143,140,29)",
           "rgb(32,135,68)",
           "rgb(5,184,8)",
           "rgb(151,137,247)",
           "rgb(123,16,140)",
           "rgb(214,254,109)",
           "rgb(81,231,48)",
           "rgb(156,103,10)",
           "rgb(88,67,174)",
           "rgb(241,68,206)",
           "rgb(14,137,17)",
           "rgb(238,195,167)",
           "rgb(210,165,247)",
           "rgb(182,235,131)",
           "rgb(29,134,32)",
           "rgb(151,123,158)",
           "rgb(2,49,125)",
           "rgb(242,97,108)",
           "rgb(182,153,76)",
           "rgb(104,55,246)",
           "rgb(33,94,6)",
           "rgb(56,199,51)",
           "rgb(20,120,2)",
           "rgb(21,205,196)",
           "rgb(233,217,174)",
           "rgb(13,199,215)",
           "rgb(203,129,59)",
           "rgb(215,185,250)",
           "rgb(39,57,54)",
           "rgb(202,47,16)",
           "rgb(254,6,212)",
           "rgb(93,214,141)",
           "rgb(229,236,2)",
           "rgb(19,63,170)",
           "rgb(226,117,154)",
           "rgb(48,205,246)",
           "rgb(68,126,21)",
           "rgb(142,128,36)",
           "rgb(112,85,133)",
           "rgb(149,2,194)",
           "rgb(181,93,13)",
           "rgb(192,243,61)",
           "rgb(82,46,147)",
           "rgb(39,90,177)",
           "rgb(142,98,107)",
           "rgb(143,1,20)",
           "rgb(224,19,180)",
           "rgb(234,69,94)",
           "rgb(145,224,240)",
           "rgb(188,22,170)",
           "rgb(104,120,12)",
           "rgb(48,201,115)",
           "rgb(76,97,217)",
           "rgb(190,69,29)",
           "rgb(64,234,148)",
           "rgb(136,152,93)",
           "rgb(205,133,29)",
           "rgb(32,136,238)",
           "rgb(78,221,194)",
           "rgb(63,9,25)",
           "rgb(185,50,94)",
           "rgb(127,184,28)",
           "rgb(103,123,137)",
           "rgb(208,43,205)",
           "rgb(176,141,178)",
           "rgb(105,35,169)",
           "rgb(133,163,86)",
           "rgb(231,149,21)",
           "rgb(114,192,202)",
           "rgb(126,228,68)",
           "rgb(104,229,228)",
           "rgb(174,219,22)",
           "rgb(220,81,45)",
           "rgb(61,106,64)",
           "rgb(81,34,75)",
           "rgb(145,112,88)",
           "rgb(190,227,192)",
           "rgb(84,189,38)",
           "rgb(33,88,205)",
           "rgb(62,16,33)",
           "rgb(218,161,64)",
           "rgb(141,134,167)",
           "rgb(59,220,78)",
           "rgb(177,4,95)",
           "rgb(89,138,18)",
           "rgb(201,55,172)",
           "rgb(204,143,188)",
           "rgb(168,90,206)",
           "rgb(75,145,190)",
           "rgb(96,77,117)",
           "rgb(208,237,138)",
           "rgb(168,230,25)",
           "rgb(59,180,210)",
           "rgb(218,105,22)",
           "rgb(111,58,74)",
           "rgb(196,19,211)",
           "rgb(109,151,22)",
           "rgb(86,22,245)",
           "rgb(205,117,57)",
           "rgb(238,87,41)",
           "rgb(143,240,0)",
           "rgb(60,239,43)",
           "rgb(28,145,219)",
           "rgb(121,253,173)",
           "rgb(18,253,104)",
           "rgb(73,142,77)",
           "rgb(22,0,114)",
           "rgb(213,145,254)",
           "rgb(73,71,40)",
           "rgb(41,72,202)",
           "rgb(230,248,59)",
           "rgb(224,83,28)",
           "rgb(221,162,42)",
           "rgb(109,73,187)",
           "rgb(115,252,13)",
           "rgb(90,122,128)",
           "rgb(80,185,223)",
           "rgb(239,205,216)",
           "rgb(140,210,77)",
           "rgb(101,80,119)",
           "rgb(72,245,79)",
           "rgb(25,134,14)",
           "rgb(28,55,118)",
           "rgb(110,203,188)",
           "rgb(108,85,80)",
           "rgb(197,13,3)",
           "rgb(202,121,33)",
           "rgb(60,237,219)",
           "rgb(180,122,132)",
           "rgb(248,246,54)",
           "rgb(206,50,54)",
           "rgb(172,103,237)",
           "rgb(22,130,234)",
           "rgb(230,39,93)",
           "rgb(157,40,246)",
           "rgb(233,42,30)",
           "rgb(21,231,49)",
           "rgb(106,114,152)",
           "rgb(18,57,237)",
           "rgb(231,199,4)",
           "rgb(83,160,70)",
           "rgb(231,161,18)",
           "rgb(231,244,19)",
           "rgb(135,77,100)",
           "rgb(45,147,244)",
           "rgb(128,21,158)",
           "rgb(86,218,110)",
           "rgb(49,48,196)",
           "rgb(67,195,52)",
           "rgb(82,118,240)",
           "rgb(237,52,91)",
           "rgb(38,130,117)",
           "rgb(229,237,97)",
           "rgb(125,228,205)",
           "rgb(0,81,107)",
           "rgb(58,50,9)",
           "rgb(164,66,13)",
           "rgb(58,204,217)",
           "rgb(123,106,249)",
           "rgb(51,54,74)",
           "rgb(44,96,232)",
           "rgb(156,105,238)",
           "rgb(12,53,144)",
           "rgb(156,10,102)",
           "rgb(165,178,162)",
           "rgb(81,23,108)",
           "rgb(32,241,121)",
           "rgb(80,195,126)",
           "rgb(79,207,221)",
           "rgb(171,11,144)",
           "rgb(194,34,58)",
           "rgb(225,5,191)",
           "rgb(120,113,1)",
           "rgb(208,91,137)",
           "rgb(172,179,243)",
           "rgb(135,101,243)",
           "rgb(163,76,32)",
           "rgb(214,92,168)",
           "rgb(120,50,153)",
           "rgb(15,105,139)",
           "rgb(111,190,211)",
           "rgb(196,9,49)",
           "rgb(136,238,212)",
           "rgb(214,77,109)",
           "rgb(120,40,7)",
           "rgb(241,61,61)",
           "rgb(21,236,147)",
           "rgb(170,232,88)",
           "rgb(158,9,47)",
           "rgb(211,195,89)",
           "rgb(96,136,0)",
           "rgb(61,53,63)",
           "rgb(205,71,48)",
           "rgb(128,220,61)",
           "rgb(20,90,190)",
           "rgb(140,208,244)",
           "rgb(202,153,125)",
           "rgb(10,251,97)",
           "rgb(38,170,72)",
           "rgb(149,149,113)",
           "rgb(213,67,114)",
           "rgb(137,169,199)",
           "rgb(100,164,38)",
           "rgb(237,97,186)",
           "rgb(5,52,124)",
           "rgb(223,134,237)",
           "rgb(123,125,30)",
           "rgb(204,62,229)",
           "rgb(232,240,132)",
           "rgb(172,198,33)",
           "rgb(153,8,126)",
           "rgb(39,46,93)",
           "rgb(110,158,18)",
           "rgb(128,46,146)",
           "rgb(162,141,188)",
           "rgb(85,195,110)",
           "rgb(123,165,4)",
           "rgb(166,157,79)",
           "rgb(21,23,235)",
           "rgb(175,32,90)",
           "rgb(151,213,11)",
           "rgb(60,226,2)",
           "rgb(51,244,156)",
           "rgb(66,17,7)",
           "rgb(62,224,106)",
           "rgb(183,234,104)",
           "rgb(48,131,231)",
           "rgb(205,16,176)",
           "rgb(145,231,31)",
           "rgb(136,224,104)",
           "rgb(122,17,70)",
           "rgb(82,241,72)",
           "rgb(117,171,41)",
           "rgb(124,188,221)",
           "rgb(159,170,32)",
           "rgb(241,33,197)",
           "rgb(67,238,183)",
           "rgb(192,55,112)",
           "rgb(157,196,26)",
           "rgb(245,227,68)",
           "rgb(209,132,117)",
           "rgb(80,148,186)",
           "rgb(104,160,178)",
           "rgb(181,13,219)",
           "rgb(116,66,61)",
           "rgb(123,226,96)",
           "rgb(191,24,121)",
           "rgb(252,196,53)",
           "rgb(127,59,104)",
           "rgb(198,196,58)",
           "rgb(235,151,96)",
           "rgb(127,154,142)",
           "rgb(124,128,44)",
           "rgb(207,138,33)",
           "rgb(195,237,241)",
           "rgb(94,34,132)",
           "rgb(28,238,46)",
           "rgb(64,103,97)",
           "rgb(202,116,43)",
           "rgb(68,129,37)",
           "rgb(155,144,182)",
           "rgb(239,232,241)",
           "rgb(62,33,77)",
           "rgb(228,247,219)",
           "rgb(28,241,107)",
           "rgb(2,112,11)",
           "rgb(138,86,120)",
           "rgb(156,221,168)",
           "rgb(110,208,230)",
           "rgb(30,135,72)",
           "rgb(12,170,220)",
           "rgb(41,207,217)",
           "rgb(233,67,230)",
           "rgb(81,140,12)",
           "rgb(11,183,113)",
           "rgb(65,48,170)",
           "rgb(0,205,20)",
           "rgb(48,98,123)",
           "rgb(90,81,245)",
           "rgb(163,5,109)",
           "rgb(223,76,24)",
           "rgb(193,154,145)",
           "rgb(13,35,158)",
           "rgb(52,128,138)",
           "rgb(72,241,214)",
           "rgb(184,19,27)",
           "rgb(125,40,249)",
           "rgb(40,124,92)",
           "rgb(163,32,109)",
           "rgb(70,226,10)",
           "rgb(233,212,75)",
           "rgb(201,7,246)",
           "rgb(134,77,92)",
           "rgb(16,252,10)",
           "rgb(167,112,241)",
           "rgb(62,135,123)",
           "rgb(179,17,49)",
           "rgb(54,188,48)",
           "rgb(146,54,219)",
           "rgb(240,132,89)",
           "rgb(59,12,68)",
           "rgb(166,136,240)",
           "rgb(101,176,124)",
           "rgb(130,68,116)",
           "rgb(120,180,239)",
           "rgb(83,10,126)",
           "rgb(138,42,193)",
           "rgb(251,241,50)",
           "rgb(223,179,115)",
           "rgb(137,216,122)",
           "rgb(95,125,147)",
           "rgb(48,229,171)",
           "rgb(161,25,154)",
           "rgb(30,20,134)",
           "rgb(102,150,22)",
           "rgb(109,44,251)",
           "rgb(143,175,82)",
           "rgb(24,248,72)",
           "rgb(108,165,6)",
           "rgb(206,136,70)",
           "rgb(15,41,228)",
           "rgb(174,63,16)",
           "rgb(176,145,103)",
           "rgb(92,55,170)",
           "rgb(247,44,152)",
           "rgb(108,113,64)",
           "rgb(210,123,138)",
           "rgb(77,46,21)",
           "rgb(182,50,175)",
           "rgb(99,106,119)",
           "rgb(93,25,78)",
           "rgb(169,169,72)",
           "rgb(117,49,53)",
           "rgb(5,228,53)",
           "rgb(58,71,32)",
           "rgb(163,19,34)",
           "rgb(164,86,180)",
           "rgb(142,65,165)",
           "rgb(29,136,111)",
           "rgb(68,154,222)",
           "rgb(254,154,103)",
           "rgb(57,65,122)",
           "rgb(93,233,93)",
           "rgb(95,97,213)",
           "rgb(165,156,85)",
           "rgb(208,9,222)",
           "rgb(130,101,126)",
           "rgb(170,3,222)",
           "rgb(113,87,35)",
           "rgb(112,126,102)",
           "rgb(173,107,245)",
           "rgb(152,205,27)",
           "rgb(101,85,145)",
           "rgb(219,19,18)",
           "rgb(216,54,170)",
           "rgb(138,212,31)",
           "rgb(33,141,241)",
           "rgb(105,83,154)",
           "rgb(237,213,253)",
           "rgb(5,28,155)",
           "rgb(209,72,60)",
           "rgb(200,14,94)",
           "rgb(128,142,185)",
           "rgb(90,156,149)",
           "rgb(139,163,66)",
           "rgb(21,30,57)",
           "rgb(127,214,178)",
           "rgb(201,89,103)",
           "rgb(100,48,15)",
           "rgb(150,252,42)",
           "rgb(11,198,64)",
           "rgb(211,179,241)",
           "rgb(104,168,118)",
           "rgb(160,114,48)",
           "rgb(129,134,206)",
           "rgb(187,169,28)",
           "rgb(183,127,227)",
           "rgb(234,14,209)",
           "rgb(9,93,138)",
           "rgb(37,190,2)",
           "rgb(42,148,182)",
           "rgb(233,179,171)",
           "rgb(100,0,30)",
           "rgb(136,172,106)",
           "rgb(186,133,18)",
           "rgb(48,214,184)",
           "rgb(228,29,252)",
           "rgb(53,3,254)",
           "rgb(71,170,45)",
           "rgb(147,230,81)",
           "rgb(170,47,159)",
           "rgb(85,53,79)",
           "rgb(45,229,101)",
           "rgb(62,114,81)",
           "rgb(189,247,111)",
           "rgb(219,144,40)",
           "rgb(176,130,165)",
           "rgb(226,112,229)",
           "rgb(191,124,153)",
           "rgb(83,250,170)",
           "rgb(11,83,158)",
           "rgb(14,6,114)",
           "rgb(84,111,66)",
           "rgb(42,175,131)",
           "rgb(51,81,150)",
           "rgb(18,37,18)",
           "rgb(207,191,192)",
           "rgb(182,170,121)",
           "rgb(163,9,158)",
           "rgb(198,127,91)",
           "rgb(70,163,176)",
           "rgb(222,87,196)",
           "rgb(143,225,134)",
           "rgb(131,147,191)",
           "rgb(245,18,13)",
           "rgb(239,135,156)",
           "rgb(123,23,195)",
           "rgb(190,79,78)",
           "rgb(213,18,224)",
           "rgb(65,151,238)",
           "rgb(172,105,175)",
           "rgb(87,70,254)",
           "rgb(191,164,90)",
           "rgb(12,7,141)",
           "rgb(194,137,214)",
           "rgb(8,93,60)",
           "rgb(114,18,243)",
           "rgb(56,235,108)",
           "rgb(251,141,237)",
           "rgb(1,190,230)",
           "rgb(35,24,108)",
           "rgb(238,138,134)",
           "rgb(35,0,206)",
           "rgb(22,161,233)",
           "rgb(53,169,20)",
           "rgb(153,41,187)",
           "rgb(76,118,152)",
           "rgb(43,189,77)",
           "rgb(168,40,175)",
           "rgb(32,108,63)",
           "rgb(190,66,224)",
           "rgb(227,50,156)",
           "rgb(22,99,181)",
           "rgb(168,159,72)",
           "rgb(96,26,183)",
           "rgb(128,180,63)",
           "rgb(82,85,6)",
           "rgb(86,204,228)",
           "rgb(132,116,7)",
           "rgb(224,3,240)",
           "rgb(124,87,235)",
           "rgb(6,148,139)",
           "rgb(55,109,166)",
           "rgb(185,0,238)",
           "rgb(41,59,67)",
           "rgb(9,31,251)",
           "rgb(80,29,27)",
           "rgb(183,217,65)",
           "rgb(5,56,14)",
           "rgb(26,110,58)",
           "rgb(131,64,239)",
           "rgb(231,144,90)",
           "rgb(97,105,185)",
           "rgb(115,218,240)",
           "rgb(85,142,24)",
           "rgb(51,105,52)",
           "rgb(223,40,116)",
           "rgb(154,176,97)",
           "rgb(221,144,112)",
           "rgb(17,118,209)",
           "rgb(156,212,125)",
           "rgb(30,3,77)",
           "rgb(177,201,75)",
           "rgb(126,107,104)",
           "rgb(58,34,50)",
           "rgb(14,50,2)",
           "rgb(159,80,248)",
           "rgb(49,88,91)",
           "rgb(2,213,8)",
           "rgb(239,227,136)",
           "rgb(138,166,98)",
           "rgb(165,11,13)",
           "rgb(116,140,226)",
           "rgb(26,209,53)",
           "rgb(100,80,102)",
           "rgb(38,128,204)",
           "rgb(112,125,216)",
           "rgb(180,125,65)",
           "rgb(225,147,56)",
           "rgb(68,204,11)",
           "rgb(252,33,202)",
           "rgb(100,125,224)",
           "rgb(105,137,12)",
           "rgb(0,62,173)",
           "rgb(30,29,104)",
           "rgb(165,181,45)",
           "rgb(20,239,66)",
           "rgb(217,220,196)",
           "rgb(43,209,196)"
          ],
          "opacity": 0.8,
          "size": 2
         },
         "mode": "markers",
         "type": "scatter3d",
         "x": {
          "bdata": "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",
          "dtype": "f8"
         },
         "y": {
          "bdata": "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",
          "dtype": "f8"
         },
         "z": {
          "bdata": "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",
          "dtype": "f8"
         }
        }
       ],
       "layout": {
        "margin": {
         "b": 0,
         "l": 0,
         "r": 0,
         "t": 30
        },
        "scene": {
         "aspectmode": "cube",
         "xaxis": {
          "range": [
           -101.27095494538938,
           70.8268174878161
          ]
         },
         "yaxis": {
          "range": [
           -89.09057794708139,
           83.00719448612409
          ]
         },
         "zaxis": {
          "range": [
           16.93894065974345,
           189.03671309294893
          ]
         }
        },
        "template": {
         "data": {
          "bar": [
           {
            "error_x": {
             "color": "#2a3f5f"
            },
            "error_y": {
             "color": "#2a3f5f"
            },
            "marker": {
             "line": {
              "color": "#E5ECF6",
              "width": 0.5
             },
             "pattern": {
              "fillmode": "overlay",
              "size": 10,
              "solidity": 0.2
             }
            },
            "type": "bar"
           }
          ],
          "barpolar": [
           {
            "marker": {
             "line": {
              "color": "#E5ECF6",
              "width": 0.5
             },
             "pattern": {
              "fillmode": "overlay",
              "size": 10,
              "solidity": 0.2
             }
            },
            "type": "barpolar"
           }
          ],
          "carpet": [
           {
            "aaxis": {
             "endlinecolor": "#2a3f5f",
             "gridcolor": "white",
             "linecolor": "white",
             "minorgridcolor": "white",
             "startlinecolor": "#2a3f5f"
            },
            "baxis": {
             "endlinecolor": "#2a3f5f",
             "gridcolor": "white",
             "linecolor": "white",
             "minorgridcolor": "white",
             "startlinecolor": "#2a3f5f"
            },
            "type": "carpet"
           }
          ],
          "choropleth": [
           {
            "colorbar": {
             "outlinewidth": 0,
             "ticks": ""
            },
            "type": "choropleth"
           }
          ],
          "contour": [
           {
            "colorbar": {
             "outlinewidth": 0,
             "ticks": ""
            },
            "colorscale": [
             [
              0,
              "#0d0887"
             ],
             [
              0.1111111111111111,
              "#46039f"
             ],
             [
              0.2222222222222222,
              "#7201a8"
             ],
             [
              0.3333333333333333,
              "#9c179e"
             ],
             [
              0.4444444444444444,
              "#bd3786"
             ],
             [
              0.5555555555555556,
              "#d8576b"
             ],
             [
              0.6666666666666666,
              "#ed7953"
             ],
             [
              0.7777777777777778,
              "#fb9f3a"
             ],
             [
              0.8888888888888888,
              "#fdca26"
             ],
             [
              1,
              "#f0f921"
             ]
            ],
            "type": "contour"
           }
          ],
          "contourcarpet": [
           {
            "colorbar": {
             "outlinewidth": 0,
             "ticks": ""
            },
            "type": "contourcarpet"
           }
          ],
          "heatmap": [
           {
            "colorbar": {
             "outlinewidth": 0,
             "ticks": ""
            },
            "colorscale": [
             [
              0,
              "#0d0887"
             ],
             [
              0.1111111111111111,
              "#46039f"
             ],
             [
              0.2222222222222222,
              "#7201a8"
             ],
             [
              0.3333333333333333,
              "#9c179e"
             ],
             [
              0.4444444444444444,
              "#bd3786"
             ],
             [
              0.5555555555555556,
              "#d8576b"
             ],
             [
              0.6666666666666666,
              "#ed7953"
             ],
             [
              0.7777777777777778,
              "#fb9f3a"
             ],
             [
              0.8888888888888888,
              "#fdca26"
             ],
             [
              1,
              "#f0f921"
             ]
            ],
            "type": "heatmap"
           }
          ],
          "histogram": [
           {
            "marker": {
             "pattern": {
              "fillmode": "overlay",
              "size": 10,
              "solidity": 0.2
             }
            },
            "type": "histogram"
           }
          ],
          "histogram2d": [
           {
            "colorbar": {
             "outlinewidth": 0,
             "ticks": ""
            },
            "colorscale": [
             [
              0,
              "#0d0887"
             ],
             [
              0.1111111111111111,
              "#46039f"
             ],
             [
              0.2222222222222222,
              "#7201a8"
             ],
             [
              0.3333333333333333,
              "#9c179e"
             ],
             [
              0.4444444444444444,
              "#bd3786"
             ],
             [
              0.5555555555555556,
              "#d8576b"
             ],
             [
              0.6666666666666666,
              "#ed7953"
             ],
             [
              0.7777777777777778,
              "#fb9f3a"
             ],
             [
              0.8888888888888888,
              "#fdca26"
             ],
             [
              1,
              "#f0f921"
             ]
            ],
            "type": "histogram2d"
           }
          ],
          "histogram2dcontour": [
           {
            "colorbar": {
             "outlinewidth": 0,
             "ticks": ""
            },
            "colorscale": [
             [
              0,
              "#0d0887"
             ],
             [
              0.1111111111111111,
              "#46039f"
             ],
             [
              0.2222222222222222,
              "#7201a8"
             ],
             [
              0.3333333333333333,
              "#9c179e"
             ],
             [
              0.4444444444444444,
              "#bd3786"
             ],
             [
              0.5555555555555556,
              "#d8576b"
             ],
             [
              0.6666666666666666,
              "#ed7953"
             ],
             [
              0.7777777777777778,
              "#fb9f3a"
             ],
             [
              0.8888888888888888,
              "#fdca26"
             ],
             [
              1,
              "#f0f921"
             ]
            ],
            "type": "histogram2dcontour"
           }
          ],
          "mesh3d": [
           {
            "colorbar": {
             "outlinewidth": 0,
             "ticks": ""
            },
            "type": "mesh3d"
           }
          ],
          "parcoords": [
           {
            "line": {
             "colorbar": {
              "outlinewidth": 0,
              "ticks": ""
             }
            },
            "type": "parcoords"
           }
          ],
          "pie": [
           {
            "automargin": true,
            "type": "pie"
           }
          ],
          "scatter": [
           {
            "fillpattern": {
             "fillmode": "overlay",
             "size": 10,
             "solidity": 0.2
            },
            "type": "scatter"
           }
          ],
          "scatter3d": [
           {
            "line": {
             "colorbar": {
              "outlinewidth": 0,
              "ticks": ""
             }
            },
            "marker": {
             "colorbar": {
              "outlinewidth": 0,
              "ticks": ""
             }
            },
            "type": "scatter3d"
           }
          ],
          "scattercarpet": [
           {
            "marker": {
             "colorbar": {
              "outlinewidth": 0,
              "ticks": ""
             }
            },
            "type": "scattercarpet"
           }
          ],
          "scattergeo": [
           {
            "marker": {
             "colorbar": {
              "outlinewidth": 0,
              "ticks": ""
             }
            },
            "type": "scattergeo"
           }
          ],
          "scattergl": [
           {
            "marker": {
             "colorbar": {
              "outlinewidth": 0,
              "ticks": ""
             }
            },
            "type": "scattergl"
           }
          ],
          "scattermap": [
           {
            "marker": {
             "colorbar": {
              "outlinewidth": 0,
              "ticks": ""
             }
            },
            "type": "scattermap"
           }
          ],
          "scattermapbox": [
           {
            "marker": {
             "colorbar": {
              "outlinewidth": 0,
              "ticks": ""
             }
            },
            "type": "scattermapbox"
           }
          ],
          "scatterpolar": [
           {
            "marker": {
             "colorbar": {
              "outlinewidth": 0,
              "ticks": ""
             }
            },
            "type": "scatterpolar"
           }
          ],
          "scatterpolargl": [
           {
            "marker": {
             "colorbar": {
              "outlinewidth": 0,
              "ticks": ""
             }
            },
            "type": "scatterpolargl"
           }
          ],
          "scatterternary": [
           {
            "marker": {
             "colorbar": {
              "outlinewidth": 0,
              "ticks": ""
             }
            },
            "type": "scatterternary"
           }
          ],
          "surface": [
           {
            "colorbar": {
             "outlinewidth": 0,
             "ticks": ""
            },
            "colorscale": [
             [
              0,
              "#0d0887"
             ],
             [
              0.1111111111111111,
              "#46039f"
             ],
             [
              0.2222222222222222,
              "#7201a8"
             ],
             [
              0.3333333333333333,
              "#9c179e"
             ],
             [
              0.4444444444444444,
              "#bd3786"
             ],
             [
              0.5555555555555556,
              "#d8576b"
             ],
             [
              0.6666666666666666,
              "#ed7953"
             ],
             [
              0.7777777777777778,
              "#fb9f3a"
             ],
             [
              0.8888888888888888,
              "#fdca26"
             ],
             [
              1,
              "#f0f921"
             ]
            ],
            "type": "surface"
           }
          ],
          "table": [
           {
            "cells": {
             "fill": {
              "color": "#EBF0F8"
             },
             "line": {
              "color": "white"
             }
            },
            "header": {
             "fill": {
              "color": "#C8D4E3"
             },
             "line": {
              "color": "white"
             }
            },
            "type": "table"
           }
          ]
         },
         "layout": {
          "annotationdefaults": {
           "arrowcolor": "#2a3f5f",
           "arrowhead": 0,
           "arrowwidth": 1
          },
          "autotypenumbers": "strict",
          "coloraxis": {
           "colorbar": {
            "outlinewidth": 0,
            "ticks": ""
           }
          },
          "colorscale": {
           "diverging": [
            [
             0,
             "#8e0152"
            ],
            [
             0.1,
             "#c51b7d"
            ],
            [
             0.2,
             "#de77ae"
            ],
            [
             0.3,
             "#f1b6da"
            ],
            [
             0.4,
             "#fde0ef"
            ],
            [
             0.5,
             "#f7f7f7"
            ],
            [
             0.6,
             "#e6f5d0"
            ],
            [
             0.7,
             "#b8e186"
            ],
            [
             0.8,
             "#7fbc41"
            ],
            [
             0.9,
             "#4d9221"
            ],
            [
             1,
             "#276419"
            ]
           ],
           "sequential": [
            [
             0,
             "#0d0887"
            ],
            [
             0.1111111111111111,
             "#46039f"
            ],
            [
             0.2222222222222222,
             "#7201a8"
            ],
            [
             0.3333333333333333,
             "#9c179e"
            ],
            [
             0.4444444444444444,
             "#bd3786"
            ],
            [
             0.5555555555555556,
             "#d8576b"
            ],
            [
             0.6666666666666666,
             "#ed7953"
            ],
            [
             0.7777777777777778,
             "#fb9f3a"
            ],
            [
             0.8888888888888888,
             "#fdca26"
            ],
            [
             1,
             "#f0f921"
            ]
           ],
           "sequentialminus": [
            [
             0,
             "#0d0887"
            ],
            [
             0.1111111111111111,
             "#46039f"
            ],
            [
             0.2222222222222222,
             "#7201a8"
            ],
            [
             0.3333333333333333,
             "#9c179e"
            ],
            [
             0.4444444444444444,
             "#bd3786"
            ],
            [
             0.5555555555555556,
             "#d8576b"
            ],
            [
             0.6666666666666666,
             "#ed7953"
            ],
            [
             0.7777777777777778,
             "#fb9f3a"
            ],
            [
             0.8888888888888888,
             "#fdca26"
            ],
            [
             1,
             "#f0f921"
            ]
           ]
          },
          "colorway": [
           "#636efa",
           "#EF553B",
           "#00cc96",
           "#ab63fa",
           "#FFA15A",
           "#19d3f3",
           "#FF6692",
           "#B6E880",
           "#FF97FF",
           "#FECB52"
          ],
          "font": {
           "color": "#2a3f5f"
          },
          "geo": {
           "bgcolor": "white",
           "lakecolor": "white",
           "landcolor": "#E5ECF6",
           "showlakes": true,
           "showland": true,
           "subunitcolor": "white"
          },
          "hoverlabel": {
           "align": "left"
          },
          "hovermode": "closest",
          "mapbox": {
           "style": "light"
          },
          "paper_bgcolor": "white",
          "plot_bgcolor": "#E5ECF6",
          "polar": {
           "angularaxis": {
            "gridcolor": "white",
            "linecolor": "white",
            "ticks": ""
           },
           "bgcolor": "#E5ECF6",
           "radialaxis": {
            "gridcolor": "white",
            "linecolor": "white",
            "ticks": ""
           }
          },
          "scene": {
           "xaxis": {
            "backgroundcolor": "#E5ECF6",
            "gridcolor": "white",
            "gridwidth": 2,
            "linecolor": "white",
            "showbackground": true,
            "ticks": "",
            "zerolinecolor": "white"
           },
           "yaxis": {
            "backgroundcolor": "#E5ECF6",
            "gridcolor": "white",
            "gridwidth": 2,
            "linecolor": "white",
            "showbackground": true,
            "ticks": "",
            "zerolinecolor": "white"
           },
           "zaxis": {
            "backgroundcolor": "#E5ECF6",
            "gridcolor": "white",
            "gridwidth": 2,
            "linecolor": "white",
            "showbackground": true,
            "ticks": "",
            "zerolinecolor": "white"
           }
          },
          "shapedefaults": {
           "line": {
            "color": "#2a3f5f"
           }
          },
          "ternary": {
           "aaxis": {
            "gridcolor": "white",
            "linecolor": "white",
            "ticks": ""
           },
           "baxis": {
            "gridcolor": "white",
            "linecolor": "white",
            "ticks": ""
           },
           "bgcolor": "#E5ECF6",
           "caxis": {
            "gridcolor": "white",
            "linecolor": "white",
            "ticks": ""
           }
          },
          "title": {
           "x": 0.05
          },
          "xaxis": {
           "automargin": true,
           "gridcolor": "white",
           "linecolor": "white",
           "ticks": "",
           "title": {
            "standoff": 15
           },
           "zerolinecolor": "white",
           "zerolinewidth": 2
          },
          "yaxis": {
           "automargin": true,
           "gridcolor": "white",
           "linecolor": "white",
           "ticks": "",
           "title": {
            "standoff": 15
           },
           "zerolinecolor": "white",
           "zerolinewidth": 2
          }
         }
        },
        "title": {
         "text": "Sparse 3D Reconstruction"
        }
       }
      }
     },
     "metadata": {},
     "output_type": "display_data"
    },
    {
     "name": "stdout",
     "output_type": "stream",
     "text": [
      "Saved sparse point cloud to ../data/results/dinosaur_sparse.ply\n"
     ]
    }
   ],
   "source": [
    "# Triangulate 3D points\n",
    "print(\"\\nTriangulating 3D points...\")\n",
    "points_3d, point_observations = triangulate_all_points(camera_poses, matches_dict, K)\n",
    "\n",
    "print(f\"Triangulated {len(points_3d)} 3D points.\")\n",
    "\n",
    "# Merge close points to reduce noise\n",
    "merged_points, merged_observations = merge_triangulated_points(points_3d, point_observations, threshold=0.002)\n",
    "print(f\"After merging: {len(merged_points)} 3D points.\")\n",
    "\n",
    "# Bundle adjustment to refine camera poses and 3D points\n",
    "if config['sfm']['refine_poses'] and len(merged_points) > 0:\n",
    "    print(\"\\nRunning bundle adjustment...\")\n",
    "    refined_poses, refined_points, _ = run_global_ba(camera_poses, matches_dict, K, iterations=50)\n",
    "    points_3d = refined_points\n",
    "    print(\"Bundle adjustment complete.\")\n",
    "\n",
    "plot_interactive_camera_poses(refined_poses)\n",
    "\n",
    "# Visualize sparse point cloud\n",
    "if len(points_3d) > 0:\n",
    "    print(\"\\nVisualizing sparse point cloud...\")\n",
    "    points_array = np.array(points_3d)\n",
    "    \n",
    "    # Assign random colors for visualization\n",
    "    np.random.seed(42)  # For reproducibility\n",
    "    colors = np.random.rand(len(points_array), 3)\n",
    "    \n",
    "    # Interactive visualization\n",
    "    plot_interactive_point_cloud(points_array, colors, title=\"Sparse 3D Reconstruction\")\n",
    "\n",
    "    # Save sparse point cloud\n",
    "    sparse_cloud_file = os.path.join(output_dir, \"dinosaur_sparse.ply\")\n",
    "    pcd = o3d.geometry.PointCloud()\n",
    "    pcd.points = o3d.utility.Vector3dVector(points_array)\n",
    "    pcd.colors = o3d.utility.Vector3dVector(colors)\n",
    "    o3d.io.write_point_cloud(sparse_cloud_file, pcd)\n",
    "    print(f\"Saved sparse point cloud to {sparse_cloud_file}\")"
   ]
  },
  {
   "cell_type": "code",
   "execution_count": null,
   "metadata": {},
   "outputs": [],
   "source": [
    "# Significantly modified MVS configuration optimized for challenging objects like dinosaur figurines\n",
    "improved_mvs_config = {\n",
    "    'min_disparity': 0,\n",
    "    'num_disparities': 192,      # Increased for better depth range coverage\n",
    "    'block_size': 13,            # Larger block for smooth surfaces\n",
    "    'filter_depths': True,\n",
    "    'consistency_threshold': 0.18, # Much more permissive threshold for challenging textures\n",
    "    'num_source_views': 6,       # Use more source views\n",
    "    'speckle_size': 150,         # Increased speckle filtering\n",
    "    'speckle_range': 3,          # Slightly increased range\n",
    "    'uniqueness_ratio': 5,       # Lower ratio to capture more potential matches\n",
    "    'pre_filter_cap': 31\n",
    "}\n",
    "\n",
    "# Run MVS with improved parameters using hybrid approach - both clean and original images\n",
    "print(\"\\nRunning Multi-View Stereo with hybrid approach...\")\n",
    "\n",
    "# Create hybrid image list that combines black background and original images\n",
    "hybrid_images = []\n",
    "for name in camera_poses.keys():\n",
    "    # First find the original background image\n",
    "    orig_img = next((img for img, filename in original_images if filename == name), None)\n",
    "    # Also find the black background image\n",
    "    black_img = next((img for img, filename in black_images if filename == name), None)\n",
    "    \n",
    "    if orig_img is not None and black_img is not None:\n",
    "        # Create a mask from the black background image\n",
    "        if len(black_img.shape) == 3:\n",
    "            gray = cv2.cvtColor(black_img, cv2.COLOR_RGB2GRAY)\n",
    "        else:\n",
    "            gray = black_img\n",
    "        \n",
    "        # Create binary mask (non-black areas)\n",
    "        _, mask = cv2.threshold(gray, 10, 255, cv2.THRESH_BINARY)\n",
    "        \n",
    "        # Add preprocessing to enhance texture\n",
    "        # Apply CLAHE to original image to enhance texture\n",
    "        if len(orig_img.shape) == 3:\n",
    "            lab = cv2.cvtColor(orig_img, cv2.COLOR_RGB2LAB)\n",
    "            l, a, b = cv2.split(lab)\n",
    "            clahe = cv2.createCLAHE(clipLimit=3.0, tileGridSize=(8, 8))\n",
    "            cl = clahe.apply(l)\n",
    "            enhanced_lab = cv2.merge((cl, a, b))\n",
    "            enhanced_orig = cv2.cvtColor(enhanced_lab, cv2.COLOR_LAB2RGB)\n",
    "        else:\n",
    "            clahe = cv2.createCLAHE(clipLimit=3.0, tileGridSize=(8, 8))\n",
    "            enhanced_orig = clahe.apply(orig_img)\n",
    "        \n",
    "        # Use the original image (with texture enhancement) for MVS\n",
    "        hybrid_images.append((enhanced_orig, name))\n",
    "    elif orig_img is not None:\n",
    "        # Fall back to original if no black background version exists\n",
    "        hybrid_images.append((orig_img, name))\n",
    "    elif black_img is not None:\n",
    "        # Fall back to black background if no original version exists\n",
    "        hybrid_images.append((black_img, name))\n",
    "\n",
    "mvs_results = process_mvs(hybrid_images, camera_poses, K, config['mvs'])\n",
    "\n",
    "# Extract depth maps\n",
    "depth_maps = mvs_results['filtered_depth_maps']\n",
    "confidence_maps = mvs_results['confidence_maps']\n",
    "\n",
    "print(f\"Generated {len(depth_maps)} depth maps.\")\n",
    "\n",
    "# Apply additional post-processing to improve depth maps\n",
    "print(\"Applying additional depth map enhancement...\")\n",
    "enhanced_depth_maps = {}\n",
    "\n",
    "for name, depth_map in depth_maps.items():\n",
    "    # Find valid depths\n",
    "    valid_mask = depth_map > 0\n",
    "    \n",
    "    if np.sum(valid_mask) > 0:\n",
    "        # Apply median filter to remove noise (with larger kernel)\n",
    "        filtered_depth = cv2.medianBlur(depth_map, 5)\n",
    "        \n",
    "        # Fill small holes using morphological operations\n",
    "        kernel = np.ones((5, 5), np.uint8)\n",
    "        valid_mask_filled = cv2.morphologyEx(valid_mask.astype(np.uint8), cv2.MORPH_CLOSE, kernel)\n",
    "        \n",
    "        # Use a more aggressive bilateral filter to smooth while preserving edges\n",
    "        smoothed_depth = cv2.bilateralFilter(filtered_depth, 9, 75, 75)\n",
    "        \n",
    "        # Combine the results\n",
    "        enhanced_depth = smoothed_depth.copy()\n",
    "        \n",
    "        # Keep only the valid regions after morphological operations\n",
    "        enhanced_depth[valid_mask_filled == 0] = 0\n",
    "        \n",
    "        enhanced_depth_maps[name] = enhanced_depth\n",
    "    else:\n",
    "        enhanced_depth_maps[name] = depth_map\n",
    "\n",
    "# Replace the original depth maps with enhanced ones\n",
    "depth_maps = enhanced_depth_maps\n",
    "\n",
    "# Visualize a sample depth map\n",
    "if len(depth_maps) > 0:\n",
    "    # Choose a sample depth map\n",
    "    sample_name = list(depth_maps.keys())[0]\n",
    "    depth_map = depth_maps[sample_name]\n",
    "    \n",
    "    # Normalize depth for visualization\n",
    "    valid_mask = depth_map > 0\n",
    "    if np.any(valid_mask):\n",
    "        min_depth = np.min(depth_map[valid_mask])\n",
    "        max_depth = np.max(depth_map[valid_mask])\n",
    "        normalized_depth = np.zeros_like(depth_map)\n",
    "        normalized_depth[valid_mask] = (depth_map[valid_mask] - min_depth) / (max_depth - min_depth)\n",
    "        \n",
    "        # Display depth map with improved color mapping\n",
    "        plt.figure(figsize=(10, 8))\n",
    "        plt.imshow(normalized_depth, cmap='turbo')  # Using turbo colormap for better depth visualization\n",
    "        plt.colorbar(label='Normalized Depth')\n",
    "        plt.title(f\"Enhanced Depth Map: {sample_name}\")\n",
    "        plt.axis('off')\n",
    "        plt.show()\n",
    "        \n",
    "        # Also show the confidence map\n",
    "        conf_map = confidence_maps[sample_name]\n",
    "        plt.figure(figsize=(10, 8))\n",
    "        plt.imshow(conf_map, cmap='viridis')\n",
    "        plt.colorbar(label='Confidence')\n",
    "        plt.title(f\"Confidence Map: {sample_name}\")\n",
    "        plt.axis('off')\n",
    "        plt.show()\n",
    "\n",
    "# Enhanced point cloud settings specifically for challenging objects like dinosaur models\n",
    "enhanced_point_cloud_config = {\n",
    "    'voxel_size': 0.02,           # Smaller voxel size for more detail\n",
    "    'nb_neighbors': 30,           # More neighbors for better outlier detection\n",
    "    'std_ratio': 2.5,             # More permissive outlier rejection\n",
    "    'confidence_threshold': 0.3    # Lower threshold to include more points\n",
    "}\n",
    "\n",
    "# Generate dense point cloud with size limits\n",
    "print(\"\\nGenerating dense point cloud from depth maps...\")\n",
    "dense_results = process_dense_reconstruction(\n",
    "    hybrid_images, camera_poses, K, depth_maps, confidence_maps, enhanced_point_cloud_config)\n",
    "\n",
    "# Extract results\n",
    "dense_points = dense_results['filtered_points']\n",
    "dense_colors = dense_results['filtered_colors']\n",
    "\n",
    "# Limit point cloud size if needed\n",
    "if len(dense_points) > 500000:\n",
    "    print(f\"Point cloud too large ({len(dense_points)} points), downsampling to ~500K points...\")\n",
    "    pcd = o3d.geometry.PointCloud()\n",
    "    pcd.points = o3d.utility.Vector3dVector(dense_points)\n",
    "    pcd.colors = o3d.utility.Vector3dVector(dense_colors)\n",
    "    \n",
    "    # Gradually increase voxel size until points are under 500K\n",
    "    target_size = 500000\n",
    "    voxel_size = 0.025\n",
    "    while len(pcd.points) > target_size and voxel_size < 0.1:\n",
    "        voxel_size += 0.01\n",
    "        pcd = pcd.voxel_down_sample(voxel_size)\n",
    "        print(f\"Downsampled to {len(pcd.points)} points with voxel size {voxel_size:.2f}\")\n",
    "    \n",
    "    dense_points = np.asarray(pcd.points)\n",
    "    dense_colors = np.asarray(pcd.colors)\n",
    "\n",
    "if len(dense_points) > 0:\n",
    "    print(f\"Final point cloud contains {len(dense_points)} points.\")\n",
    "    \n",
    "    # Visualize dense point cloud\n",
    "    plot_interactive_point_cloud(dense_points, dense_colors, title=\"Dense 3D Reconstruction\")\n",
    "    \n",
    "    # Save dense point cloud\n",
    "    dense_cloud_file = os.path.join(output_dir, \"dinosaur_dense.ply\")\n",
    "    pcd = o3d.geometry.PointCloud()\n",
    "    pcd.points = o3d.utility.Vector3dVector(dense_points)\n",
    "    pcd.colors = o3d.utility.Vector3dVector(dense_colors)\n",
    "    o3d.io.write_point_cloud(dense_cloud_file, pcd)\n",
    "    print(f\"Saved dense point cloud to {dense_cloud_file}\")\n",
    "    \n",
    "    # Create mesh with optimized parameters for dinosaur model\n",
    "    mesh_config = {\n",
    "        'method': 'poisson',\n",
    "        'depth': 9,             # Higher depth for more detail\n",
    "        'scale': 1.1,           # Slightly aggressive weighing\n",
    "        'cleanup': True\n",
    "    }\n",
    "    \n",
    "    print(\"\\nCreating mesh from point cloud...\")\n",
    "    # Compute normals with better parameters\n",
    "    print(\"Computing normals with optimized parameters...\")\n",
    "    pcd = o3d.geometry.PointCloud()\n",
    "    pcd.points = o3d.utility.Vector3dVector(dense_points)\n",
    "    pcd.colors = o3d.utility.Vector3dVector(dense_colors)\n",
    "    \n",
    "    # Use more neighbors for smoother normals on the dinosaur surface\n",
    "    pcd.estimate_normals(search_param=o3d.geometry.KDTreeSearchParamHybrid(radius=0.1, max_nn=30))\n",
    "    pcd.orient_normals_consistent_tangent_plane(k=20)\n",
    "    \n",
    "    normals = np.asarray(pcd.normals)\n",
    "    \n",
    "    # Create mesh\n",
    "    mesh = create_surface_mesh(\n",
    "        dense_points, \n",
    "        dense_colors, \n",
    "        normals,\n",
    "        method=mesh_config['method'], \n",
    "        depth=mesh_config['depth']\n",
    "    )\n",
    "    \n",
    "    if mesh:\n",
    "        # Clean the mesh\n",
    "        print(\"Cleaning mesh to improve quality...\")\n",
    "        mesh = clean_mesh(mesh, detail_level=3)\n",
    "        \n",
    "        # Optional: apply Laplacian smoothing to get smoother dinosaur surface\n",
    "        print(\"Applying final smoothing to improve surface quality...\")\n",
    "        mesh = mesh.filter_smooth_taubin(number_of_iterations=10)\n",
    "        \n",
    "        # Save the mesh\n",
    "        mesh_file = os.path.join(output_dir, \"dinosaur_mesh.ply\")\n",
    "        save_mesh(mesh, mesh_file)\n",
    "        print(f\"Saved mesh to {mesh_file}\")\n",
    "        \n",
    "        # Visualize the mesh\n",
    "        visualize_mesh_o3d(mesh, window_name=\"Dinosaur 3D Mesh\")"
   ]
  },
  {
   "cell_type": "code",
   "execution_count": null,
   "metadata": {},
   "outputs": [],
   "source": [
    "# Generate mesh from dense point cloud\n",
    "print(\"\\nGenerating surface mesh...\")\n",
    "mesh, pcd = process_point_cloud_to_mesh(\n",
    "    dense_points, dense_colors, method=config['surface']['method'])\n",
    "\n",
    "# Display mesh statistics\n",
    "print(f\"Mesh contains {len(mesh.vertices)} vertices and {len(mesh.triangles)} triangles.\")\n",
    "\n",
    "# Visualize mesh (this will open an Open3D window)\n",
    "print(\"\\nVisualizing mesh (this will open a new window)...\")\n",
    "visualize_mesh_o3d(mesh, window_name=\"Reconstructed Mesh\")\n",
    "\n",
    "# Save mesh\n",
    "mesh_file = os.path.join(output_dir, \"dinosaur_mesh.ply\")\n",
    "o3d.io.write_triangle_mesh(mesh_file, mesh)\n",
    "print(f\"Saved mesh to {mesh_file}\")"
   ]
  },
  {
   "cell_type": "code",
   "execution_count": null,
   "metadata": {},
   "outputs": [],
   "source": [
    "# Generate textured mesh\n",
    "print(\"\\nGenerating textured mesh...\")\n",
    "textured_mesh = create_textured_mesh_from_point_cloud(\n",
    "    dense_points, dense_colors, images, camera_poses, K, \n",
    "    reconstruction_method=config['surface']['method'])\n",
    "\n",
    "# Visualize textured mesh (this will open an Open3D window)\n",
    "print(\"\\nVisualizing textured mesh (this will open a new window)...\")\n",
    "visualize_mesh_o3d(textured_mesh, window_name=\"Textured Mesh\")\n",
    "\n",
    "# Save textured mesh\n",
    "textured_mesh_file = os.path.join(output_dir, \"dinosaur_textured.obj\")\n",
    "o3d.io.write_triangle_mesh(textured_mesh_file, textured_mesh)\n",
    "print(f\"Saved textured mesh to {textured_mesh_file}\")"
   ]
  },
  {
   "cell_type": "code",
   "execution_count": null,
   "metadata": {},
   "outputs": [],
   "source": [
    "# Create interactive mesh visualization using Plotly\n",
    "print(\"\\nCreating interactive mesh visualization...\")\n",
    "\n",
    "# Extract mesh data for Plotly\n",
    "vertices = np.asarray(mesh.vertices)\n",
    "triangles = np.asarray(mesh.triangles)\n",
    "vertex_colors = np.asarray(mesh.vertex_colors) if mesh.has_vertex_colors() else None\n",
    "\n",
    "# Create interactive plot\n",
    "plot_interactive_mesh(vertices, triangles, vertex_colors, title=\"Interactive 3D Dinosaur Model\")\n",
    "\n",
    "# Create rotating animation (optional)\n",
    "print(\"\\nCreating 360° animation of the model...\")\n",
    "animation = create_point_cloud_animation(\n",
    "    dense_points, dense_colors, n_frames=36, \n",
    "    output_file=os.path.join(output_dir, \"dinosaur_animation.html\"))\n",
    "\n",
    "print(\"\\n3D reconstruction pipeline complete!\")\n",
    "print(f\"All results saved to: {output_dir}\")\n",
    "\n",
    "# Display summary of the reconstruction\n",
    "print(\"\\nReconstruction Summary:\")\n",
    "print(f\"Images processed: {len(images)}\")\n",
    "print(f\"Camera poses estimated: {len(camera_poses)}\")\n",
    "print(f\"Sparse points: {len(points_3d)}\")\n",
    "print(f\"Dense points: {len(dense_points)}\")\n",
    "print(f\"Mesh vertices: {len(mesh.vertices)}\")\n",
    "print(f\"Mesh triangles: {len(mesh.triangles)}\")"
   ]
  },
  {
   "cell_type": "code",
   "execution_count": null,
   "metadata": {},
   "outputs": [],
   "source": [
    "# Simplify and optimize mesh for 3D printing (optional)\n",
    "print(\"\\nOptimizing mesh for export...\")\n",
    "\n",
    "# Make a copy of the mesh for optimization\n",
    "export_mesh = o3d.geometry.TriangleMesh(mesh)\n",
    "\n",
    "# Remove any non-manifold edges\n",
    "export_mesh.remove_non_manifold_edges()\n",
    "\n",
    "# Fill holes\n",
    "export_mesh = export_mesh.filter_smooth_simple(5)  # Smooth mesh\n",
    "\n",
    "# Simplify mesh to reduce polygon count\n",
    "target_triangles = int(len(export_mesh.triangles) * 0.5)  # Reduce to 50%\n",
    "export_mesh = export_mesh.simplify_quadric_decimation(target_triangles)\n",
    "\n",
    "# Fix mesh normals\n",
    "export_mesh.compute_vertex_normals()\n",
    "\n",
    "# Save optimized mesh in multiple formats\n",
    "o3d.io.write_triangle_mesh(os.path.join(output_dir, \"dinosaur_optimized.obj\"), export_mesh)\n",
    "o3d.io.write_triangle_mesh(os.path.join(output_dir, \"dinosaur_optimized.stl\"), export_mesh)\n",
    "\n",
    "print(\"Optimized mesh exported in OBJ and STL formats, suitable for 3D printing and other applications.\")"
   ]
  }
 ],
 "metadata": {
  "kernelspec": {
   "display_name": "venv",
   "language": "python",
   "name": "python3"
  },
  "language_info": {
   "codemirror_mode": {
    "name": "ipython",
    "version": 3
   },
   "file_extension": ".py",
   "mimetype": "text/x-python",
   "name": "python",
   "nbconvert_exporter": "python",
   "pygments_lexer": "ipython3",
   "version": "3.12.1"
  }
 },
 "nbformat": 4,
 "nbformat_minor": 2
}
